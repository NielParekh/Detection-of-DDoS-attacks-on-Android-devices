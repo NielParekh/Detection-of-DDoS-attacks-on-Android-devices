{
 "cells": [
  {
   "cell_type": "code",
   "execution_count": 11,
   "id": "6cea28bc",
   "metadata": {},
   "outputs": [],
   "source": [
    "import pandas as pd\n",
    "from sklearn.model_selection import train_test_split\n",
    "from sklearn.metrics import accuracy_score, f1_score, precision_score, recall_score, roc_auc_score\n",
    "import pickle\n",
    "from sklearn.metrics import confusion_matrix"
   ]
  },
  {
   "cell_type": "code",
   "execution_count": 4,
   "id": "c41035e2",
   "metadata": {},
   "outputs": [],
   "source": [
    "df=pd.read_csv('labeled_data.csv')"
   ]
  },
  {
   "cell_type": "code",
   "execution_count": 6,
   "id": "1eec08f4",
   "metadata": {},
   "outputs": [
    {
     "data": {
      "text/plain": [
       "Index(['Unnamed: 0', 'src_ip', 'dst_ip', 'src_port', 'dst_port', 'protocol',\n",
       "       'timestamp', 'flow_duration', 'flow_byts_s', 'flow_pkts_s',\n",
       "       'fwd_pkts_s', 'bwd_pkts_s', 'tot_fwd_pkts', 'tot_bwd_pkts',\n",
       "       'totlen_fwd_pkts', 'totlen_bwd_pkts', 'fwd_pkt_len_max',\n",
       "       'fwd_pkt_len_min', 'fwd_pkt_len_mean', 'fwd_pkt_len_std',\n",
       "       'bwd_pkt_len_max', 'bwd_pkt_len_min', 'bwd_pkt_len_mean',\n",
       "       'bwd_pkt_len_std', 'pkt_len_max', 'pkt_len_min', 'pkt_len_mean',\n",
       "       'pkt_len_std', 'pkt_len_var', 'fwd_header_len', 'bwd_header_len',\n",
       "       'fwd_seg_size_min', 'fwd_act_data_pkts', 'flow_iat_mean',\n",
       "       'flow_iat_max', 'flow_iat_min', 'flow_iat_std', 'fwd_iat_tot',\n",
       "       'fwd_iat_max', 'fwd_iat_min', 'fwd_iat_mean', 'fwd_iat_std',\n",
       "       'bwd_iat_tot', 'bwd_iat_max', 'bwd_iat_min', 'bwd_iat_mean',\n",
       "       'bwd_iat_std', 'fwd_psh_flags', 'bwd_psh_flags', 'fwd_urg_flags',\n",
       "       'bwd_urg_flags', 'fin_flag_cnt', 'syn_flag_cnt', 'rst_flag_cnt',\n",
       "       'psh_flag_cnt', 'ack_flag_cnt', 'urg_flag_cnt', 'ece_flag_cnt',\n",
       "       'down_up_ratio', 'pkt_size_avg', 'init_fwd_win_byts',\n",
       "       'init_bwd_win_byts', 'active_max', 'active_min', 'active_mean',\n",
       "       'active_std', 'idle_max', 'idle_min', 'idle_mean', 'idle_std',\n",
       "       'fwd_byts_b_avg', 'fwd_pkts_b_avg', 'bwd_byts_b_avg', 'bwd_pkts_b_avg',\n",
       "       'fwd_blk_rate_avg', 'bwd_blk_rate_avg', 'fwd_seg_size_avg',\n",
       "       'bwd_seg_size_avg', 'cwe_flag_count', 'subflow_fwd_pkts',\n",
       "       'subflow_bwd_pkts', 'subflow_fwd_byts', 'subflow_bwd_byts', 'Label'],\n",
       "      dtype='object')"
      ]
     },
     "execution_count": 6,
     "metadata": {},
     "output_type": "execute_result"
    }
   ],
   "source": [
    "df.columns"
   ]
  },
  {
   "cell_type": "code",
   "execution_count": 7,
   "id": "2076dd66",
   "metadata": {},
   "outputs": [
    {
     "data": {
      "text/html": [
       "<div>\n",
       "<style scoped>\n",
       "    .dataframe tbody tr th:only-of-type {\n",
       "        vertical-align: middle;\n",
       "    }\n",
       "\n",
       "    .dataframe tbody tr th {\n",
       "        vertical-align: top;\n",
       "    }\n",
       "\n",
       "    .dataframe thead th {\n",
       "        text-align: right;\n",
       "    }\n",
       "</style>\n",
       "<table border=\"1\" class=\"dataframe\">\n",
       "  <thead>\n",
       "    <tr style=\"text-align: right;\">\n",
       "      <th></th>\n",
       "      <th>Unnamed: 0</th>\n",
       "      <th>src_ip</th>\n",
       "      <th>dst_ip</th>\n",
       "      <th>src_port</th>\n",
       "      <th>dst_port</th>\n",
       "      <th>protocol</th>\n",
       "      <th>timestamp</th>\n",
       "      <th>flow_duration</th>\n",
       "      <th>flow_byts_s</th>\n",
       "      <th>flow_pkts_s</th>\n",
       "      <th>...</th>\n",
       "      <th>fwd_blk_rate_avg</th>\n",
       "      <th>bwd_blk_rate_avg</th>\n",
       "      <th>fwd_seg_size_avg</th>\n",
       "      <th>bwd_seg_size_avg</th>\n",
       "      <th>cwe_flag_count</th>\n",
       "      <th>subflow_fwd_pkts</th>\n",
       "      <th>subflow_bwd_pkts</th>\n",
       "      <th>subflow_fwd_byts</th>\n",
       "      <th>subflow_bwd_byts</th>\n",
       "      <th>Label</th>\n",
       "    </tr>\n",
       "  </thead>\n",
       "  <tbody>\n",
       "    <tr>\n",
       "      <th>0</th>\n",
       "      <td>0</td>\n",
       "      <td>10.215.173.1</td>\n",
       "      <td>157.240.16.32</td>\n",
       "      <td>48924</td>\n",
       "      <td>443</td>\n",
       "      <td>6</td>\n",
       "      <td>2021-09-15 15:33:24</td>\n",
       "      <td>2525190.0</td>\n",
       "      <td>2094.495860</td>\n",
       "      <td>8.316206</td>\n",
       "      <td>...</td>\n",
       "      <td>0.000000</td>\n",
       "      <td>0.0</td>\n",
       "      <td>126.400000</td>\n",
       "      <td>365.909091</td>\n",
       "      <td>0</td>\n",
       "      <td>10</td>\n",
       "      <td>11</td>\n",
       "      <td>1264</td>\n",
       "      <td>4025</td>\n",
       "      <td>benign</td>\n",
       "    </tr>\n",
       "    <tr>\n",
       "      <th>1</th>\n",
       "      <td>1</td>\n",
       "      <td>10.215.173.1</td>\n",
       "      <td>10.215.173.2</td>\n",
       "      <td>16658</td>\n",
       "      <td>53</td>\n",
       "      <td>17</td>\n",
       "      <td>2021-09-15 15:33:24</td>\n",
       "      <td>43626.0</td>\n",
       "      <td>4148.902031</td>\n",
       "      <td>45.844221</td>\n",
       "      <td>...</td>\n",
       "      <td>0.000000</td>\n",
       "      <td>0.0</td>\n",
       "      <td>68.000000</td>\n",
       "      <td>113.000000</td>\n",
       "      <td>0</td>\n",
       "      <td>1</td>\n",
       "      <td>1</td>\n",
       "      <td>68</td>\n",
       "      <td>113</td>\n",
       "      <td>benign</td>\n",
       "    </tr>\n",
       "    <tr>\n",
       "      <th>2</th>\n",
       "      <td>2</td>\n",
       "      <td>10.215.173.1</td>\n",
       "      <td>157.240.16.53</td>\n",
       "      <td>37292</td>\n",
       "      <td>5222</td>\n",
       "      <td>6</td>\n",
       "      <td>2021-09-15 15:33:24</td>\n",
       "      <td>2504540.0</td>\n",
       "      <td>735.065122</td>\n",
       "      <td>9.183323</td>\n",
       "      <td>...</td>\n",
       "      <td>71225.071225</td>\n",
       "      <td>0.0</td>\n",
       "      <td>70.454545</td>\n",
       "      <td>88.833333</td>\n",
       "      <td>0</td>\n",
       "      <td>11</td>\n",
       "      <td>12</td>\n",
       "      <td>775</td>\n",
       "      <td>1066</td>\n",
       "      <td>benign</td>\n",
       "    </tr>\n",
       "    <tr>\n",
       "      <th>3</th>\n",
       "      <td>3</td>\n",
       "      <td>192.168.101.162</td>\n",
       "      <td>172.217.160.162</td>\n",
       "      <td>39604</td>\n",
       "      <td>443</td>\n",
       "      <td>17</td>\n",
       "      <td>2021-09-15 15:33:24</td>\n",
       "      <td>270572.0</td>\n",
       "      <td>1075.499313</td>\n",
       "      <td>18.479370</td>\n",
       "      <td>...</td>\n",
       "      <td>0.000000</td>\n",
       "      <td>0.0</td>\n",
       "      <td>61.666667</td>\n",
       "      <td>53.000000</td>\n",
       "      <td>0</td>\n",
       "      <td>3</td>\n",
       "      <td>2</td>\n",
       "      <td>185</td>\n",
       "      <td>106</td>\n",
       "      <td>benign</td>\n",
       "    </tr>\n",
       "    <tr>\n",
       "      <th>4</th>\n",
       "      <td>4</td>\n",
       "      <td>10.215.173.1</td>\n",
       "      <td>192.168.101.238</td>\n",
       "      <td>44848</td>\n",
       "      <td>53</td>\n",
       "      <td>17</td>\n",
       "      <td>2021-09-15 15:33:24</td>\n",
       "      <td>230191.0</td>\n",
       "      <td>981.793380</td>\n",
       "      <td>8.688437</td>\n",
       "      <td>...</td>\n",
       "      <td>0.000000</td>\n",
       "      <td>0.0</td>\n",
       "      <td>77.000000</td>\n",
       "      <td>149.000000</td>\n",
       "      <td>0</td>\n",
       "      <td>1</td>\n",
       "      <td>1</td>\n",
       "      <td>77</td>\n",
       "      <td>149</td>\n",
       "      <td>benign</td>\n",
       "    </tr>\n",
       "  </tbody>\n",
       "</table>\n",
       "<p>5 rows × 84 columns</p>\n",
       "</div>"
      ],
      "text/plain": [
       "   Unnamed: 0           src_ip           dst_ip  src_port  dst_port  protocol  \\\n",
       "0           0     10.215.173.1    157.240.16.32     48924       443         6   \n",
       "1           1     10.215.173.1     10.215.173.2     16658        53        17   \n",
       "2           2     10.215.173.1    157.240.16.53     37292      5222         6   \n",
       "3           3  192.168.101.162  172.217.160.162     39604       443        17   \n",
       "4           4     10.215.173.1  192.168.101.238     44848        53        17   \n",
       "\n",
       "             timestamp  flow_duration  flow_byts_s  flow_pkts_s  ...  \\\n",
       "0  2021-09-15 15:33:24      2525190.0  2094.495860     8.316206  ...   \n",
       "1  2021-09-15 15:33:24        43626.0  4148.902031    45.844221  ...   \n",
       "2  2021-09-15 15:33:24      2504540.0   735.065122     9.183323  ...   \n",
       "3  2021-09-15 15:33:24       270572.0  1075.499313    18.479370  ...   \n",
       "4  2021-09-15 15:33:24       230191.0   981.793380     8.688437  ...   \n",
       "\n",
       "   fwd_blk_rate_avg  bwd_blk_rate_avg  fwd_seg_size_avg  bwd_seg_size_avg  \\\n",
       "0          0.000000               0.0        126.400000        365.909091   \n",
       "1          0.000000               0.0         68.000000        113.000000   \n",
       "2      71225.071225               0.0         70.454545         88.833333   \n",
       "3          0.000000               0.0         61.666667         53.000000   \n",
       "4          0.000000               0.0         77.000000        149.000000   \n",
       "\n",
       "   cwe_flag_count  subflow_fwd_pkts  subflow_bwd_pkts  subflow_fwd_byts  \\\n",
       "0               0                10                11              1264   \n",
       "1               0                 1                 1                68   \n",
       "2               0                11                12               775   \n",
       "3               0                 3                 2               185   \n",
       "4               0                 1                 1                77   \n",
       "\n",
       "   subflow_bwd_byts   Label  \n",
       "0              4025  benign  \n",
       "1               113  benign  \n",
       "2              1066  benign  \n",
       "3               106  benign  \n",
       "4               149  benign  \n",
       "\n",
       "[5 rows x 84 columns]"
      ]
     },
     "execution_count": 7,
     "metadata": {},
     "output_type": "execute_result"
    }
   ],
   "source": [
    "df.head()"
   ]
  },
  {
   "cell_type": "code",
   "execution_count": 40,
   "id": "0ed3ca4e",
   "metadata": {},
   "outputs": [
    {
     "name": "stderr",
     "output_type": "stream",
     "text": [
      "/home/saicharan/.local/lib/python3.8/site-packages/sklearn/base.py:324: UserWarning: Trying to unpickle estimator DecisionTreeClassifier from version 0.23.2 when using version 1.0. This might lead to breaking code or invalid results. Use at your own risk. For more info please refer to:\n",
      "https://scikit-learn.org/stable/modules/model_persistence.html#security-maintainability-limitations\n",
      "  warnings.warn(\n",
      "/home/saicharan/.local/lib/python3.8/site-packages/sklearn/base.py:324: UserWarning: Trying to unpickle estimator AdaBoostClassifier from version 0.23.2 when using version 1.0. This might lead to breaking code or invalid results. Use at your own risk. For more info please refer to:\n",
      "https://scikit-learn.org/stable/modules/model_persistence.html#security-maintainability-limitations\n",
      "  warnings.warn(\n"
     ]
    }
   ],
   "source": [
    "ada=pickle.load(open('ada_model.pkl','rb'))"
   ]
  },
  {
   "cell_type": "code",
   "execution_count": 49,
   "id": "674620d5",
   "metadata": {},
   "outputs": [
    {
     "name": "stderr",
     "output_type": "stream",
     "text": [
      "/home/saicharan/.local/lib/python3.8/site-packages/sklearn/base.py:324: UserWarning: Trying to unpickle estimator DecisionTreeClassifier from version 0.23.2 when using version 1.0. This might lead to breaking code or invalid results. Use at your own risk. For more info please refer to:\n",
      "https://scikit-learn.org/stable/modules/model_persistence.html#security-maintainability-limitations\n",
      "  warnings.warn(\n",
      "/home/saicharan/.local/lib/python3.8/site-packages/sklearn/base.py:324: UserWarning: Trying to unpickle estimator RandomForestClassifier from version 0.23.2 when using version 1.0. This might lead to breaking code or invalid results. Use at your own risk. For more info please refer to:\n",
      "https://scikit-learn.org/stable/modules/model_persistence.html#security-maintainability-limitations\n",
      "  warnings.warn(\n"
     ]
    }
   ],
   "source": [
    "rf=pickle.load(open('rf_model.pkl','rb'))"
   ]
  },
  {
   "cell_type": "code",
   "execution_count": 43,
   "id": "1ee9de06",
   "metadata": {},
   "outputs": [],
   "source": [
    "xgb=pickle.load(open('xgb_model.pkl','rb'))"
   ]
  },
  {
   "cell_type": "code",
   "execution_count": 47,
   "id": "0a1ad891",
   "metadata": {},
   "outputs": [
    {
     "name": "stderr",
     "output_type": "stream",
     "text": [
      "/home/saicharan/.local/lib/python3.8/site-packages/sklearn/base.py:324: UserWarning: Trying to unpickle estimator LabelEncoder from version 0.23.2 when using version 1.0. This might lead to breaking code or invalid results. Use at your own risk. For more info please refer to:\n",
      "https://scikit-learn.org/stable/modules/model_persistence.html#security-maintainability-limitations\n",
      "  warnings.warn(\n"
     ]
    }
   ],
   "source": [
    "lgbm=pickle.load(open('lgbm_model.pkl','rb'))"
   ]
  },
  {
   "cell_type": "code",
   "execution_count": 20,
   "id": "b7437fcb",
   "metadata": {},
   "outputs": [],
   "source": [
    "data = [df[\"ack_flag_cnt\"], df[\"init_fwd_win_byts\"],df[\"fwd_seg_size_min\"], df[\"fwd_iat_tot\"],df[\"flow_duration\"], df[\"Label\"]]"
   ]
  },
  {
   "cell_type": "code",
   "execution_count": 21,
   "id": "77863b7d",
   "metadata": {},
   "outputs": [],
   "source": [
    "headers = [\"ack\", \"init\",\"seg\",\"iat\",\"flow\",\"label\"]"
   ]
  },
  {
   "cell_type": "code",
   "execution_count": 22,
   "id": "4dfb3666",
   "metadata": {},
   "outputs": [],
   "source": [
    "df1 = pd.concat(data, axis=1, keys=headers)"
   ]
  },
  {
   "cell_type": "code",
   "execution_count": 23,
   "id": "8848cd4a",
   "metadata": {},
   "outputs": [],
   "source": [
    "from sklearn.preprocessing import LabelEncoder"
   ]
  },
  {
   "cell_type": "code",
   "execution_count": 24,
   "id": "4d824e29",
   "metadata": {},
   "outputs": [],
   "source": [
    "Encoder = LabelEncoder()\n",
    "le = Encoder.fit(df1[\"label\"])\n",
    "df1[\"label\"] = le.transform(df1[\"label\"])"
   ]
  },
  {
   "cell_type": "code",
   "execution_count": 25,
   "id": "f0149acd",
   "metadata": {},
   "outputs": [
    {
     "data": {
      "text/html": [
       "<div>\n",
       "<style scoped>\n",
       "    .dataframe tbody tr th:only-of-type {\n",
       "        vertical-align: middle;\n",
       "    }\n",
       "\n",
       "    .dataframe tbody tr th {\n",
       "        vertical-align: top;\n",
       "    }\n",
       "\n",
       "    .dataframe thead th {\n",
       "        text-align: right;\n",
       "    }\n",
       "</style>\n",
       "<table border=\"1\" class=\"dataframe\">\n",
       "  <thead>\n",
       "    <tr style=\"text-align: right;\">\n",
       "      <th></th>\n",
       "      <th>ack</th>\n",
       "      <th>init</th>\n",
       "      <th>seg</th>\n",
       "      <th>iat</th>\n",
       "      <th>flow</th>\n",
       "      <th>label</th>\n",
       "    </tr>\n",
       "  </thead>\n",
       "  <tbody>\n",
       "    <tr>\n",
       "      <th>0</th>\n",
       "      <td>0</td>\n",
       "      <td>65535</td>\n",
       "      <td>20</td>\n",
       "      <td>582767.0</td>\n",
       "      <td>2525190.0</td>\n",
       "      <td>1</td>\n",
       "    </tr>\n",
       "    <tr>\n",
       "      <th>1</th>\n",
       "      <td>0</td>\n",
       "      <td>0</td>\n",
       "      <td>8</td>\n",
       "      <td>0.0</td>\n",
       "      <td>43626.0</td>\n",
       "      <td>1</td>\n",
       "    </tr>\n",
       "    <tr>\n",
       "      <th>2</th>\n",
       "      <td>0</td>\n",
       "      <td>65535</td>\n",
       "      <td>20</td>\n",
       "      <td>862174.0</td>\n",
       "      <td>2504540.0</td>\n",
       "      <td>1</td>\n",
       "    </tr>\n",
       "    <tr>\n",
       "      <th>3</th>\n",
       "      <td>0</td>\n",
       "      <td>0</td>\n",
       "      <td>8</td>\n",
       "      <td>270572.0</td>\n",
       "      <td>270572.0</td>\n",
       "      <td>1</td>\n",
       "    </tr>\n",
       "    <tr>\n",
       "      <th>4</th>\n",
       "      <td>0</td>\n",
       "      <td>0</td>\n",
       "      <td>8</td>\n",
       "      <td>0.0</td>\n",
       "      <td>230191.0</td>\n",
       "      <td>1</td>\n",
       "    </tr>\n",
       "    <tr>\n",
       "      <th>...</th>\n",
       "      <td>...</td>\n",
       "      <td>...</td>\n",
       "      <td>...</td>\n",
       "      <td>...</td>\n",
       "      <td>...</td>\n",
       "      <td>...</td>\n",
       "    </tr>\n",
       "    <tr>\n",
       "      <th>54961</th>\n",
       "      <td>0</td>\n",
       "      <td>0</td>\n",
       "      <td>8</td>\n",
       "      <td>0.0</td>\n",
       "      <td>134195.0</td>\n",
       "      <td>1</td>\n",
       "    </tr>\n",
       "    <tr>\n",
       "      <th>54962</th>\n",
       "      <td>0</td>\n",
       "      <td>0</td>\n",
       "      <td>8</td>\n",
       "      <td>0.0</td>\n",
       "      <td>136412.0</td>\n",
       "      <td>1</td>\n",
       "    </tr>\n",
       "    <tr>\n",
       "      <th>54963</th>\n",
       "      <td>0</td>\n",
       "      <td>0</td>\n",
       "      <td>8</td>\n",
       "      <td>238581.0</td>\n",
       "      <td>296628.0</td>\n",
       "      <td>1</td>\n",
       "    </tr>\n",
       "    <tr>\n",
       "      <th>54964</th>\n",
       "      <td>0</td>\n",
       "      <td>0</td>\n",
       "      <td>8</td>\n",
       "      <td>0.0</td>\n",
       "      <td>163704.0</td>\n",
       "      <td>1</td>\n",
       "    </tr>\n",
       "    <tr>\n",
       "      <th>54965</th>\n",
       "      <td>0</td>\n",
       "      <td>65535</td>\n",
       "      <td>20</td>\n",
       "      <td>421291.0</td>\n",
       "      <td>570809.0</td>\n",
       "      <td>1</td>\n",
       "    </tr>\n",
       "  </tbody>\n",
       "</table>\n",
       "<p>54966 rows × 6 columns</p>\n",
       "</div>"
      ],
      "text/plain": [
       "       ack   init  seg       iat       flow  label\n",
       "0        0  65535   20  582767.0  2525190.0      1\n",
       "1        0      0    8       0.0    43626.0      1\n",
       "2        0  65535   20  862174.0  2504540.0      1\n",
       "3        0      0    8  270572.0   270572.0      1\n",
       "4        0      0    8       0.0   230191.0      1\n",
       "...    ...    ...  ...       ...        ...    ...\n",
       "54961    0      0    8       0.0   134195.0      1\n",
       "54962    0      0    8       0.0   136412.0      1\n",
       "54963    0      0    8  238581.0   296628.0      1\n",
       "54964    0      0    8       0.0   163704.0      1\n",
       "54965    0  65535   20  421291.0   570809.0      1\n",
       "\n",
       "[54966 rows x 6 columns]"
      ]
     },
     "execution_count": 25,
     "metadata": {},
     "output_type": "execute_result"
    }
   ],
   "source": [
    "df1\n",
    "# 1 = Benign\n",
    "# 0 = Attack"
   ]
  },
  {
   "cell_type": "code",
   "execution_count": 29,
   "id": "462e4f9d",
   "metadata": {},
   "outputs": [],
   "source": [
    "X = df1.drop('label',axis=1)\n",
    "Y = df1['label']"
   ]
  },
  {
   "cell_type": "code",
   "execution_count": 30,
   "id": "6faa8f45",
   "metadata": {},
   "outputs": [
    {
     "data": {
      "text/html": [
       "<div>\n",
       "<style scoped>\n",
       "    .dataframe tbody tr th:only-of-type {\n",
       "        vertical-align: middle;\n",
       "    }\n",
       "\n",
       "    .dataframe tbody tr th {\n",
       "        vertical-align: top;\n",
       "    }\n",
       "\n",
       "    .dataframe thead th {\n",
       "        text-align: right;\n",
       "    }\n",
       "</style>\n",
       "<table border=\"1\" class=\"dataframe\">\n",
       "  <thead>\n",
       "    <tr style=\"text-align: right;\">\n",
       "      <th></th>\n",
       "      <th>ack</th>\n",
       "      <th>init</th>\n",
       "      <th>seg</th>\n",
       "      <th>iat</th>\n",
       "      <th>flow</th>\n",
       "    </tr>\n",
       "  </thead>\n",
       "  <tbody>\n",
       "    <tr>\n",
       "      <th>0</th>\n",
       "      <td>0</td>\n",
       "      <td>65535</td>\n",
       "      <td>20</td>\n",
       "      <td>582767.0</td>\n",
       "      <td>2525190.0</td>\n",
       "    </tr>\n",
       "    <tr>\n",
       "      <th>1</th>\n",
       "      <td>0</td>\n",
       "      <td>0</td>\n",
       "      <td>8</td>\n",
       "      <td>0.0</td>\n",
       "      <td>43626.0</td>\n",
       "    </tr>\n",
       "    <tr>\n",
       "      <th>2</th>\n",
       "      <td>0</td>\n",
       "      <td>65535</td>\n",
       "      <td>20</td>\n",
       "      <td>862174.0</td>\n",
       "      <td>2504540.0</td>\n",
       "    </tr>\n",
       "    <tr>\n",
       "      <th>3</th>\n",
       "      <td>0</td>\n",
       "      <td>0</td>\n",
       "      <td>8</td>\n",
       "      <td>270572.0</td>\n",
       "      <td>270572.0</td>\n",
       "    </tr>\n",
       "    <tr>\n",
       "      <th>4</th>\n",
       "      <td>0</td>\n",
       "      <td>0</td>\n",
       "      <td>8</td>\n",
       "      <td>0.0</td>\n",
       "      <td>230191.0</td>\n",
       "    </tr>\n",
       "    <tr>\n",
       "      <th>...</th>\n",
       "      <td>...</td>\n",
       "      <td>...</td>\n",
       "      <td>...</td>\n",
       "      <td>...</td>\n",
       "      <td>...</td>\n",
       "    </tr>\n",
       "    <tr>\n",
       "      <th>54961</th>\n",
       "      <td>0</td>\n",
       "      <td>0</td>\n",
       "      <td>8</td>\n",
       "      <td>0.0</td>\n",
       "      <td>134195.0</td>\n",
       "    </tr>\n",
       "    <tr>\n",
       "      <th>54962</th>\n",
       "      <td>0</td>\n",
       "      <td>0</td>\n",
       "      <td>8</td>\n",
       "      <td>0.0</td>\n",
       "      <td>136412.0</td>\n",
       "    </tr>\n",
       "    <tr>\n",
       "      <th>54963</th>\n",
       "      <td>0</td>\n",
       "      <td>0</td>\n",
       "      <td>8</td>\n",
       "      <td>238581.0</td>\n",
       "      <td>296628.0</td>\n",
       "    </tr>\n",
       "    <tr>\n",
       "      <th>54964</th>\n",
       "      <td>0</td>\n",
       "      <td>0</td>\n",
       "      <td>8</td>\n",
       "      <td>0.0</td>\n",
       "      <td>163704.0</td>\n",
       "    </tr>\n",
       "    <tr>\n",
       "      <th>54965</th>\n",
       "      <td>0</td>\n",
       "      <td>65535</td>\n",
       "      <td>20</td>\n",
       "      <td>421291.0</td>\n",
       "      <td>570809.0</td>\n",
       "    </tr>\n",
       "  </tbody>\n",
       "</table>\n",
       "<p>54966 rows × 5 columns</p>\n",
       "</div>"
      ],
      "text/plain": [
       "       ack   init  seg       iat       flow\n",
       "0        0  65535   20  582767.0  2525190.0\n",
       "1        0      0    8       0.0    43626.0\n",
       "2        0  65535   20  862174.0  2504540.0\n",
       "3        0      0    8  270572.0   270572.0\n",
       "4        0      0    8       0.0   230191.0\n",
       "...    ...    ...  ...       ...        ...\n",
       "54961    0      0    8       0.0   134195.0\n",
       "54962    0      0    8       0.0   136412.0\n",
       "54963    0      0    8  238581.0   296628.0\n",
       "54964    0      0    8       0.0   163704.0\n",
       "54965    0  65535   20  421291.0   570809.0\n",
       "\n",
       "[54966 rows x 5 columns]"
      ]
     },
     "execution_count": 30,
     "metadata": {},
     "output_type": "execute_result"
    }
   ],
   "source": [
    "X"
   ]
  },
  {
   "cell_type": "code",
   "execution_count": 31,
   "id": "86dbc2d9",
   "metadata": {},
   "outputs": [
    {
     "data": {
      "text/plain": [
       "0        1\n",
       "1        1\n",
       "2        1\n",
       "3        1\n",
       "4        1\n",
       "        ..\n",
       "54961    1\n",
       "54962    1\n",
       "54963    1\n",
       "54964    1\n",
       "54965    1\n",
       "Name: label, Length: 54966, dtype: int64"
      ]
     },
     "execution_count": 31,
     "metadata": {},
     "output_type": "execute_result"
    }
   ],
   "source": [
    "Y"
   ]
  },
  {
   "cell_type": "code",
   "execution_count": 37,
   "id": "eff4b1b2",
   "metadata": {},
   "outputs": [
    {
     "data": {
      "text/html": [
       "<div>\n",
       "<style scoped>\n",
       "    .dataframe tbody tr th:only-of-type {\n",
       "        vertical-align: middle;\n",
       "    }\n",
       "\n",
       "    .dataframe tbody tr th {\n",
       "        vertical-align: top;\n",
       "    }\n",
       "\n",
       "    .dataframe thead th {\n",
       "        text-align: right;\n",
       "    }\n",
       "</style>\n",
       "<table border=\"1\" class=\"dataframe\">\n",
       "  <thead>\n",
       "    <tr style=\"text-align: right;\">\n",
       "      <th></th>\n",
       "      <th>ack</th>\n",
       "      <th>init</th>\n",
       "      <th>seg</th>\n",
       "      <th>iat</th>\n",
       "      <th>flow</th>\n",
       "    </tr>\n",
       "  </thead>\n",
       "  <tbody>\n",
       "    <tr>\n",
       "      <th>0</th>\n",
       "      <td>0</td>\n",
       "      <td>65535</td>\n",
       "      <td>20</td>\n",
       "      <td>582767.0</td>\n",
       "      <td>2525190.0</td>\n",
       "    </tr>\n",
       "    <tr>\n",
       "      <th>1</th>\n",
       "      <td>0</td>\n",
       "      <td>0</td>\n",
       "      <td>8</td>\n",
       "      <td>0.0</td>\n",
       "      <td>43626.0</td>\n",
       "    </tr>\n",
       "    <tr>\n",
       "      <th>2</th>\n",
       "      <td>0</td>\n",
       "      <td>65535</td>\n",
       "      <td>20</td>\n",
       "      <td>862174.0</td>\n",
       "      <td>2504540.0</td>\n",
       "    </tr>\n",
       "    <tr>\n",
       "      <th>3</th>\n",
       "      <td>0</td>\n",
       "      <td>0</td>\n",
       "      <td>8</td>\n",
       "      <td>270572.0</td>\n",
       "      <td>270572.0</td>\n",
       "    </tr>\n",
       "    <tr>\n",
       "      <th>4</th>\n",
       "      <td>0</td>\n",
       "      <td>0</td>\n",
       "      <td>8</td>\n",
       "      <td>0.0</td>\n",
       "      <td>230191.0</td>\n",
       "    </tr>\n",
       "    <tr>\n",
       "      <th>...</th>\n",
       "      <td>...</td>\n",
       "      <td>...</td>\n",
       "      <td>...</td>\n",
       "      <td>...</td>\n",
       "      <td>...</td>\n",
       "    </tr>\n",
       "    <tr>\n",
       "      <th>54961</th>\n",
       "      <td>0</td>\n",
       "      <td>0</td>\n",
       "      <td>8</td>\n",
       "      <td>0.0</td>\n",
       "      <td>134195.0</td>\n",
       "    </tr>\n",
       "    <tr>\n",
       "      <th>54962</th>\n",
       "      <td>0</td>\n",
       "      <td>0</td>\n",
       "      <td>8</td>\n",
       "      <td>0.0</td>\n",
       "      <td>136412.0</td>\n",
       "    </tr>\n",
       "    <tr>\n",
       "      <th>54963</th>\n",
       "      <td>0</td>\n",
       "      <td>0</td>\n",
       "      <td>8</td>\n",
       "      <td>238581.0</td>\n",
       "      <td>296628.0</td>\n",
       "    </tr>\n",
       "    <tr>\n",
       "      <th>54964</th>\n",
       "      <td>0</td>\n",
       "      <td>0</td>\n",
       "      <td>8</td>\n",
       "      <td>0.0</td>\n",
       "      <td>163704.0</td>\n",
       "    </tr>\n",
       "    <tr>\n",
       "      <th>54965</th>\n",
       "      <td>0</td>\n",
       "      <td>65535</td>\n",
       "      <td>20</td>\n",
       "      <td>421291.0</td>\n",
       "      <td>570809.0</td>\n",
       "    </tr>\n",
       "  </tbody>\n",
       "</table>\n",
       "<p>54966 rows × 5 columns</p>\n",
       "</div>"
      ],
      "text/plain": [
       "       ack   init  seg       iat       flow\n",
       "0        0  65535   20  582767.0  2525190.0\n",
       "1        0      0    8       0.0    43626.0\n",
       "2        0  65535   20  862174.0  2504540.0\n",
       "3        0      0    8  270572.0   270572.0\n",
       "4        0      0    8       0.0   230191.0\n",
       "...    ...    ...  ...       ...        ...\n",
       "54961    0      0    8       0.0   134195.0\n",
       "54962    0      0    8       0.0   136412.0\n",
       "54963    0      0    8  238581.0   296628.0\n",
       "54964    0      0    8       0.0   163704.0\n",
       "54965    0  65535   20  421291.0   570809.0\n",
       "\n",
       "[54966 rows x 5 columns]"
      ]
     },
     "execution_count": 37,
     "metadata": {},
     "output_type": "execute_result"
    }
   ],
   "source": [
    "X"
   ]
  },
  {
   "cell_type": "code",
   "execution_count": 41,
   "id": "9b35e599",
   "metadata": {},
   "outputs": [
    {
     "name": "stderr",
     "output_type": "stream",
     "text": [
      "/home/saicharan/.local/lib/python3.8/site-packages/sklearn/base.py:434: UserWarning: X has feature names, but AdaBoostClassifier was fitted without feature names\n",
      "  warnings.warn(\n"
     ]
    }
   ],
   "source": [
    "result=ada.score(X,Y)\n"
   ]
  },
  {
   "cell_type": "markdown",
   "id": "42063df7-cfe2-42a0-bee7-d73501abe837",
   "metadata": {},
   "source": [
    "### Added the code for various metrics\n",
    "To run them just get values predicted Y values, using predict funciton, then compare the values with actual Y values\n",
    "Use print statements accordingly"
   ]
  },
  {
   "cell_type": "code",
   "execution_count": null,
   "id": "2d333373-cb1e-4c71-b84b-8fe3cf1e0072",
   "metadata": {},
   "outputs": [],
   "source": [
    "ada_f1 = f1_score(y_true,y_pred)\n",
    "ada_precision = precision_score(y_true,y_pred)\n",
    "ada_recall = recall_score(y_true,y_pred)\n",
    "ada_aucroc = roc_auc_score(y_true,y_pred)"
   ]
  },
  {
   "cell_type": "code",
   "execution_count": null,
   "id": "a6e4cd2e-8176-4976-b1b3-42c5df1543d9",
   "metadata": {},
   "outputs": [],
   "source": [
    "\n",
    "print(\"roc_auc Score -> \",ada_aucroc)\n",
    "print(\"f1 score ->\", ada_f1)"
   ]
  },
  {
   "cell_type": "code",
   "execution_count": null,
   "id": "95c42d05-51ea-409e-b3ff-7dbf5f80d894",
   "metadata": {},
   "outputs": [],
   "source": [
    "ada_conf_mat = confusion_matrix(y_true,y_pred)\n",
    "print(ada_conf_mat)"
   ]
  },
  {
   "cell_type": "code",
   "execution_count": 42,
   "id": "b4981b1d",
   "metadata": {},
   "outputs": [
    {
     "data": {
      "text/plain": [
       "0.9898300767747334"
      ]
     },
     "execution_count": 42,
     "metadata": {},
     "output_type": "execute_result"
    }
   ],
   "source": [
    "result"
   ]
  },
  {
   "cell_type": "code",
   "execution_count": null,
   "id": "caa69eb9-a0ff-43e0-8b90-e2faddefd877",
   "metadata": {},
   "outputs": [],
   "source": [
    "print(ada)"
   ]
  },
  {
   "cell_type": "code",
   "execution_count": 45,
   "id": "08501887",
   "metadata": {},
   "outputs": [
    {
     "data": {
      "text/plain": [
       "0.9969071789833716"
      ]
     },
     "execution_count": 45,
     "metadata": {},
     "output_type": "execute_result"
    }
   ],
   "source": [
    "result=xgb.score(X,Y)\n",
    "result"
   ]
  },
  {
   "cell_type": "code",
   "execution_count": null,
   "id": "eea12ff5-93b0-470f-afb8-f85153b512a1",
   "metadata": {},
   "outputs": [],
   "source": [
    "xgb_f1 = f1_score(y_true,y_pred)\n",
    "xgb_precision = precision_score(y_true,y_pred)\n",
    "xgb_recall = recall_score(y_true,y_pred)\n",
    "xgb_aucroc = roc_auc_score(y_true,y_pred)"
   ]
  },
  {
   "cell_type": "code",
   "execution_count": null,
   "id": "1028460a-eb6f-4b45-a051-faf46c053ac7",
   "metadata": {},
   "outputs": [],
   "source": [
    "\n",
    "print(\"roc_auc Score -> \",xgb_aucroc)\n",
    "print(\"f1 score ->\", xgb_f1)"
   ]
  },
  {
   "cell_type": "code",
   "execution_count": null,
   "id": "4a43208a-bf57-43c3-9a5b-9befeaa890a5",
   "metadata": {},
   "outputs": [],
   "source": [
    "xgb_conf_mat = confusion_matrix(y_true,y_pred)\n",
    "print(xgb_conf_mat)"
   ]
  },
  {
   "cell_type": "code",
   "execution_count": 48,
   "id": "950e3727",
   "metadata": {},
   "outputs": [
    {
     "data": {
      "text/plain": [
       "0.9937233926427246"
      ]
     },
     "execution_count": 48,
     "metadata": {},
     "output_type": "execute_result"
    }
   ],
   "source": [
    "result=lgbm.score(X,Y)\n",
    "result"
   ]
  },
  {
   "cell_type": "code",
   "execution_count": null,
   "id": "de2a03e0-2b3e-444e-aa6a-ff25c1b80cfc",
   "metadata": {},
   "outputs": [],
   "source": [
    "lgbm_f1 = f1_score(y_true,y_pred)\n",
    "lgbm_precision = precision_score(y_true,y_pred)\n",
    "lgbm_recall = recall_score(y_true,y_pred)\n",
    "lgbm_aucroc = roc_auc_score(y_true,y_pred)"
   ]
  },
  {
   "cell_type": "code",
   "execution_count": null,
   "id": "e911ff55-0b2d-41c2-b47b-58a4455f159d",
   "metadata": {},
   "outputs": [],
   "source": [
    "\n",
    "print(\"roc_auc Score -> \",lgbm_aucroc)\n",
    "print(\"f1 score ->\", lgbm_f1)"
   ]
  },
  {
   "cell_type": "code",
   "execution_count": null,
   "id": "ab98ed11-ef95-42ac-b30d-eb5ee622870b",
   "metadata": {},
   "outputs": [],
   "source": [
    "lgbm_conf_mat = confusion_matrix(y_true,y_pred)\n",
    "print(lgbm_conf_mat)"
   ]
  },
  {
   "cell_type": "code",
   "execution_count": 51,
   "id": "94f48866",
   "metadata": {},
   "outputs": [
    {
     "name": "stderr",
     "output_type": "stream",
     "text": [
      "/home/saicharan/.local/lib/python3.8/site-packages/sklearn/base.py:434: UserWarning: X has feature names, but RandomForestClassifier was fitted without feature names\n",
      "  warnings.warn(\n"
     ]
    },
    {
     "data": {
      "text/plain": [
       "0.9991085398246189"
      ]
     },
     "execution_count": 51,
     "metadata": {},
     "output_type": "execute_result"
    }
   ],
   "source": [
    "result=rf.score(X,Y)\n",
    "result"
   ]
  },
  {
   "cell_type": "code",
   "execution_count": null,
   "id": "1f0e72ea-14d2-41d7-954b-d5ba9131ca72",
   "metadata": {},
   "outputs": [],
   "source": [
    "rf_f1 = f1_score(y_true,y_pred)\n",
    "rf_precision = precision_score(y_true,y_pred)\n",
    "rf_recall = recall_score(y_true,y_pred)\n",
    "rf_aucroc = roc_auc_score(y_true,y_pred)"
   ]
  },
  {
   "cell_type": "code",
   "execution_count": null,
   "id": "031ea06c-7885-4fcb-b2b6-4be1d721e026",
   "metadata": {},
   "outputs": [],
   "source": [
    "\n",
    "print(\"roc_auc Score -> \",rf_aucroc)\n",
    "print(\"f1 score ->\", rf_f1)"
   ]
  },
  {
   "cell_type": "code",
   "execution_count": null,
   "id": "b7b9c967-7c5d-4362-810e-2cbb285ef60a",
   "metadata": {},
   "outputs": [],
   "source": [
    "rf_conf_mat = confusion_matrix(y_true,y_pred)\n",
    "print(rf_conf_mat)"
   ]
  },
  {
   "cell_type": "code",
   "execution_count": null,
   "id": "c57b709e",
   "metadata": {},
   "outputs": [],
   "source": []
  }
 ],
 "metadata": {
  "kernelspec": {
   "display_name": "Python 3",
   "language": "python",
   "name": "python3"
  },
  "language_info": {
   "codemirror_mode": {
    "name": "ipython",
    "version": 3
   },
   "file_extension": ".py",
   "mimetype": "text/x-python",
   "name": "python",
   "nbconvert_exporter": "python",
   "pygments_lexer": "ipython3",
   "version": "3.6.13"
  }
 },
 "nbformat": 4,
 "nbformat_minor": 5
}
