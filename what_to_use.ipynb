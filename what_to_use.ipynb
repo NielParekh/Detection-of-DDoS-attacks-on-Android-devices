{
 "cells": [
  {
   "cell_type": "code",
   "execution_count": 56,
   "metadata": {},
   "outputs": [],
   "source": [
    "import pandas as pd"
   ]
  },
  {
   "cell_type": "code",
   "execution_count": 62,
   "metadata": {},
   "outputs": [],
   "source": [
    "df=pd.read_csv('dataset/UDPLag.csv')"
   ]
  },
  {
   "cell_type": "code",
   "execution_count": 13,
   "metadata": {},
   "outputs": [
    {
     "name": "stdout",
     "output_type": "stream",
     "text": [
      "DNS\n",
      "3402\n",
      "5074413\n"
     ]
    }
   ],
   "source": [
    "label = df[' Label']\n",
    "pd.unique(label)\n",
    "print(\"DrDoS_DNS\")\n",
    "print(len(df[df[' Label']=='BENIGN']))\n",
    "print(len(label))"
   ]
  },
  {
   "cell_type": "code",
   "execution_count": 16,
   "metadata": {},
   "outputs": [
    {
     "name": "stdout",
     "output_type": "stream",
     "text": [
      "LDAP\n",
      "1612\n",
      "2181542\n"
     ]
    }
   ],
   "source": [
    "label = df[' Label']\n",
    "pd.unique(label)\n",
    "print(\"DrDoS_LDAP\")\n",
    "print(len(df[df[' Label']=='BENIGN']))\n",
    "print(len(label))"
   ]
  },
  {
   "cell_type": "code",
   "execution_count": 19,
   "metadata": {},
   "outputs": [
    {
     "name": "stdout",
     "output_type": "stream",
     "text": [
      "MSSQL\n",
      "2006\n",
      "4524498\n"
     ]
    }
   ],
   "source": [
    "label = df[' Label']\n",
    "pd.unique(label)\n",
    "print(\"DrDoS_MSSQL\")\n",
    "print(len(df[df[' Label']=='BENIGN']))\n",
    "print(len(label))"
   ]
  },
  {
   "cell_type": "code",
   "execution_count": 22,
   "metadata": {},
   "outputs": [
    {
     "name": "stdout",
     "output_type": "stream",
     "text": [
      "NetBIOS\n",
      "1707\n",
      "4094986\n"
     ]
    }
   ],
   "source": [
    "label = df[' Label']\n",
    "pd.unique(label)\n",
    "print(\"DrDoS_NetBIOS\")\n",
    "print(len(df[df[' Label']=='BENIGN']))\n",
    "print(len(label))"
   ]
  },
  {
   "cell_type": "code",
   "execution_count": 25,
   "metadata": {},
   "outputs": [
    {
     "name": "stdout",
     "output_type": "stream",
     "text": [
      "NTP\n",
      "14365\n",
      "1217007\n"
     ]
    }
   ],
   "source": [
    "label = df[' Label']\n",
    "pd.unique(label)\n",
    "print(\"DrDoS_NTP\")\n",
    "print(len(df[df[' Label']=='BENIGN']))\n",
    "print(len(label))"
   ]
  },
  {
   "cell_type": "code",
   "execution_count": 28,
   "metadata": {},
   "outputs": [
    {
     "name": "stdout",
     "output_type": "stream",
     "text": [
      "SNMP\n",
      "1507\n",
      "5161377\n"
     ]
    }
   ],
   "source": [
    "label = df[' Label']\n",
    "pd.unique(label)\n",
    "print(\"DrDoS_SNMP\")\n",
    "print(len(df[df[' Label']=='BENIGN']))\n",
    "print(len(label))"
   ]
  },
  {
   "cell_type": "code",
   "execution_count": 31,
   "metadata": {},
   "outputs": [
    {
     "name": "stdout",
     "output_type": "stream",
     "text": [
      "SSPD\n",
      "763\n",
      "2611374\n"
     ]
    }
   ],
   "source": [
    "label = df[' Label']\n",
    "pd.unique(label)\n",
    "print(\"DrDoS_SSPD\")\n",
    "print(len(df[df[' Label']=='BENIGN']))\n",
    "print(len(label))"
   ]
  },
  {
   "cell_type": "code",
   "execution_count": 34,
   "metadata": {},
   "outputs": [
    {
     "name": "stdout",
     "output_type": "stream",
     "text": [
      "DrDoS_UDP\n",
      "2157\n",
      "3136802\n"
     ]
    }
   ],
   "source": [
    "label = df[' Label']\n",
    "pd.unique(label)\n",
    "print(\"DrDoS_UDP\")\n",
    "print(len(df[df[' Label']=='BENIGN']))\n",
    "print(len(label))"
   ]
  },
  {
   "cell_type": "code",
   "execution_count": 40,
   "metadata": {},
   "outputs": [
    {
     "name": "stdout",
     "output_type": "stream",
     "text": [
      "['NetBIOS' 'BENIGN' 'LDAP']\n",
      "LDAP\n",
      "5124 BENIGN\n",
      "1905191 LDAP\n",
      "202919 NetBIOS\n",
      "2113234\n"
     ]
    }
   ],
   "source": [
    "label = df[' Label']\n",
    "print(pd.unique(label))\n",
    "print(\"LDAP\")\n",
    "print(len(df[df[' Label']=='BENIGN']),\"BENIGN\")\n",
    "print(len(df[df[' Label']=='LDAP']),\"LDAP\")\n",
    "print(len(df[df[' Label']=='NetBIOS']),\"NetBIOS\")\n",
    "print(len(label))"
   ]
  },
  {
   "cell_type": "code",
   "execution_count": 45,
   "metadata": {},
   "outputs": [
    {
     "name": "stdout",
     "output_type": "stream",
     "text": [
      "['LDAP' 'BENIGN' 'MSSQL']\n",
      "MSSQL\n",
      "2794 BENIGN\n",
      "9931 LDAP\n",
      "5763061 MSSQL\n",
      "5775786\n"
     ]
    }
   ],
   "source": [
    "label = df[' Label']\n",
    "print(pd.unique(label))\n",
    "print(\"MSSQL\")\n",
    "print(len(df[df[' Label']=='BENIGN']),\"BENIGN\")\n",
    "print(len(df[df[' Label']=='LDAP']),\"LDAP\")\n",
    "print(len(df[df[' Label']=='MSSQL']),\"MSSQL\")\n",
    "print(len(label))"
   ]
  },
  {
   "cell_type": "code",
   "execution_count": 48,
   "metadata": {},
   "outputs": [
    {
     "name": "stdout",
     "output_type": "stream",
     "text": [
      "['NetBIOS' 'BENIGN']\n",
      "NetBIOS\n",
      "1321 BENIGN\n",
      "3455899\n"
     ]
    }
   ],
   "source": [
    "label = df[' Label']\n",
    "print(pd.unique(label))\n",
    "print(\"NetBIOS\")\n",
    "print(len(df[df[' Label']=='BENIGN']),\"BENIGN\")\n",
    "print(len(label))"
   ]
  },
  {
   "cell_type": "code",
   "execution_count": 52,
   "metadata": {},
   "outputs": [
    {
     "name": "stdout",
     "output_type": "stream",
     "text": [
      "['BENIGN' 'Portmap']\n",
      "Portmap\n",
      "4734 BENIGN\n",
      "191694\n"
     ]
    }
   ],
   "source": [
    "label = df[' Label']\n",
    "print(pd.unique(label))\n",
    "print(\"Portmap\")\n",
    "print(len(df[df[' Label']=='BENIGN']),\"BENIGN\")\n",
    "print(len(label))"
   ]
  },
  {
   "cell_type": "code",
   "execution_count": 54,
   "metadata": {},
   "outputs": [
    {
     "name": "stdout",
     "output_type": "stream",
     "text": [
      "['Syn' 'BENIGN']\n",
      "Syn\n",
      "35790 BENIGN\n",
      "4320541\n"
     ]
    }
   ],
   "source": [
    "label = df[' Label']\n",
    "print(pd.unique(label))\n",
    "print(\"Syn\")\n",
    "print(len(df[df[' Label']=='BENIGN']),\"BENIGN\")\n",
    "print(len(label))"
   ]
  },
  {
   "cell_type": "code",
   "execution_count": 61,
   "metadata": {},
   "outputs": [
    {
     "name": "stdout",
     "output_type": "stream",
     "text": [
      "['MSSQL' 'BENIGN' 'UDP']\n",
      "UDP\n",
      "3134 BENIGN\n",
      "24392 MSSQL\n",
      "3754680 UDP\n",
      "3782206\n"
     ]
    }
   ],
   "source": [
    "label = df[' Label']\n",
    "print(pd.unique(label))\n",
    "print(\"UDP\")\n",
    "print(len(df[df[' Label']=='BENIGN']),\"BENIGN\")\n",
    "print(len(df[df[' Label']=='MSSQL']),\"MSSQL\")\n",
    "print(len(df[df[' Label']=='UDP']),\"UDP\")\n",
    "print(len(label))"
   ]
  },
  {
   "cell_type": "code",
   "execution_count": 65,
   "metadata": {},
   "outputs": [
    {
     "name": "stdout",
     "output_type": "stream",
     "text": [
      "['UDP' 'BENIGN' 'UDPLag' 'Syn']\n",
      "UDPLag\n",
      "4068 BENIGN\n",
      "606749 Syn\n",
      "112475 UDP\n",
      "1873 UDPLag\n",
      "725165\n"
     ]
    }
   ],
   "source": [
    "label = df[' Label']\n",
    "print(pd.unique(label))\n",
    "print(\"UDPLag\")\n",
    "print(len(df[df[' Label']=='BENIGN']),\"BENIGN\")\n",
    "print(len(df[df[' Label']=='Syn']),\"Syn\")\n",
    "print(len(df[df[' Label']=='UDP']),\"UDP\")\n",
    "print(len(df[df[' Label']=='UDPLag']),\"UDPLag\")\n",
    "print(len(label))"
   ]
  },
  {
   "cell_type": "code",
   "execution_count": null,
   "metadata": {},
   "outputs": [],
   "source": []
  }
 ],
 "metadata": {
  "kernelspec": {
   "display_name": "Python 3",
   "language": "python",
   "name": "python3"
  },
  "language_info": {
   "codemirror_mode": {
    "name": "ipython",
    "version": 3
   },
   "file_extension": ".py",
   "mimetype": "text/x-python",
   "name": "python",
   "nbconvert_exporter": "python",
   "pygments_lexer": "ipython3",
   "version": "3.8.5"
  }
 },
 "nbformat": 4,
 "nbformat_minor": 4
}
