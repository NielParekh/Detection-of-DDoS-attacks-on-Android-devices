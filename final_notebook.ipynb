{
 "cells": [
  {
   "cell_type": "code",
   "execution_count": 2,
   "metadata": {},
   "outputs": [],
   "source": [
    "\n",
    "from sklearn.linear_model import LogisticRegression\n",
    "from sklearn.metrics import confusion_matrix\n",
    "import pandas as pd\n",
    "from sklearn.model_selection import train_test_split\n",
    "from xgboost import XGBClassifier\n",
    "from sklearn.metrics import accuracy_score, f1_score, precision_score, recall_score, roc_auc_score\n",
    "import seaborn as sns\n",
    "import matplotlib.pyplot as plt\n",
    "import pickle\n",
    "import seaborn as sns\n",
    "import lightgbm"
   ]
  },
  {
   "cell_type": "code",
   "execution_count": 3,
   "metadata": {},
   "outputs": [],
   "source": [
    "df=pd.read_csv('labeled_data2.csv')"
   ]
  },
  {
   "cell_type": "code",
   "execution_count": 4,
   "metadata": {},
   "outputs": [
    {
     "data": {
      "text/html": [
       "<div>\n",
       "<style scoped>\n",
       "    .dataframe tbody tr th:only-of-type {\n",
       "        vertical-align: middle;\n",
       "    }\n",
       "\n",
       "    .dataframe tbody tr th {\n",
       "        vertical-align: top;\n",
       "    }\n",
       "\n",
       "    .dataframe thead th {\n",
       "        text-align: right;\n",
       "    }\n",
       "</style>\n",
       "<table border=\"1\" class=\"dataframe\">\n",
       "  <thead>\n",
       "    <tr style=\"text-align: right;\">\n",
       "      <th></th>\n",
       "      <th>Unnamed: 0</th>\n",
       "      <th>src_ip</th>\n",
       "      <th>dst_ip</th>\n",
       "      <th>src_port</th>\n",
       "      <th>dst_port</th>\n",
       "      <th>protocol</th>\n",
       "      <th>timestamp</th>\n",
       "      <th>flow_duration</th>\n",
       "      <th>flow_byts_s</th>\n",
       "      <th>flow_pkts_s</th>\n",
       "      <th>...</th>\n",
       "      <th>fwd_blk_rate_avg</th>\n",
       "      <th>bwd_blk_rate_avg</th>\n",
       "      <th>fwd_seg_size_avg</th>\n",
       "      <th>bwd_seg_size_avg</th>\n",
       "      <th>cwe_flag_count</th>\n",
       "      <th>subflow_fwd_pkts</th>\n",
       "      <th>subflow_bwd_pkts</th>\n",
       "      <th>subflow_fwd_byts</th>\n",
       "      <th>subflow_bwd_byts</th>\n",
       "      <th>Label</th>\n",
       "    </tr>\n",
       "  </thead>\n",
       "  <tbody>\n",
       "    <tr>\n",
       "      <th>0</th>\n",
       "      <td>0</td>\n",
       "      <td>10.215.173.1</td>\n",
       "      <td>157.240.16.32</td>\n",
       "      <td>48924</td>\n",
       "      <td>443</td>\n",
       "      <td>6</td>\n",
       "      <td>2021-09-15 15:33:24</td>\n",
       "      <td>2525190.0</td>\n",
       "      <td>2094.495860</td>\n",
       "      <td>8.316206</td>\n",
       "      <td>...</td>\n",
       "      <td>0.000000</td>\n",
       "      <td>0.000000</td>\n",
       "      <td>126.400000</td>\n",
       "      <td>365.909091</td>\n",
       "      <td>0</td>\n",
       "      <td>10</td>\n",
       "      <td>11</td>\n",
       "      <td>1264</td>\n",
       "      <td>4025</td>\n",
       "      <td>benign</td>\n",
       "    </tr>\n",
       "    <tr>\n",
       "      <th>1</th>\n",
       "      <td>1</td>\n",
       "      <td>10.215.173.1</td>\n",
       "      <td>10.215.173.2</td>\n",
       "      <td>16658</td>\n",
       "      <td>53</td>\n",
       "      <td>17</td>\n",
       "      <td>2021-09-15 15:33:24</td>\n",
       "      <td>43626.0</td>\n",
       "      <td>4148.902031</td>\n",
       "      <td>45.844221</td>\n",
       "      <td>...</td>\n",
       "      <td>0.000000</td>\n",
       "      <td>0.000000</td>\n",
       "      <td>68.000000</td>\n",
       "      <td>113.000000</td>\n",
       "      <td>0</td>\n",
       "      <td>1</td>\n",
       "      <td>1</td>\n",
       "      <td>68</td>\n",
       "      <td>113</td>\n",
       "      <td>benign</td>\n",
       "    </tr>\n",
       "    <tr>\n",
       "      <th>2</th>\n",
       "      <td>2</td>\n",
       "      <td>10.215.173.1</td>\n",
       "      <td>157.240.16.53</td>\n",
       "      <td>37292</td>\n",
       "      <td>5222</td>\n",
       "      <td>6</td>\n",
       "      <td>2021-09-15 15:33:24</td>\n",
       "      <td>2504540.0</td>\n",
       "      <td>735.065122</td>\n",
       "      <td>9.183323</td>\n",
       "      <td>...</td>\n",
       "      <td>71225.071225</td>\n",
       "      <td>0.000000</td>\n",
       "      <td>70.454545</td>\n",
       "      <td>88.833333</td>\n",
       "      <td>0</td>\n",
       "      <td>11</td>\n",
       "      <td>12</td>\n",
       "      <td>775</td>\n",
       "      <td>1066</td>\n",
       "      <td>benign</td>\n",
       "    </tr>\n",
       "    <tr>\n",
       "      <th>3</th>\n",
       "      <td>3</td>\n",
       "      <td>192.168.101.162</td>\n",
       "      <td>172.217.160.162</td>\n",
       "      <td>39604</td>\n",
       "      <td>443</td>\n",
       "      <td>17</td>\n",
       "      <td>2021-09-15 15:33:24</td>\n",
       "      <td>270572.0</td>\n",
       "      <td>1075.499313</td>\n",
       "      <td>18.479370</td>\n",
       "      <td>...</td>\n",
       "      <td>0.000000</td>\n",
       "      <td>0.000000</td>\n",
       "      <td>61.666667</td>\n",
       "      <td>53.000000</td>\n",
       "      <td>0</td>\n",
       "      <td>3</td>\n",
       "      <td>2</td>\n",
       "      <td>185</td>\n",
       "      <td>106</td>\n",
       "      <td>benign</td>\n",
       "    </tr>\n",
       "    <tr>\n",
       "      <th>4</th>\n",
       "      <td>4</td>\n",
       "      <td>10.215.173.1</td>\n",
       "      <td>192.168.101.238</td>\n",
       "      <td>44848</td>\n",
       "      <td>53</td>\n",
       "      <td>17</td>\n",
       "      <td>2021-09-15 15:33:24</td>\n",
       "      <td>230191.0</td>\n",
       "      <td>981.793380</td>\n",
       "      <td>8.688437</td>\n",
       "      <td>...</td>\n",
       "      <td>0.000000</td>\n",
       "      <td>0.000000</td>\n",
       "      <td>77.000000</td>\n",
       "      <td>149.000000</td>\n",
       "      <td>0</td>\n",
       "      <td>1</td>\n",
       "      <td>1</td>\n",
       "      <td>77</td>\n",
       "      <td>149</td>\n",
       "      <td>benign</td>\n",
       "    </tr>\n",
       "    <tr>\n",
       "      <th>...</th>\n",
       "      <td>...</td>\n",
       "      <td>...</td>\n",
       "      <td>...</td>\n",
       "      <td>...</td>\n",
       "      <td>...</td>\n",
       "      <td>...</td>\n",
       "      <td>...</td>\n",
       "      <td>...</td>\n",
       "      <td>...</td>\n",
       "      <td>...</td>\n",
       "      <td>...</td>\n",
       "      <td>...</td>\n",
       "      <td>...</td>\n",
       "      <td>...</td>\n",
       "      <td>...</td>\n",
       "      <td>...</td>\n",
       "      <td>...</td>\n",
       "      <td>...</td>\n",
       "      <td>...</td>\n",
       "      <td>...</td>\n",
       "      <td>...</td>\n",
       "    </tr>\n",
       "    <tr>\n",
       "      <th>54961</th>\n",
       "      <td>54961</td>\n",
       "      <td>10.215.173.1</td>\n",
       "      <td>10.215.173.2</td>\n",
       "      <td>31355</td>\n",
       "      <td>53</td>\n",
       "      <td>17</td>\n",
       "      <td>2021-09-15 15:58:50</td>\n",
       "      <td>134195.0</td>\n",
       "      <td>1468.012966</td>\n",
       "      <td>14.903685</td>\n",
       "      <td>...</td>\n",
       "      <td>0.000000</td>\n",
       "      <td>0.000000</td>\n",
       "      <td>70.000000</td>\n",
       "      <td>127.000000</td>\n",
       "      <td>0</td>\n",
       "      <td>1</td>\n",
       "      <td>1</td>\n",
       "      <td>70</td>\n",
       "      <td>127</td>\n",
       "      <td>benign</td>\n",
       "    </tr>\n",
       "    <tr>\n",
       "      <th>54962</th>\n",
       "      <td>54962</td>\n",
       "      <td>10.215.173.1</td>\n",
       "      <td>10.215.173.2</td>\n",
       "      <td>37070</td>\n",
       "      <td>53</td>\n",
       "      <td>17</td>\n",
       "      <td>2021-09-15 15:58:50</td>\n",
       "      <td>136412.0</td>\n",
       "      <td>1187.578805</td>\n",
       "      <td>14.661467</td>\n",
       "      <td>...</td>\n",
       "      <td>0.000000</td>\n",
       "      <td>0.000000</td>\n",
       "      <td>73.000000</td>\n",
       "      <td>89.000000</td>\n",
       "      <td>0</td>\n",
       "      <td>1</td>\n",
       "      <td>1</td>\n",
       "      <td>73</td>\n",
       "      <td>89</td>\n",
       "      <td>benign</td>\n",
       "    </tr>\n",
       "    <tr>\n",
       "      <th>54963</th>\n",
       "      <td>54963</td>\n",
       "      <td>10.215.173.1</td>\n",
       "      <td>142.250.192.98</td>\n",
       "      <td>47991</td>\n",
       "      <td>443</td>\n",
       "      <td>17</td>\n",
       "      <td>2021-09-15 15:58:50</td>\n",
       "      <td>296628.0</td>\n",
       "      <td>31719.864612</td>\n",
       "      <td>57.310841</td>\n",
       "      <td>...</td>\n",
       "      <td>347594.111254</td>\n",
       "      <td>0.000000</td>\n",
       "      <td>649.250000</td>\n",
       "      <td>468.333333</td>\n",
       "      <td>0</td>\n",
       "      <td>8</td>\n",
       "      <td>9</td>\n",
       "      <td>5194</td>\n",
       "      <td>4215</td>\n",
       "      <td>benign</td>\n",
       "    </tr>\n",
       "    <tr>\n",
       "      <th>54964</th>\n",
       "      <td>54964</td>\n",
       "      <td>10.215.173.1</td>\n",
       "      <td>10.215.173.2</td>\n",
       "      <td>37982</td>\n",
       "      <td>53</td>\n",
       "      <td>17</td>\n",
       "      <td>2021-09-15 15:58:51</td>\n",
       "      <td>163704.0</td>\n",
       "      <td>891.853589</td>\n",
       "      <td>12.217172</td>\n",
       "      <td>...</td>\n",
       "      <td>0.000000</td>\n",
       "      <td>0.000000</td>\n",
       "      <td>65.000000</td>\n",
       "      <td>81.000000</td>\n",
       "      <td>0</td>\n",
       "      <td>1</td>\n",
       "      <td>1</td>\n",
       "      <td>65</td>\n",
       "      <td>81</td>\n",
       "      <td>benign</td>\n",
       "    </tr>\n",
       "    <tr>\n",
       "      <th>54965</th>\n",
       "      <td>54965</td>\n",
       "      <td>10.215.173.1</td>\n",
       "      <td>142.250.66.14</td>\n",
       "      <td>42072</td>\n",
       "      <td>443</td>\n",
       "      <td>6</td>\n",
       "      <td>2021-09-15 15:58:51</td>\n",
       "      <td>570809.0</td>\n",
       "      <td>15435.986468</td>\n",
       "      <td>42.045588</td>\n",
       "      <td>...</td>\n",
       "      <td>0.000000</td>\n",
       "      <td>368386.406649</td>\n",
       "      <td>253.916667</td>\n",
       "      <td>480.333333</td>\n",
       "      <td>0</td>\n",
       "      <td>12</td>\n",
       "      <td>12</td>\n",
       "      <td>3047</td>\n",
       "      <td>5764</td>\n",
       "      <td>benign</td>\n",
       "    </tr>\n",
       "  </tbody>\n",
       "</table>\n",
       "<p>54966 rows × 84 columns</p>\n",
       "</div>"
      ],
      "text/plain": [
       "       Unnamed: 0           src_ip           dst_ip  src_port  dst_port  \\\n",
       "0               0     10.215.173.1    157.240.16.32     48924       443   \n",
       "1               1     10.215.173.1     10.215.173.2     16658        53   \n",
       "2               2     10.215.173.1    157.240.16.53     37292      5222   \n",
       "3               3  192.168.101.162  172.217.160.162     39604       443   \n",
       "4               4     10.215.173.1  192.168.101.238     44848        53   \n",
       "...           ...              ...              ...       ...       ...   \n",
       "54961       54961     10.215.173.1     10.215.173.2     31355        53   \n",
       "54962       54962     10.215.173.1     10.215.173.2     37070        53   \n",
       "54963       54963     10.215.173.1   142.250.192.98     47991       443   \n",
       "54964       54964     10.215.173.1     10.215.173.2     37982        53   \n",
       "54965       54965     10.215.173.1    142.250.66.14     42072       443   \n",
       "\n",
       "       protocol            timestamp  flow_duration   flow_byts_s  \\\n",
       "0             6  2021-09-15 15:33:24      2525190.0   2094.495860   \n",
       "1            17  2021-09-15 15:33:24        43626.0   4148.902031   \n",
       "2             6  2021-09-15 15:33:24      2504540.0    735.065122   \n",
       "3            17  2021-09-15 15:33:24       270572.0   1075.499313   \n",
       "4            17  2021-09-15 15:33:24       230191.0    981.793380   \n",
       "...         ...                  ...            ...           ...   \n",
       "54961        17  2021-09-15 15:58:50       134195.0   1468.012966   \n",
       "54962        17  2021-09-15 15:58:50       136412.0   1187.578805   \n",
       "54963        17  2021-09-15 15:58:50       296628.0  31719.864612   \n",
       "54964        17  2021-09-15 15:58:51       163704.0    891.853589   \n",
       "54965         6  2021-09-15 15:58:51       570809.0  15435.986468   \n",
       "\n",
       "       flow_pkts_s  ...  fwd_blk_rate_avg  bwd_blk_rate_avg  fwd_seg_size_avg  \\\n",
       "0         8.316206  ...          0.000000          0.000000        126.400000   \n",
       "1        45.844221  ...          0.000000          0.000000         68.000000   \n",
       "2         9.183323  ...      71225.071225          0.000000         70.454545   \n",
       "3        18.479370  ...          0.000000          0.000000         61.666667   \n",
       "4         8.688437  ...          0.000000          0.000000         77.000000   \n",
       "...            ...  ...               ...               ...               ...   \n",
       "54961    14.903685  ...          0.000000          0.000000         70.000000   \n",
       "54962    14.661467  ...          0.000000          0.000000         73.000000   \n",
       "54963    57.310841  ...     347594.111254          0.000000        649.250000   \n",
       "54964    12.217172  ...          0.000000          0.000000         65.000000   \n",
       "54965    42.045588  ...          0.000000     368386.406649        253.916667   \n",
       "\n",
       "       bwd_seg_size_avg  cwe_flag_count  subflow_fwd_pkts  subflow_bwd_pkts  \\\n",
       "0            365.909091               0                10                11   \n",
       "1            113.000000               0                 1                 1   \n",
       "2             88.833333               0                11                12   \n",
       "3             53.000000               0                 3                 2   \n",
       "4            149.000000               0                 1                 1   \n",
       "...                 ...             ...               ...               ...   \n",
       "54961        127.000000               0                 1                 1   \n",
       "54962         89.000000               0                 1                 1   \n",
       "54963        468.333333               0                 8                 9   \n",
       "54964         81.000000               0                 1                 1   \n",
       "54965        480.333333               0                12                12   \n",
       "\n",
       "       subflow_fwd_byts  subflow_bwd_byts   Label  \n",
       "0                  1264              4025  benign  \n",
       "1                    68               113  benign  \n",
       "2                   775              1066  benign  \n",
       "3                   185               106  benign  \n",
       "4                    77               149  benign  \n",
       "...                 ...               ...     ...  \n",
       "54961                70               127  benign  \n",
       "54962                73                89  benign  \n",
       "54963              5194              4215  benign  \n",
       "54964                65                81  benign  \n",
       "54965              3047              5764  benign  \n",
       "\n",
       "[54966 rows x 84 columns]"
      ]
     },
     "execution_count": 4,
     "metadata": {},
     "output_type": "execute_result"
    }
   ],
   "source": [
    "df"
   ]
  },
  {
   "cell_type": "code",
   "execution_count": 5,
   "metadata": {},
   "outputs": [
    {
     "data": {
      "text/plain": [
       "Index(['Unnamed: 0', 'src_ip', 'dst_ip', 'src_port', 'dst_port', 'protocol',\n",
       "       'timestamp', 'flow_duration', 'flow_byts_s', 'flow_pkts_s',\n",
       "       'fwd_pkts_s', 'bwd_pkts_s', 'tot_fwd_pkts', 'tot_bwd_pkts',\n",
       "       'totlen_fwd_pkts', 'totlen_bwd_pkts', 'fwd_pkt_len_max',\n",
       "       'fwd_pkt_len_min', 'fwd_pkt_len_mean', 'fwd_pkt_len_std',\n",
       "       'bwd_pkt_len_max', 'bwd_pkt_len_min', 'bwd_pkt_len_mean',\n",
       "       'bwd_pkt_len_std', 'pkt_len_max', 'pkt_len_min', 'pkt_len_mean',\n",
       "       'pkt_len_std', 'pkt_len_var', 'fwd_header_len', 'bwd_header_len',\n",
       "       'fwd_seg_size_min', 'fwd_act_data_pkts', 'flow_iat_mean',\n",
       "       'flow_iat_max', 'flow_iat_min', 'flow_iat_std', 'fwd_iat_tot',\n",
       "       'fwd_iat_max', 'fwd_iat_min', 'fwd_iat_mean', 'fwd_iat_std',\n",
       "       'bwd_iat_tot', 'bwd_iat_max', 'bwd_iat_min', 'bwd_iat_mean',\n",
       "       'bwd_iat_std', 'fwd_psh_flags', 'bwd_psh_flags', 'fwd_urg_flags',\n",
       "       'bwd_urg_flags', 'fin_flag_cnt', 'syn_flag_cnt', 'rst_flag_cnt',\n",
       "       'psh_flag_cnt', 'ack_flag_cnt', 'urg_flag_cnt', 'ece_flag_cnt',\n",
       "       'down_up_ratio', 'pkt_size_avg', 'init_fwd_win_byts',\n",
       "       'init_bwd_win_byts', 'active_max', 'active_min', 'active_mean',\n",
       "       'active_std', 'idle_max', 'idle_min', 'idle_mean', 'idle_std',\n",
       "       'fwd_byts_b_avg', 'fwd_pkts_b_avg', 'bwd_byts_b_avg', 'bwd_pkts_b_avg',\n",
       "       'fwd_blk_rate_avg', 'bwd_blk_rate_avg', 'fwd_seg_size_avg',\n",
       "       'bwd_seg_size_avg', 'cwe_flag_count', 'subflow_fwd_pkts',\n",
       "       'subflow_bwd_pkts', 'subflow_fwd_byts', 'subflow_bwd_byts', 'Label'],\n",
       "      dtype='object')"
      ]
     },
     "execution_count": 5,
     "metadata": {},
     "output_type": "execute_result"
    }
   ],
   "source": [
    "df.columns"
   ]
  },
  {
   "cell_type": "code",
   "execution_count": 6,
   "metadata": {},
   "outputs": [
    {
     "data": {
      "text/plain": [
       "array([0], dtype=int64)"
      ]
     },
     "execution_count": 6,
     "metadata": {},
     "output_type": "execute_result"
    }
   ],
   "source": [
    "ack = df['ack_flag_cnt']\n",
    "pd.unique(ack)"
   ]
  },
  {
   "cell_type": "code",
   "execution_count": 7,
   "metadata": {},
   "outputs": [
    {
     "data": {
      "text/plain": [
       "array([65535,     0,  2048,  2546], dtype=int64)"
      ]
     },
     "execution_count": 7,
     "metadata": {},
     "output_type": "execute_result"
    }
   ],
   "source": [
    "init = df['init_fwd_win_byts']\n",
    "pd.unique(init)"
   ]
  },
  {
   "cell_type": "code",
   "execution_count": 8,
   "metadata": {},
   "outputs": [
    {
     "data": {
      "text/plain": [
       "array([20,  8])"
      ]
     },
     "execution_count": 8,
     "metadata": {},
     "output_type": "execute_result"
    }
   ],
   "source": [
    "seg = df['fwd_seg_size_min'].tolist()\n",
    "pd.unique(seg)"
   ]
  },
  {
   "cell_type": "code",
   "execution_count": 9,
   "metadata": {},
   "outputs": [
    {
     "data": {
      "text/plain": [
       "array([ 582767.,       0.,  862174., ..., 1423555.,  238581.,  421291.])"
      ]
     },
     "execution_count": 9,
     "metadata": {},
     "output_type": "execute_result"
    }
   ],
   "source": [
    "iat = df['fwd_iat_tot']\n",
    "pd.unique(iat)\n"
   ]
  },
  {
   "cell_type": "code",
   "execution_count": 10,
   "metadata": {},
   "outputs": [
    {
     "data": {
      "text/plain": [
       "array([2525190.,   43626., 2504540., ...,  296628.,  163704.,  570809.])"
      ]
     },
     "execution_count": 10,
     "metadata": {},
     "output_type": "execute_result"
    }
   ],
   "source": [
    "flow = df['flow_duration']\n",
    "pd.unique(flow)\n"
   ]
  },
  {
   "cell_type": "code",
   "execution_count": 11,
   "metadata": {},
   "outputs": [
    {
     "data": {
      "text/plain": [
       "array(['benign', 'attack'], dtype=object)"
      ]
     },
     "execution_count": 11,
     "metadata": {},
     "output_type": "execute_result"
    }
   ],
   "source": [
    "label = df['Label']\n",
    "pd.unique(label)"
   ]
  },
  {
   "cell_type": "code",
   "execution_count": 12,
   "metadata": {},
   "outputs": [],
   "source": [
    "data = [df[\"ack_flag_cnt\"], df[\"init_fwd_win_byts\"],df[\"fwd_seg_size_min\"], df[\"fwd_iat_tot\"],df[\"flow_duration\"], df[\"Label\"]]"
   ]
  },
  {
   "cell_type": "code",
   "execution_count": 13,
   "metadata": {},
   "outputs": [],
   "source": [
    "headers = [\"ack\", \"init\",\"seg\",\"iat\",\"flow\",\"label\"]"
   ]
  },
  {
   "cell_type": "code",
   "execution_count": 14,
   "metadata": {},
   "outputs": [],
   "source": [
    "df1 = pd.concat(data, axis=1, keys=headers)"
   ]
  },
  {
   "cell_type": "code",
   "execution_count": 15,
   "metadata": {},
   "outputs": [
    {
     "data": {
      "text/html": [
       "<div>\n",
       "<style scoped>\n",
       "    .dataframe tbody tr th:only-of-type {\n",
       "        vertical-align: middle;\n",
       "    }\n",
       "\n",
       "    .dataframe tbody tr th {\n",
       "        vertical-align: top;\n",
       "    }\n",
       "\n",
       "    .dataframe thead th {\n",
       "        text-align: right;\n",
       "    }\n",
       "</style>\n",
       "<table border=\"1\" class=\"dataframe\">\n",
       "  <thead>\n",
       "    <tr style=\"text-align: right;\">\n",
       "      <th></th>\n",
       "      <th>ack</th>\n",
       "      <th>init</th>\n",
       "      <th>seg</th>\n",
       "      <th>iat</th>\n",
       "      <th>flow</th>\n",
       "      <th>label</th>\n",
       "    </tr>\n",
       "  </thead>\n",
       "  <tbody>\n",
       "    <tr>\n",
       "      <th>0</th>\n",
       "      <td>0</td>\n",
       "      <td>65535</td>\n",
       "      <td>20</td>\n",
       "      <td>582767.0</td>\n",
       "      <td>2525190.0</td>\n",
       "      <td>benign</td>\n",
       "    </tr>\n",
       "    <tr>\n",
       "      <th>1</th>\n",
       "      <td>0</td>\n",
       "      <td>0</td>\n",
       "      <td>8</td>\n",
       "      <td>0.0</td>\n",
       "      <td>43626.0</td>\n",
       "      <td>benign</td>\n",
       "    </tr>\n",
       "    <tr>\n",
       "      <th>2</th>\n",
       "      <td>0</td>\n",
       "      <td>65535</td>\n",
       "      <td>20</td>\n",
       "      <td>862174.0</td>\n",
       "      <td>2504540.0</td>\n",
       "      <td>benign</td>\n",
       "    </tr>\n",
       "    <tr>\n",
       "      <th>3</th>\n",
       "      <td>0</td>\n",
       "      <td>0</td>\n",
       "      <td>8</td>\n",
       "      <td>270572.0</td>\n",
       "      <td>270572.0</td>\n",
       "      <td>benign</td>\n",
       "    </tr>\n",
       "    <tr>\n",
       "      <th>4</th>\n",
       "      <td>0</td>\n",
       "      <td>0</td>\n",
       "      <td>8</td>\n",
       "      <td>0.0</td>\n",
       "      <td>230191.0</td>\n",
       "      <td>benign</td>\n",
       "    </tr>\n",
       "    <tr>\n",
       "      <th>...</th>\n",
       "      <td>...</td>\n",
       "      <td>...</td>\n",
       "      <td>...</td>\n",
       "      <td>...</td>\n",
       "      <td>...</td>\n",
       "      <td>...</td>\n",
       "    </tr>\n",
       "    <tr>\n",
       "      <th>54961</th>\n",
       "      <td>0</td>\n",
       "      <td>0</td>\n",
       "      <td>8</td>\n",
       "      <td>0.0</td>\n",
       "      <td>134195.0</td>\n",
       "      <td>benign</td>\n",
       "    </tr>\n",
       "    <tr>\n",
       "      <th>54962</th>\n",
       "      <td>0</td>\n",
       "      <td>0</td>\n",
       "      <td>8</td>\n",
       "      <td>0.0</td>\n",
       "      <td>136412.0</td>\n",
       "      <td>benign</td>\n",
       "    </tr>\n",
       "    <tr>\n",
       "      <th>54963</th>\n",
       "      <td>0</td>\n",
       "      <td>0</td>\n",
       "      <td>8</td>\n",
       "      <td>238581.0</td>\n",
       "      <td>296628.0</td>\n",
       "      <td>benign</td>\n",
       "    </tr>\n",
       "    <tr>\n",
       "      <th>54964</th>\n",
       "      <td>0</td>\n",
       "      <td>0</td>\n",
       "      <td>8</td>\n",
       "      <td>0.0</td>\n",
       "      <td>163704.0</td>\n",
       "      <td>benign</td>\n",
       "    </tr>\n",
       "    <tr>\n",
       "      <th>54965</th>\n",
       "      <td>0</td>\n",
       "      <td>65535</td>\n",
       "      <td>20</td>\n",
       "      <td>421291.0</td>\n",
       "      <td>570809.0</td>\n",
       "      <td>benign</td>\n",
       "    </tr>\n",
       "  </tbody>\n",
       "</table>\n",
       "<p>54966 rows × 6 columns</p>\n",
       "</div>"
      ],
      "text/plain": [
       "       ack   init  seg       iat       flow   label\n",
       "0        0  65535   20  582767.0  2525190.0  benign\n",
       "1        0      0    8       0.0    43626.0  benign\n",
       "2        0  65535   20  862174.0  2504540.0  benign\n",
       "3        0      0    8  270572.0   270572.0  benign\n",
       "4        0      0    8       0.0   230191.0  benign\n",
       "...    ...    ...  ...       ...        ...     ...\n",
       "54961    0      0    8       0.0   134195.0  benign\n",
       "54962    0      0    8       0.0   136412.0  benign\n",
       "54963    0      0    8  238581.0   296628.0  benign\n",
       "54964    0      0    8       0.0   163704.0  benign\n",
       "54965    0  65535   20  421291.0   570809.0  benign\n",
       "\n",
       "[54966 rows x 6 columns]"
      ]
     },
     "execution_count": 15,
     "metadata": {},
     "output_type": "execute_result"
    }
   ],
   "source": [
    "df1"
   ]
  },
  {
   "cell_type": "markdown",
   "metadata": {},
   "source": [
    "## Model Creation"
   ]
  },
  {
   "cell_type": "code",
   "execution_count": 16,
   "metadata": {},
   "outputs": [],
   "source": [
    "#df1=pd.read_csv('labeled_data_attributes.csv')"
   ]
  },
  {
   "cell_type": "code",
   "execution_count": 17,
   "metadata": {},
   "outputs": [],
   "source": [
    "from pycaret.classification import *\n",
    "from sklearn.preprocessing import LabelEncoder"
   ]
  },
  {
   "cell_type": "code",
   "execution_count": 18,
   "metadata": {},
   "outputs": [],
   "source": [
    "# label encoding for Y values\n",
    "Encoder = LabelEncoder()\n",
    "le = Encoder.fit(df1[\"label\"])\n",
    "df1[\"label\"] = le.transform(df1[\"label\"])"
   ]
  },
  {
   "cell_type": "code",
   "execution_count": 19,
   "metadata": {},
   "outputs": [
    {
     "data": {
      "text/plain": [
       "array([1, 0])"
      ]
     },
     "execution_count": 19,
     "metadata": {},
     "output_type": "execute_result"
    }
   ],
   "source": [
    "pd.unique(df1['label'])\n",
    "# 1 = Benign\n",
    "# 0 = Attack"
   ]
  },
  {
   "cell_type": "code",
   "execution_count": 20,
   "metadata": {},
   "outputs": [],
   "source": [
    "X = df1.drop('label',axis=1)\n",
    "y = df1['label']"
   ]
  },
  {
   "cell_type": "code",
   "execution_count": 21,
   "metadata": {},
   "outputs": [],
   "source": [
    "# train and test split from newly created dataset \n",
    "x_train, x_test, y_train, y_test = train_test_split(X,y, test_size=0.2, random_state=32, shuffle=True)"
   ]
  },
  {
   "cell_type": "code",
   "execution_count": 22,
   "metadata": {},
   "outputs": [
    {
     "data": {
      "text/plain": [
       "0    42848\n",
       "1     1124\n",
       "Name: label, dtype: int64"
      ]
     },
     "execution_count": 22,
     "metadata": {},
     "output_type": "execute_result"
    }
   ],
   "source": [
    "y_train.value_counts()"
   ]
  },
  {
   "cell_type": "code",
   "execution_count": 23,
   "metadata": {},
   "outputs": [
    {
     "data": {
      "image/png": "[encoded data removed]",
      "text/plain": [
       "<Figure size 432x288 with 1 Axes>"
      ]
     },
     "metadata": {
      "needs_background": "light"
     },
     "output_type": "display_data"
    }
   ],
   "source": [
    "data = {'Attack':y_train.value_counts()[0], 'Benign':y_train.value_counts()[1]}\n",
    "courses = list(data.keys())\n",
    "values = list(data.values())\n",
    "plt.bar(courses, values, color ='black')\n",
    "plt.xlabel(\"Labels\")\n",
    "plt.ylabel(\"No. of attacks\")\n",
    "plt.title(\"Classification of attacks\")\n",
    "plt.show()"
   ]
  },
  {
   "cell_type": "code",
   "execution_count": 24,
   "metadata": {},
   "outputs": [],
   "source": [
    "# perform smote for the dataset to solve imbalance\n",
    "from imblearn.over_sampling import SMOTE\n",
    "oversample = SMOTE()\n",
    "x_train, y_train = oversample.fit_resample(x_train, y_train)"
   ]
  },
  {
   "cell_type": "code",
   "execution_count": 25,
   "metadata": {},
   "outputs": [
    {
     "data": {
      "image/png": "[encoded data removed]",
      "text/plain": [
       "<Figure size 432x288 with 1 Axes>"
      ]
     },
     "metadata": {
      "needs_background": "light"
     },
     "output_type": "display_data"
    }
   ],
   "source": [
    "data = {'Attack':y_train.value_counts()[0], 'Benign':y_train.value_counts()[1]}\n",
    "courses = list(data.keys())\n",
    "values = list(data.values())\n",
    "plt.bar(courses, values, color ='black')\n",
    "plt.xlabel(\"Labels\")\n",
    "plt.ylabel(\"No. of attacks\")\n",
    "plt.title(\"Classification of attacks\")\n",
    "plt.show()"
   ]
  },
  {
   "cell_type": "code",
   "execution_count": 26,
   "metadata": {},
   "outputs": [
    {
     "data": {
      "text/plain": [
       "1    42848\n",
       "0    42848\n",
       "Name: label, dtype: int64"
      ]
     },
     "execution_count": 26,
     "metadata": {},
     "output_type": "execute_result"
    }
   ],
   "source": [
    "y_train.value_counts()"
   ]
  },
  {
   "cell_type": "code",
   "execution_count": 27,
   "metadata": {},
   "outputs": [],
   "source": [
    "# concatenate dataset for passing to pycaret\n",
    "train_dataset = pd.concat([x_train,y_train],axis=1)\n",
    "test_dataset = pd.concat([x_test,y_test],axis=1)"
   ]
  },
  {
   "cell_type": "markdown",
   "metadata": {},
   "source": [
    "## Manual training"
   ]
  },
  {
   "cell_type": "code",
   "execution_count": 28,
   "metadata": {},
   "outputs": [],
   "source": [
    "x_test.to_csv(\"x_test.csv\")"
   ]
  },
  {
   "cell_type": "code",
   "execution_count": 29,
   "metadata": {},
   "outputs": [],
   "source": [
    "y_test.to_csv(\"y_test.csv\")"
   ]
  },
  {
   "cell_type": "markdown",
   "metadata": {},
   "source": [
    "### Training Different Models"
   ]
  },
  {
   "cell_type": "code",
   "execution_count": null,
   "metadata": {},
   "outputs": [
    {
     "name": "stdout",
     "output_type": "stream",
     "text": [
      "[21:24:04] WARNING: C:/Users/Administrator/workspace/xgboost-win64_release_1.4.0/src/learner.cc:1095: Starting in XGBoost 1.3.0, the default evaluation metric used with the objective 'binary:logistic' was changed from 'error' to 'logloss'. Explicitly set eval_metric if you'd like to restore the old behavior.\n"
     ]
    }
   ],
   "source": [
    "xgb = XGBClassifier(scale_pos_weight=1)\n",
    "xgb_clf = xgb.fit(x_train,y_train)\n",
    "predictions_xgb = xgb_clf.predict(x_test)"
   ]
  },
  {
   "cell_type": "code",
   "execution_count": null,
   "metadata": {},
   "outputs": [],
   "source": [
    "cf_matrix_xgb = confusion_matrix(y_test, predictions_xgb)\n",
    "print(cf_matrix_xgb)"
   ]
  },
  {
   "cell_type": "code",
   "execution_count": 41,
   "metadata": {},
   "outputs": [
    {
     "data": {
      "image/png": "[encoded data removed]",
      "text/plain": [
       "<Figure size 432x288 with 2 Axes>"
      ]
     },
     "metadata": {
      "needs_background": "light"
     },
     "output_type": "display_data"
    }
   ],
   "source": [
    "heatmap_xgb = sns.heatmap(cf_matrix_xgb, annot=True,cmap='Blues',fmt='g')\n",
    "plt.xlabel(\"predicted\")\n",
    "plt.ylabel(\"actual value\")\n",
    "plt.show()"
   ]
  },
  {
   "cell_type": "code",
   "execution_count": 32,
   "metadata": {},
   "outputs": [
    {
     "name": "stdout",
     "output_type": "stream",
     "text": [
      "              precision    recall  f1-score   support\n",
      "\n",
      "           0       1.00      1.00      1.00     10715\n",
      "           1       0.86      0.97      0.91       279\n",
      "\n",
      "    accuracy                           1.00     10994\n",
      "   macro avg       0.93      0.98      0.95     10994\n",
      "weighted avg       1.00      1.00      1.00     10994\n",
      "\n"
     ]
    }
   ],
   "source": [
    "from sklearn.metrics import classification_report\n",
    "print(classification_report(y_test,predictions_xgb))"
   ]
  },
  {
   "cell_type": "code",
   "execution_count": 33,
   "metadata": {},
   "outputs": [
    {
     "name": "stdout",
     "output_type": "stream",
     "text": [
      "xgb Score ->  99.52701473531017\n",
      "xgb roc_auc Score ->  0.9818644348441287\n",
      "f1 score -> 0.9121621621621623\n"
     ]
    }
   ],
   "source": [
    "print(\"xgb Score -> \",accuracy_score(predictions_xgb, y_test)*100)\n",
    "print(\"xgb roc_auc Score -> \",roc_auc_score(y_test,predictions_xgb))\n",
    "print(\"f1 score ->\", f1_score(y_test,predictions_xgb))"
   ]
  },
  {
   "cell_type": "code",
   "execution_count": 34,
   "metadata": {},
   "outputs": [],
   "source": [
    "filename = \"xgb_model.pkl\"\n",
    "pickle.dump(xgb_clf,open(filename,'wb'))"
   ]
  },
  {
   "cell_type": "markdown",
   "metadata": {},
   "source": [
    "# ADA BOOST"
   ]
  },
  {
   "cell_type": "code",
   "execution_count": 43,
   "metadata": {},
   "outputs": [],
   "source": [
    "from sklearn.ensemble import AdaBoostClassifier"
   ]
  },
  {
   "cell_type": "code",
   "execution_count": 44,
   "metadata": {},
   "outputs": [],
   "source": [
    "ada = AdaBoostClassifier()\n",
    "ada_clf = ada.fit(x_train,y_train)\n",
    "predictions_ada = ada_clf.predict(x_test)"
   ]
  },
  {
   "cell_type": "code",
   "execution_count": 45,
   "metadata": {},
   "outputs": [
    {
     "name": "stdout",
     "output_type": "stream",
     "text": [
      "[[10616    99]\n",
      " [    3   276]]\n"
     ]
    }
   ],
   "source": [
    "cf_matrix_ada = confusion_matrix(y_test, predictions_ada)\n",
    "print(cf_matrix_ada)"
   ]
  },
  {
   "cell_type": "code",
   "execution_count": 46,
   "metadata": {},
   "outputs": [
    {
     "data": {
      "image/png": "[encoded data removed]",
      "text/plain": [
       "<Figure size 432x288 with 2 Axes>"
      ]
     },
     "metadata": {
      "needs_background": "light"
     },
     "output_type": "display_data"
    }
   ],
   "source": [
    "heatmap_ada = sns.heatmap(cf_matrix_ada, annot=True,cmap='Blues',fmt='g')\n",
    "plt.xlabel(\"predicted\")\n",
    "plt.ylabel(\"actual value\")\n",
    "plt.show()"
   ]
  },
  {
   "cell_type": "code",
   "execution_count": 47,
   "metadata": {},
   "outputs": [
    {
     "name": "stdout",
     "output_type": "stream",
     "text": [
      "              precision    recall  f1-score   support\n",
      "\n",
      "           0       1.00      0.99      1.00     10715\n",
      "           1       0.74      0.99      0.84       279\n",
      "\n",
      "    accuracy                           0.99     10994\n",
      "   macro avg       0.87      0.99      0.92     10994\n",
      "weighted avg       0.99      0.99      0.99     10994\n",
      "\n"
     ]
    }
   ],
   "source": [
    "print(classification_report(y_test,predictions_ada))"
   ]
  },
  {
   "cell_type": "code",
   "execution_count": 48,
   "metadata": {},
   "outputs": [
    {
     "name": "stdout",
     "output_type": "stream",
     "text": [
      "ada Score ->  99.07222121156994\n",
      "ada roc_auc Score ->  0.9900039638934466\n",
      "ada f1 score -> 0.8440366972477065\n"
     ]
    }
   ],
   "source": [
    "print(\"ada Score -> \",accuracy_score(predictions_ada, y_test)*100)\n",
    "print(\"ada roc_auc Score -> \",roc_auc_score(y_test,predictions_ada))\n",
    "print(\"ada f1 score ->\", f1_score(y_test,predictions_ada))"
   ]
  },
  {
   "cell_type": "code",
   "execution_count": 49,
   "metadata": {},
   "outputs": [],
   "source": [
    "filename = \"ada_model.pkl\"\n",
    "pickle.dump(ada_clf,open(filename,'wb'))"
   ]
  },
  {
   "cell_type": "markdown",
   "metadata": {},
   "source": [
    "# RF"
   ]
  },
  {
   "cell_type": "code",
   "execution_count": 50,
   "metadata": {},
   "outputs": [],
   "source": [
    "from sklearn.ensemble import RandomForestClassifier\n",
    "rf= RandomForestClassifier()\n",
    "rf_clf = rf.fit(x_train,y_train)\n",
    "predictions_rf = rf_clf.predict(x_test)"
   ]
  },
  {
   "cell_type": "code",
   "execution_count": 51,
   "metadata": {},
   "outputs": [
    {
     "name": "stdout",
     "output_type": "stream",
     "text": [
      "[[10677    38]\n",
      " [    9   270]]\n"
     ]
    }
   ],
   "source": [
    "cf_matrix_rf = confusion_matrix(y_test, predictions_rf)\n",
    "print(cf_matrix_rf)"
   ]
  },
  {
   "cell_type": "code",
   "execution_count": 52,
   "metadata": {},
   "outputs": [
    {
     "data": {
      "image/png": "[encoded data removed]",
      "text/plain": [
       "<Figure size 432x288 with 2 Axes>"
      ]
     },
     "metadata": {
      "needs_background": "light"
     },
     "output_type": "display_data"
    }
   ],
   "source": [
    "heatmap_rf = sns.heatmap(cf_matrix_rf, annot=True,cmap='Blues',fmt='g')\n",
    "plt.xlabel(\"predicted\")\n",
    "plt.ylabel(\"actual value\")\n",
    "plt.show()"
   ]
  },
  {
   "cell_type": "code",
   "execution_count": 53,
   "metadata": {},
   "outputs": [
    {
     "name": "stdout",
     "output_type": "stream",
     "text": [
      "              precision    recall  f1-score   support\n",
      "\n",
      "           0       1.00      1.00      1.00     10715\n",
      "           1       0.88      0.97      0.92       279\n",
      "\n",
      "    accuracy                           1.00     10994\n",
      "   macro avg       0.94      0.98      0.96     10994\n",
      "weighted avg       1.00      1.00      1.00     10994\n",
      "\n"
     ]
    }
   ],
   "source": [
    "print(classification_report(y_test,predictions_rf))"
   ]
  },
  {
   "cell_type": "code",
   "execution_count": 54,
   "metadata": {},
   "outputs": [
    {
     "name": "stdout",
     "output_type": "stream",
     "text": [
      "rf Score ->  99.57249408768419\n",
      "rf roc_auc Score ->  0.9820977526229434\n",
      "rf f1 score -> 0.919931856899489\n"
     ]
    }
   ],
   "source": [
    "print(\"rf Score -> \",accuracy_score(predictions_rf, y_test)*100)\n",
    "print(\"rf roc_auc Score -> \",roc_auc_score(y_test,predictions_rf))\n",
    "print(\"rf f1 score ->\", f1_score(y_test,predictions_rf))"
   ]
  },
  {
   "cell_type": "code",
   "execution_count": 55,
   "metadata": {},
   "outputs": [],
   "source": [
    "filename = \"rf_model.pkl\"\n",
    "pickle.dump(rf_clf,open(filename,'wb'))"
   ]
  },
  {
   "cell_type": "markdown",
   "metadata": {},
   "source": [
    "# LGBM"
   ]
  },
  {
   "cell_type": "code",
   "execution_count": 56,
   "metadata": {},
   "outputs": [],
   "source": [
    "lgbm= lightgbm.LGBMClassifier()\n",
    "lgbm_clf = lgbm.fit(x_train,y_train)\n",
    "predictions_lgbm = lgbm_clf.predict(x_test)"
   ]
  },
  {
   "cell_type": "code",
   "execution_count": 57,
   "metadata": {},
   "outputs": [
    {
     "name": "stdout",
     "output_type": "stream",
     "text": [
      "[[10641    74]\n",
      " [   10   269]]\n"
     ]
    }
   ],
   "source": [
    "cf_matrix_lgbm = confusion_matrix(y_test, predictions_lgbm)\n",
    "print(cf_matrix_lgbm)"
   ]
  },
  {
   "cell_type": "code",
   "execution_count": 58,
   "metadata": {},
   "outputs": [
    {
     "data": {
      "image/png": "[encoded data removed]",
      "text/plain": [
       "<Figure size 432x288 with 2 Axes>"
      ]
     },
     "metadata": {
      "needs_background": "light"
     },
     "output_type": "display_data"
    }
   ],
   "source": [
    "heatmap_lgbm = sns.heatmap(cf_matrix_lgbm, annot=True,cmap='Blues',fmt='g')\n",
    "plt.xlabel(\"predicted\")\n",
    "plt.ylabel(\"actual value\")\n",
    "plt.show()"
   ]
  },
  {
   "cell_type": "code",
   "execution_count": 59,
   "metadata": {},
   "outputs": [
    {
     "name": "stdout",
     "output_type": "stream",
     "text": [
      "rf Score ->  99.23594688011643\n",
      "rf roc_auc Score ->  0.9786257499201366\n",
      "rf f1 score -> 0.8649517684887459\n"
     ]
    }
   ],
   "source": [
    "print(\"rf Score -> \",accuracy_score(predictions_lgbm, y_test)*100)\n",
    "print(\"rf roc_auc Score -> \",roc_auc_score(y_test,predictions_lgbm))\n",
    "print(\"rf f1 score ->\", f1_score(y_test,predictions_lgbm))"
   ]
  },
  {
   "cell_type": "code",
   "execution_count": 60,
   "metadata": {},
   "outputs": [],
   "source": [
    "filename = \"lgbm_model.pkl\"\n",
    "pickle.dump(lgbm_clf,open(filename,'wb'))"
   ]
  }
 ],
 "metadata": {
  "kernelspec": {
   "display_name": "Python 3",
   "language": "python",
   "name": "python3"
  },
  "language_info": {
   "codemirror_mode": {
    "name": "ipython",
    "version": 3
   },
   "file_extension": ".py",
   "mimetype": "text/x-python",
   "name": "python",
   "nbconvert_exporter": "python",
   "pygments_lexer": "ipython3",
   "version": "3.8.5"
  }
 },
 "nbformat": 4,
 "nbformat_minor": 4
}
