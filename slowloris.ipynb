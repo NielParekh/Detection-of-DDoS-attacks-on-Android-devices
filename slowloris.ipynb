{
 "cells": [
  {
   "cell_type": "code",
   "execution_count": 4,
   "metadata": {},
   "outputs": [],
   "source": [
    "import pandas as pd\n",
    "from sklearn.model_selection import train_test_split\n",
    "from xgboost import XGBClassifier\n",
    "from sklearn.metrics import accuracy_score, f1_score, precision_score, recall_score, roc_auc_score\n",
    "import seaborn as sns\n",
    "import numpy as np\n",
    "import matplotlib.pyplot as plt"
   ]
  },
  {
   "cell_type": "code",
   "execution_count": 5,
   "metadata": {},
   "outputs": [],
   "source": [
    "df=pd.read_csv('C://Users//WELCOME//Downloads//labeled_data.csv')"
   ]
  },
  {
   "cell_type": "code",
   "execution_count": 6,
   "metadata": {},
   "outputs": [
    {
     "data": {
      "text/plain": [
       "Index(['Unnamed: 0', 'src_ip', 'dst_ip', 'src_port', 'dst_port', 'protocol',\n",
       "       'timestamp', 'flow_duration', 'flow_byts_s', 'flow_pkts_s',\n",
       "       'fwd_pkts_s', 'bwd_pkts_s', 'tot_fwd_pkts', 'tot_bwd_pkts',\n",
       "       'totlen_fwd_pkts', 'totlen_bwd_pkts', 'fwd_pkt_len_max',\n",
       "       'fwd_pkt_len_min', 'fwd_pkt_len_mean', 'fwd_pkt_len_std',\n",
       "       'bwd_pkt_len_max', 'bwd_pkt_len_min', 'bwd_pkt_len_mean',\n",
       "       'bwd_pkt_len_std', 'pkt_len_max', 'pkt_len_min', 'pkt_len_mean',\n",
       "       'pkt_len_std', 'pkt_len_var', 'fwd_header_len', 'bwd_header_len',\n",
       "       'fwd_seg_size_min', 'fwd_act_data_pkts', 'flow_iat_mean',\n",
       "       'flow_iat_max', 'flow_iat_min', 'flow_iat_std', 'fwd_iat_tot',\n",
       "       'fwd_iat_max', 'fwd_iat_min', 'fwd_iat_mean', 'fwd_iat_std',\n",
       "       'bwd_iat_tot', 'bwd_iat_max', 'bwd_iat_min', 'bwd_iat_mean',\n",
       "       'bwd_iat_std', 'fwd_psh_flags', 'bwd_psh_flags', 'fwd_urg_flags',\n",
       "       'bwd_urg_flags', 'fin_flag_cnt', 'syn_flag_cnt', 'rst_flag_cnt',\n",
       "       'psh_flag_cnt', 'ack_flag_cnt', 'urg_flag_cnt', 'ece_flag_cnt',\n",
       "       'down_up_ratio', 'pkt_size_avg', 'init_fwd_win_byts',\n",
       "       'init_bwd_win_byts', 'active_max', 'active_min', 'active_mean',\n",
       "       'active_std', 'idle_max', 'idle_min', 'idle_mean', 'idle_std',\n",
       "       'fwd_byts_b_avg', 'fwd_pkts_b_avg', 'bwd_byts_b_avg', 'bwd_pkts_b_avg',\n",
       "       'fwd_blk_rate_avg', 'bwd_blk_rate_avg', 'fwd_seg_size_avg',\n",
       "       'bwd_seg_size_avg', 'cwe_flag_count', 'subflow_fwd_pkts',\n",
       "       'subflow_bwd_pkts', 'subflow_fwd_byts', 'subflow_bwd_byts', 'Label'],\n",
       "      dtype='object')"
      ]
     },
     "execution_count": 6,
     "metadata": {},
     "output_type": "execute_result"
    }
   ],
   "source": [
    "df.columns"
   ]
  },
  {
   "cell_type": "code",
   "execution_count": 7,
   "metadata": {},
   "outputs": [
    {
     "data": {
      "text/plain": [
       "Index(['Unnamed: 0', 'src_ip', 'dst_ip', 'src_port', 'dst_port', 'protocol',\n",
       "       'timestamp', 'flow_duration', 'flow_byts_s', 'flow_pkts_s',\n",
       "       'fwd_pkts_s', 'bwd_pkts_s', 'tot_fwd_pkts', 'tot_bwd_pkts',\n",
       "       'totlen_fwd_pkts', 'totlen_bwd_pkts', 'fwd_pkt_len_max',\n",
       "       'fwd_pkt_len_min', 'fwd_pkt_len_mean', 'fwd_pkt_len_std',\n",
       "       'bwd_pkt_len_max', 'bwd_pkt_len_min', 'bwd_pkt_len_mean',\n",
       "       'bwd_pkt_len_std', 'pkt_len_max', 'pkt_len_min', 'pkt_len_mean',\n",
       "       'pkt_len_std', 'pkt_len_var', 'fwd_header_len', 'bwd_header_len',\n",
       "       'fwd_seg_size_min', 'fwd_act_data_pkts', 'flow_iat_mean',\n",
       "       'flow_iat_max', 'flow_iat_min', 'flow_iat_std', 'fwd_iat_tot',\n",
       "       'fwd_iat_max', 'fwd_iat_min', 'fwd_iat_mean', 'fwd_iat_std',\n",
       "       'bwd_iat_tot', 'bwd_iat_max', 'bwd_iat_min', 'bwd_iat_mean',\n",
       "       'bwd_iat_std', 'fwd_psh_flags', 'bwd_psh_flags', 'fwd_urg_flags',\n",
       "       'bwd_urg_flags', 'fin_flag_cnt', 'syn_flag_cnt', 'rst_flag_cnt',\n",
       "       'psh_flag_cnt', 'ack_flag_cnt', 'urg_flag_cnt', 'ece_flag_cnt',\n",
       "       'down_up_ratio', 'pkt_size_avg', 'init_fwd_win_byts',\n",
       "       'init_bwd_win_byts', 'active_max', 'active_min', 'active_mean',\n",
       "       'active_std', 'idle_max', 'idle_min', 'idle_mean', 'idle_std',\n",
       "       'fwd_byts_b_avg', 'fwd_pkts_b_avg', 'bwd_byts_b_avg', 'bwd_pkts_b_avg',\n",
       "       'fwd_blk_rate_avg', 'bwd_blk_rate_avg', 'fwd_seg_size_avg',\n",
       "       'bwd_seg_size_avg', 'cwe_flag_count', 'subflow_fwd_pkts',\n",
       "       'subflow_bwd_pkts', 'subflow_fwd_byts', 'subflow_bwd_byts', 'Label'],\n",
       "      dtype='object')"
      ]
     },
     "execution_count": 7,
     "metadata": {},
     "output_type": "execute_result"
    }
   ],
   "source": [
    "df.columns"
   ]
  },
  {
   "cell_type": "code",
   "execution_count": 8,
   "metadata": {},
   "outputs": [
    {
     "data": {
      "text/plain": [
       "array([    1264,       68,      775,      185,       77,      369,\n",
       "            367,      368,       88,      409,      408,      407,\n",
       "             60,      735,     1224,      815,      366,       59,\n",
       "           8625,     6451,     6803,     6495,     6843,     2775,\n",
       "           3352,       67,     3782,     1286,     2305,     1085,\n",
       "             66,     1579,     8819,     1071,       62,     1243,\n",
       "             87,    38566,     1326,     6984,     2221,    38188,\n",
       "           1389,      863,     1303,     1279,     1343,     3626,\n",
       "            406,     1987,      100,     2102,    35347,     7144,\n",
       "           1119,     1143,     1263,    10595,    11503,     1304,\n",
       "           3663,     1366,      156,    40164,     1196,     2232,\n",
       "           3578,      991,    25996,    89813,      419,      459,\n",
       "            458,      460,      457,      418,      420,    65654,\n",
       "          24206,     1446,     1242,       61,     4702,     2740,\n",
       "           4018,    40558,     5737,     1144,    10516,     7456,\n",
       "           1127,    46169,     1406,       64,     2089,      695,\n",
       "           5017,     5817,     4943,    15069,     2299,    27268,\n",
       "           1184,     3778,     1554,    53259,      417,     9968,\n",
       "          10734,     9871,     1271,    54150,       74,     1738,\n",
       "           1673,     2858,     5435,     4301,     1327,     8883,\n",
       "           2213,       78,    15638,       81,       83,     2389,\n",
       "           1686,     1223,    15974,    14351,    11220,    12902,\n",
       "          32660,     1287,     1253,     1894,      895,     1795,\n",
       "          44609,    53968,     4060,     1367,     1361,     1353,\n",
       "           2300,     3820,     4220,     4100,     1468,     6020,\n",
       "            855,     1979,     1244,     4020,      416,    13782,\n",
       "         313234,    17780,     5700,     7340,      665,     4682,\n",
       "          15282,     1407,     5740,      974,     7460,     3780,\n",
       "          22780,     1432,     5859,     2045,    51470,     5780,\n",
       "           1156,    63356,      455,     4054,      750,      985,\n",
       "           8106,       65,     1439,    16525,     1013,     1322,\n",
       "         136888,     3115,      853,    17820,     7380,     4031,\n",
       "           3580,     1031,     3740,      634,      128,     7503,\n",
       "          16020,     2015,     8740,     7079,     4678,     1981,\n",
       "           1299,   151792,     1252,    16100,      456,     4035,\n",
       "          10466,     3980,     9060,     3995,     1245,      655,\n",
       "           2340,     5660,     9295,     8800,     2097,     4598,\n",
       "          15940,     1349,     3837,      912,     1469,     3243,\n",
       "           1989,     1975,   244663,    67237,    13325,     9094,\n",
       "            955,     9220,     5570,     2111,     2380,    35164,\n",
       "             71,       69,     5617,       70,       72,     3718,\n",
       "             82,     1875,      737,      140,       57,    77732,\n",
       "          31997,    16300,      930,      928,      885,     1001,\n",
       "           6539,    18339,     5484,     2325,     4602,     6265,\n",
       "           6344,    25220,     1796,     6483,     1934,     2092,\n",
       "           2282,     1984,     1928,     2360,     1876,    11833,\n",
       "           1797,     2069,     7431,     7422,     6257,    10370,\n",
       "           6668,     1706,     2467,     3018,     9253,    26276,\n",
       "           3783,     1906,     2474,     1756,    15341,     2752,\n",
       "          26036,     4354,    24345,     3217,     2019,     6553,\n",
       "           1281,    42137,    23819,   115043,    83902,    11713,\n",
       "          21020,    66130,    56901,     4670,     6600,     7960,\n",
       "           6421,     6329,     9943,     1392,     9159,    10764,\n",
       "          16005,     1778,     9852,    10838,     1908,    35127,\n",
       "           2930,     6973,     7583,     4298,    15558,     3408,\n",
       "           2132,     1239,     2333,    14602,     1493,     4432,\n",
       "          39552,     2173,    65290,     3566,     2206,     3726,\n",
       "            575,    96228,     8168,    33939,     3256,     1630,\n",
       "          40998,    15893,     1321,      945,     3446,     3075,\n",
       "            905,     3766,     3549,     1726,     3991,     1308,\n",
       "           6792,     6643,     1486,    10406,     1391,      535,\n",
       "         280208,      745,     8392,     3589,     5182,   122994,\n",
       "           1053,    10794,     6179,     4848,     6832,     1232,\n",
       "           2057,   171012,      495,     6603,      779,     1399,\n",
       "           8450,     1631,       73,     1647,     6707,     3447,\n",
       "           1649,     9486,       63,     1371,     1425,     1030,\n",
       "           5815,   169412,     1335,      659,     4694,     9703,\n",
       "            615,     5022,     3061,     3911,     2373,      619,\n",
       "         243962,     2293,    12260,      881,     9434,     7728,\n",
       "           1479,    11978,     2387,   367250,     5102,     1566,\n",
       "          13875,     1267,     1363,     1859,     4250,     3431,\n",
       "             75,     2739,     1957,     5507,     1309,     1519,\n",
       "          12054, 10609510,      899,     3846,     7945,     2704,\n",
       "           2220,     2195,    17713,      819,     4947,   173372,\n",
       "            699,    31200,   116788,      933,     1393,    12102,\n",
       "          18746,    12166,     2789,    65570,    16778,    90696,\n",
       "           4982,     2053,     4426,     8755,     4618,     2063,\n",
       "         169146,     7560,     6523,     7135,     4578,   295312,\n",
       "           6684,     1937,     6752,    13811,     1431,     5728,\n",
       "        3218915,     1206,   189904,     4942,     5142,     2253,\n",
       "           2421,     3306,    17489,    12735,     7044,     4900,\n",
       "         357544,    11986,     8128,     4658,    15958,   223862,\n",
       "            865,     8483,    13803,      449,      448,     3806,\n",
       "            489,      488,      447,     2791,     1907,     4939,\n",
       "           5194,     3047], dtype=int64)"
      ]
     },
     "execution_count": 8,
     "metadata": {},
     "output_type": "execute_result"
    }
   ],
   "source": [
    "totlen_fwd_pkts = df['totlen_fwd_pkts']\n",
    "pd.unique(totlen_fwd_pkts)"
   ]
  },
  {
   "cell_type": "code",
   "execution_count": 9,
   "metadata": {},
   "outputs": [
    {
     "data": {
      "text/plain": [
       "array([ 2094.49585972,  4148.9020309 ,   735.06512174, ...,\n",
       "       31719.86461157,   891.85358941, 15435.98646833])"
      ]
     },
     "execution_count": 9,
     "metadata": {},
     "output_type": "execute_result"
    }
   ],
   "source": [
    "flow_byts_s=df['flow_byts_s']\n",
    "pd.unique(flow_byts_s)"
   ]
  },
  {
   "cell_type": "code",
   "execution_count": 10,
   "metadata": {},
   "outputs": [
    {
     "data": {
      "text/plain": [
       "array([ 8.31620591, 45.84422134,  9.18332309, ..., 57.31084051,\n",
       "       12.21717246, 42.04558793])"
      ]
     },
     "execution_count": 10,
     "metadata": {},
     "output_type": "execute_result"
    }
   ],
   "source": [
    "flow_pkts_s=df['flow_pkts_s']\n",
    "pd.unique(flow_pkts_s)"
   ]
  },
  {
   "cell_type": "code",
   "execution_count": 11,
   "metadata": {},
   "outputs": [
    {
     "data": {
      "text/plain": [
       "array([2525190.,   43626., 2504540., ...,  296628.,  163704.,  570809.])"
      ]
     },
     "execution_count": 11,
     "metadata": {},
     "output_type": "execute_result"
    }
   ],
   "source": [
    "flow_duration=df['flow_duration']\n",
    "pd.unique(flow_duration)"
   ]
  },
  {
   "cell_type": "code",
   "execution_count": 12,
   "metadata": {},
   "outputs": [
    {
     "data": {
      "text/plain": [
       "array([ 4.35610786, 22.92211067,  4.791299  , ..., 30.34103321,\n",
       "        6.10858623, 21.02279396])"
      ]
     },
     "execution_count": 12,
     "metadata": {},
     "output_type": "execute_result"
    }
   ],
   "source": [
    "bwd_pkts_s=df['bwd_pkts_s']\n",
    "pd.unique(bwd_pkts_s)"
   ]
  },
  {
   "cell_type": "code",
   "execution_count": 13,
   "metadata": {},
   "outputs": [
    {
     "data": {
      "text/plain": [
       "array([1942423.,       0., 1642366., ..., 1259118.,   88367.,  149195.])"
      ]
     },
     "execution_count": 13,
     "metadata": {},
     "output_type": "execute_result"
    }
   ],
   "source": [
    "flow_iat_max=df['flow_iat_max']\n",
    "pd.unique(flow_iat_max)"
   ]
  },
  {
   "cell_type": "code",
   "execution_count": 14,
   "metadata": {},
   "outputs": [
    {
     "data": {
      "text/plain": [
       "array([126259.5       ,      0.        , 113842.72727273, ...,\n",
       "        89422.43333333,  18539.25      ,  24817.7826087 ])"
      ]
     },
     "execution_count": 14,
     "metadata": {},
     "output_type": "execute_result"
    }
   ],
   "source": [
    "flow_iat_mean=df['flow_iat_mean']\n",
    "pd.unique(flow_iat_mean)"
   ]
  },
  {
   "cell_type": "code",
   "execution_count": 15,
   "metadata": {},
   "outputs": [
    {
     "data": {
      "text/plain": [
       "array(['benign', 'attack'], dtype=object)"
      ]
     },
     "execution_count": 15,
     "metadata": {},
     "output_type": "execute_result"
    }
   ],
   "source": [
    "labels=df['Label']\n",
    "pd.unique(labels)"
   ]
  },
  {
   "cell_type": "code",
   "execution_count": 16,
   "metadata": {},
   "outputs": [
    {
     "data": {
      "image/png": "[encoded data removed]",
      "text/plain": [
       "<Figure size 432x288 with 1 Axes>"
      ]
     },
     "metadata": {
      "needs_background": "light"
     },
     "output_type": "display_data"
    }
   ],
   "source": [
    "data = {'Slowloris':df['Label'].value_counts().attack, 'Benign':df['Label'].value_counts().benign}\n",
    "courses = list(data.keys())\n",
    "values = list(data.values())\n",
    "plt.bar(courses, values, color ='blue')\n",
    "plt.xlabel(\"Labels\")\n",
    "plt.ylabel(\"No. of attacks\")\n",
    "plt.title(\"Classification of attacks\")\n",
    "plt.show()"
   ]
  },
  {
   "cell_type": "code",
   "execution_count": 17,
   "metadata": {},
   "outputs": [],
   "source": [
    "data = [df['flow_byts_s'], df['flow_pkts_s'],df['flow_duration'], df['bwd_pkts_s'],df['flow_iat_max'], df['flow_iat_mean'],df['Label']]"
   ]
  },
  {
   "cell_type": "code",
   "execution_count": 18,
   "metadata": {},
   "outputs": [],
   "source": [
    "headers=['flow_byte','flow_pkt','flow_duration','bwd_pkt','flow_iat_max','flow_iat_mean','label']"
   ]
  },
  {
   "cell_type": "code",
   "execution_count": 19,
   "metadata": {},
   "outputs": [],
   "source": [
    "df1 = pd.concat(data, axis=1, keys=headers)"
   ]
  },
  {
   "cell_type": "code",
   "execution_count": 20,
   "metadata": {},
   "outputs": [
    {
     "data": {
      "text/html": [
       "<div>\n",
       "<style scoped>\n",
       "    .dataframe tbody tr th:only-of-type {\n",
       "        vertical-align: middle;\n",
       "    }\n",
       "\n",
       "    .dataframe tbody tr th {\n",
       "        vertical-align: top;\n",
       "    }\n",
       "\n",
       "    .dataframe thead th {\n",
       "        text-align: right;\n",
       "    }\n",
       "</style>\n",
       "<table border=\"1\" class=\"dataframe\">\n",
       "  <thead>\n",
       "    <tr style=\"text-align: right;\">\n",
       "      <th></th>\n",
       "      <th>flow_byte</th>\n",
       "      <th>flow_pkt</th>\n",
       "      <th>flow_duration</th>\n",
       "      <th>bwd_pkt</th>\n",
       "      <th>flow_iat_max</th>\n",
       "      <th>flow_iat_mean</th>\n",
       "      <th>label</th>\n",
       "    </tr>\n",
       "  </thead>\n",
       "  <tbody>\n",
       "    <tr>\n",
       "      <th>0</th>\n",
       "      <td>2094.495860</td>\n",
       "      <td>8.316206</td>\n",
       "      <td>2525190.0</td>\n",
       "      <td>4.356108</td>\n",
       "      <td>1942423.0</td>\n",
       "      <td>126259.500000</td>\n",
       "      <td>benign</td>\n",
       "    </tr>\n",
       "    <tr>\n",
       "      <th>1</th>\n",
       "      <td>4148.902031</td>\n",
       "      <td>45.844221</td>\n",
       "      <td>43626.0</td>\n",
       "      <td>22.922111</td>\n",
       "      <td>0.0</td>\n",
       "      <td>0.000000</td>\n",
       "      <td>benign</td>\n",
       "    </tr>\n",
       "    <tr>\n",
       "      <th>2</th>\n",
       "      <td>735.065122</td>\n",
       "      <td>9.183323</td>\n",
       "      <td>2504540.0</td>\n",
       "      <td>4.791299</td>\n",
       "      <td>1642366.0</td>\n",
       "      <td>113842.727273</td>\n",
       "      <td>benign</td>\n",
       "    </tr>\n",
       "    <tr>\n",
       "      <th>3</th>\n",
       "      <td>1075.499313</td>\n",
       "      <td>18.479370</td>\n",
       "      <td>270572.0</td>\n",
       "      <td>7.391748</td>\n",
       "      <td>246293.0</td>\n",
       "      <td>67643.000000</td>\n",
       "      <td>benign</td>\n",
       "    </tr>\n",
       "    <tr>\n",
       "      <th>4</th>\n",
       "      <td>981.793380</td>\n",
       "      <td>8.688437</td>\n",
       "      <td>230191.0</td>\n",
       "      <td>4.344218</td>\n",
       "      <td>0.0</td>\n",
       "      <td>0.000000</td>\n",
       "      <td>benign</td>\n",
       "    </tr>\n",
       "    <tr>\n",
       "      <th>...</th>\n",
       "      <td>...</td>\n",
       "      <td>...</td>\n",
       "      <td>...</td>\n",
       "      <td>...</td>\n",
       "      <td>...</td>\n",
       "      <td>...</td>\n",
       "      <td>...</td>\n",
       "    </tr>\n",
       "    <tr>\n",
       "      <th>54961</th>\n",
       "      <td>1468.012966</td>\n",
       "      <td>14.903685</td>\n",
       "      <td>134195.0</td>\n",
       "      <td>7.451842</td>\n",
       "      <td>0.0</td>\n",
       "      <td>0.000000</td>\n",
       "      <td>benign</td>\n",
       "    </tr>\n",
       "    <tr>\n",
       "      <th>54962</th>\n",
       "      <td>1187.578805</td>\n",
       "      <td>14.661467</td>\n",
       "      <td>136412.0</td>\n",
       "      <td>7.330733</td>\n",
       "      <td>0.0</td>\n",
       "      <td>0.000000</td>\n",
       "      <td>benign</td>\n",
       "    </tr>\n",
       "    <tr>\n",
       "      <th>54963</th>\n",
       "      <td>31719.864612</td>\n",
       "      <td>57.310841</td>\n",
       "      <td>296628.0</td>\n",
       "      <td>30.341033</td>\n",
       "      <td>88367.0</td>\n",
       "      <td>18539.250000</td>\n",
       "      <td>benign</td>\n",
       "    </tr>\n",
       "    <tr>\n",
       "      <th>54964</th>\n",
       "      <td>891.853589</td>\n",
       "      <td>12.217172</td>\n",
       "      <td>163704.0</td>\n",
       "      <td>6.108586</td>\n",
       "      <td>0.0</td>\n",
       "      <td>0.000000</td>\n",
       "      <td>benign</td>\n",
       "    </tr>\n",
       "    <tr>\n",
       "      <th>54965</th>\n",
       "      <td>15435.986468</td>\n",
       "      <td>42.045588</td>\n",
       "      <td>570809.0</td>\n",
       "      <td>21.022794</td>\n",
       "      <td>149195.0</td>\n",
       "      <td>24817.782609</td>\n",
       "      <td>benign</td>\n",
       "    </tr>\n",
       "  </tbody>\n",
       "</table>\n",
       "<p>54966 rows × 7 columns</p>\n",
       "</div>"
      ],
      "text/plain": [
       "          flow_byte   flow_pkt  flow_duration    bwd_pkt  flow_iat_max  \\\n",
       "0       2094.495860   8.316206      2525190.0   4.356108     1942423.0   \n",
       "1       4148.902031  45.844221        43626.0  22.922111           0.0   \n",
       "2        735.065122   9.183323      2504540.0   4.791299     1642366.0   \n",
       "3       1075.499313  18.479370       270572.0   7.391748      246293.0   \n",
       "4        981.793380   8.688437       230191.0   4.344218           0.0   \n",
       "...             ...        ...            ...        ...           ...   \n",
       "54961   1468.012966  14.903685       134195.0   7.451842           0.0   \n",
       "54962   1187.578805  14.661467       136412.0   7.330733           0.0   \n",
       "54963  31719.864612  57.310841       296628.0  30.341033       88367.0   \n",
       "54964    891.853589  12.217172       163704.0   6.108586           0.0   \n",
       "54965  15435.986468  42.045588       570809.0  21.022794      149195.0   \n",
       "\n",
       "       flow_iat_mean   label  \n",
       "0      126259.500000  benign  \n",
       "1           0.000000  benign  \n",
       "2      113842.727273  benign  \n",
       "3       67643.000000  benign  \n",
       "4           0.000000  benign  \n",
       "...              ...     ...  \n",
       "54961       0.000000  benign  \n",
       "54962       0.000000  benign  \n",
       "54963   18539.250000  benign  \n",
       "54964       0.000000  benign  \n",
       "54965   24817.782609  benign  \n",
       "\n",
       "[54966 rows x 7 columns]"
      ]
     },
     "execution_count": 20,
     "metadata": {},
     "output_type": "execute_result"
    }
   ],
   "source": [
    "df1"
   ]
  },
  {
   "cell_type": "code",
   "execution_count": 21,
   "metadata": {},
   "outputs": [],
   "source": [
    "df1.to_csv(\"slowloris_attributes.csv\")"
   ]
  },
  {
   "cell_type": "markdown",
   "metadata": {},
   "source": [
    "# Model Creation"
   ]
  },
  {
   "cell_type": "code",
   "execution_count": 22,
   "metadata": {},
   "outputs": [],
   "source": [
    "from pycaret.classification import *\n",
    "from sklearn.preprocessing import LabelEncoder"
   ]
  },
  {
   "cell_type": "code",
   "execution_count": 23,
   "metadata": {},
   "outputs": [],
   "source": [
    "Encoder = LabelEncoder()\n",
    "le = Encoder.fit(df1[\"label\"])\n",
    "df1[\"label\"] = le.transform(df1[\"label\"])"
   ]
  },
  {
   "cell_type": "code",
   "execution_count": 24,
   "metadata": {},
   "outputs": [
    {
     "data": {
      "text/plain": [
       "array([1, 0])"
      ]
     },
     "execution_count": 24,
     "metadata": {},
     "output_type": "execute_result"
    }
   ],
   "source": [
    "pd.unique(df1['label'])\n",
    "# 1 = Benign\n",
    "# 0 = Attack"
   ]
  },
  {
   "cell_type": "code",
   "execution_count": 25,
   "metadata": {},
   "outputs": [],
   "source": [
    "df = pd.read_csv('slowloris_attributes.csv')\n"
   ]
  },
  {
   "cell_type": "code",
   "execution_count": 26,
   "metadata": {},
   "outputs": [],
   "source": [
    "df.drop(columns=['Unnamed: 0'],inplace= True)\n"
   ]
  },
  {
   "cell_type": "code",
   "execution_count": 27,
   "metadata": {},
   "outputs": [],
   "source": [
    "df['label'] = np.where(df['label'] == 'attack', 1, 0)"
   ]
  },
  {
   "cell_type": "code",
   "execution_count": 28,
   "metadata": {},
   "outputs": [
    {
     "data": {
      "text/html": [
       "<div>\n",
       "<style scoped>\n",
       "    .dataframe tbody tr th:only-of-type {\n",
       "        vertical-align: middle;\n",
       "    }\n",
       "\n",
       "    .dataframe tbody tr th {\n",
       "        vertical-align: top;\n",
       "    }\n",
       "\n",
       "    .dataframe thead th {\n",
       "        text-align: right;\n",
       "    }\n",
       "</style>\n",
       "<table border=\"1\" class=\"dataframe\">\n",
       "  <thead>\n",
       "    <tr style=\"text-align: right;\">\n",
       "      <th></th>\n",
       "      <th>flow_byte</th>\n",
       "      <th>flow_pkt</th>\n",
       "      <th>flow_duration</th>\n",
       "      <th>bwd_pkt</th>\n",
       "      <th>flow_iat_max</th>\n",
       "      <th>flow_iat_mean</th>\n",
       "      <th>label</th>\n",
       "    </tr>\n",
       "  </thead>\n",
       "  <tbody>\n",
       "    <tr>\n",
       "      <th>0</th>\n",
       "      <td>2094.495860</td>\n",
       "      <td>8.316206</td>\n",
       "      <td>2525190.0</td>\n",
       "      <td>4.356108</td>\n",
       "      <td>1942423.0</td>\n",
       "      <td>126259.500000</td>\n",
       "      <td>0</td>\n",
       "    </tr>\n",
       "    <tr>\n",
       "      <th>1</th>\n",
       "      <td>4148.902031</td>\n",
       "      <td>45.844221</td>\n",
       "      <td>43626.0</td>\n",
       "      <td>22.922111</td>\n",
       "      <td>0.0</td>\n",
       "      <td>0.000000</td>\n",
       "      <td>0</td>\n",
       "    </tr>\n",
       "    <tr>\n",
       "      <th>2</th>\n",
       "      <td>735.065122</td>\n",
       "      <td>9.183323</td>\n",
       "      <td>2504540.0</td>\n",
       "      <td>4.791299</td>\n",
       "      <td>1642366.0</td>\n",
       "      <td>113842.727273</td>\n",
       "      <td>0</td>\n",
       "    </tr>\n",
       "    <tr>\n",
       "      <th>3</th>\n",
       "      <td>1075.499313</td>\n",
       "      <td>18.479370</td>\n",
       "      <td>270572.0</td>\n",
       "      <td>7.391748</td>\n",
       "      <td>246293.0</td>\n",
       "      <td>67643.000000</td>\n",
       "      <td>0</td>\n",
       "    </tr>\n",
       "    <tr>\n",
       "      <th>4</th>\n",
       "      <td>981.793380</td>\n",
       "      <td>8.688437</td>\n",
       "      <td>230191.0</td>\n",
       "      <td>4.344218</td>\n",
       "      <td>0.0</td>\n",
       "      <td>0.000000</td>\n",
       "      <td>0</td>\n",
       "    </tr>\n",
       "    <tr>\n",
       "      <th>...</th>\n",
       "      <td>...</td>\n",
       "      <td>...</td>\n",
       "      <td>...</td>\n",
       "      <td>...</td>\n",
       "      <td>...</td>\n",
       "      <td>...</td>\n",
       "      <td>...</td>\n",
       "    </tr>\n",
       "    <tr>\n",
       "      <th>54961</th>\n",
       "      <td>1468.012966</td>\n",
       "      <td>14.903685</td>\n",
       "      <td>134195.0</td>\n",
       "      <td>7.451842</td>\n",
       "      <td>0.0</td>\n",
       "      <td>0.000000</td>\n",
       "      <td>0</td>\n",
       "    </tr>\n",
       "    <tr>\n",
       "      <th>54962</th>\n",
       "      <td>1187.578805</td>\n",
       "      <td>14.661467</td>\n",
       "      <td>136412.0</td>\n",
       "      <td>7.330733</td>\n",
       "      <td>0.0</td>\n",
       "      <td>0.000000</td>\n",
       "      <td>0</td>\n",
       "    </tr>\n",
       "    <tr>\n",
       "      <th>54963</th>\n",
       "      <td>31719.864612</td>\n",
       "      <td>57.310841</td>\n",
       "      <td>296628.0</td>\n",
       "      <td>30.341033</td>\n",
       "      <td>88367.0</td>\n",
       "      <td>18539.250000</td>\n",
       "      <td>0</td>\n",
       "    </tr>\n",
       "    <tr>\n",
       "      <th>54964</th>\n",
       "      <td>891.853589</td>\n",
       "      <td>12.217172</td>\n",
       "      <td>163704.0</td>\n",
       "      <td>6.108586</td>\n",
       "      <td>0.0</td>\n",
       "      <td>0.000000</td>\n",
       "      <td>0</td>\n",
       "    </tr>\n",
       "    <tr>\n",
       "      <th>54965</th>\n",
       "      <td>15435.986468</td>\n",
       "      <td>42.045588</td>\n",
       "      <td>570809.0</td>\n",
       "      <td>21.022794</td>\n",
       "      <td>149195.0</td>\n",
       "      <td>24817.782609</td>\n",
       "      <td>0</td>\n",
       "    </tr>\n",
       "  </tbody>\n",
       "</table>\n",
       "<p>54966 rows × 7 columns</p>\n",
       "</div>"
      ],
      "text/plain": [
       "          flow_byte   flow_pkt  flow_duration    bwd_pkt  flow_iat_max  \\\n",
       "0       2094.495860   8.316206      2525190.0   4.356108     1942423.0   \n",
       "1       4148.902031  45.844221        43626.0  22.922111           0.0   \n",
       "2        735.065122   9.183323      2504540.0   4.791299     1642366.0   \n",
       "3       1075.499313  18.479370       270572.0   7.391748      246293.0   \n",
       "4        981.793380   8.688437       230191.0   4.344218           0.0   \n",
       "...             ...        ...            ...        ...           ...   \n",
       "54961   1468.012966  14.903685       134195.0   7.451842           0.0   \n",
       "54962   1187.578805  14.661467       136412.0   7.330733           0.0   \n",
       "54963  31719.864612  57.310841       296628.0  30.341033       88367.0   \n",
       "54964    891.853589  12.217172       163704.0   6.108586           0.0   \n",
       "54965  15435.986468  42.045588       570809.0  21.022794      149195.0   \n",
       "\n",
       "       flow_iat_mean  label  \n",
       "0      126259.500000      0  \n",
       "1           0.000000      0  \n",
       "2      113842.727273      0  \n",
       "3       67643.000000      0  \n",
       "4           0.000000      0  \n",
       "...              ...    ...  \n",
       "54961       0.000000      0  \n",
       "54962       0.000000      0  \n",
       "54963   18539.250000      0  \n",
       "54964       0.000000      0  \n",
       "54965   24817.782609      0  \n",
       "\n",
       "[54966 rows x 7 columns]"
      ]
     },
     "execution_count": 28,
     "metadata": {},
     "output_type": "execute_result"
    }
   ],
   "source": [
    "df"
   ]
  },
  {
   "cell_type": "code",
   "execution_count": 29,
   "metadata": {},
   "outputs": [
    {
     "data": {
      "text/plain": [
       "0        0\n",
       "1        0\n",
       "2        0\n",
       "3        0\n",
       "4        0\n",
       "        ..\n",
       "54961    0\n",
       "54962    0\n",
       "54963    0\n",
       "54964    0\n",
       "54965    0\n",
       "Name: label, Length: 54966, dtype: int32"
      ]
     },
     "execution_count": 29,
     "metadata": {},
     "output_type": "execute_result"
    }
   ],
   "source": [
    "df['label']"
   ]
  },
  {
   "cell_type": "code",
   "execution_count": 30,
   "metadata": {},
   "outputs": [],
   "source": [
    "X = df.drop(columns=['label'])\n",
    "y = df['label']"
   ]
  },
  {
   "cell_type": "code",
   "execution_count": 31,
   "metadata": {},
   "outputs": [
    {
     "data": {
      "text/html": [
       "<div>\n",
       "<style scoped>\n",
       "    .dataframe tbody tr th:only-of-type {\n",
       "        vertical-align: middle;\n",
       "    }\n",
       "\n",
       "    .dataframe tbody tr th {\n",
       "        vertical-align: top;\n",
       "    }\n",
       "\n",
       "    .dataframe thead th {\n",
       "        text-align: right;\n",
       "    }\n",
       "</style>\n",
       "<table border=\"1\" class=\"dataframe\">\n",
       "  <thead>\n",
       "    <tr style=\"text-align: right;\">\n",
       "      <th></th>\n",
       "      <th>flow_byte</th>\n",
       "      <th>flow_pkt</th>\n",
       "      <th>flow_duration</th>\n",
       "      <th>bwd_pkt</th>\n",
       "      <th>flow_iat_max</th>\n",
       "      <th>flow_iat_mean</th>\n",
       "    </tr>\n",
       "  </thead>\n",
       "  <tbody>\n",
       "    <tr>\n",
       "      <th>0</th>\n",
       "      <td>2094.495860</td>\n",
       "      <td>8.316206</td>\n",
       "      <td>2525190.0</td>\n",
       "      <td>4.356108</td>\n",
       "      <td>1942423.0</td>\n",
       "      <td>126259.500000</td>\n",
       "    </tr>\n",
       "    <tr>\n",
       "      <th>1</th>\n",
       "      <td>4148.902031</td>\n",
       "      <td>45.844221</td>\n",
       "      <td>43626.0</td>\n",
       "      <td>22.922111</td>\n",
       "      <td>0.0</td>\n",
       "      <td>0.000000</td>\n",
       "    </tr>\n",
       "    <tr>\n",
       "      <th>2</th>\n",
       "      <td>735.065122</td>\n",
       "      <td>9.183323</td>\n",
       "      <td>2504540.0</td>\n",
       "      <td>4.791299</td>\n",
       "      <td>1642366.0</td>\n",
       "      <td>113842.727273</td>\n",
       "    </tr>\n",
       "    <tr>\n",
       "      <th>3</th>\n",
       "      <td>1075.499313</td>\n",
       "      <td>18.479370</td>\n",
       "      <td>270572.0</td>\n",
       "      <td>7.391748</td>\n",
       "      <td>246293.0</td>\n",
       "      <td>67643.000000</td>\n",
       "    </tr>\n",
       "    <tr>\n",
       "      <th>4</th>\n",
       "      <td>981.793380</td>\n",
       "      <td>8.688437</td>\n",
       "      <td>230191.0</td>\n",
       "      <td>4.344218</td>\n",
       "      <td>0.0</td>\n",
       "      <td>0.000000</td>\n",
       "    </tr>\n",
       "    <tr>\n",
       "      <th>...</th>\n",
       "      <td>...</td>\n",
       "      <td>...</td>\n",
       "      <td>...</td>\n",
       "      <td>...</td>\n",
       "      <td>...</td>\n",
       "      <td>...</td>\n",
       "    </tr>\n",
       "    <tr>\n",
       "      <th>54961</th>\n",
       "      <td>1468.012966</td>\n",
       "      <td>14.903685</td>\n",
       "      <td>134195.0</td>\n",
       "      <td>7.451842</td>\n",
       "      <td>0.0</td>\n",
       "      <td>0.000000</td>\n",
       "    </tr>\n",
       "    <tr>\n",
       "      <th>54962</th>\n",
       "      <td>1187.578805</td>\n",
       "      <td>14.661467</td>\n",
       "      <td>136412.0</td>\n",
       "      <td>7.330733</td>\n",
       "      <td>0.0</td>\n",
       "      <td>0.000000</td>\n",
       "    </tr>\n",
       "    <tr>\n",
       "      <th>54963</th>\n",
       "      <td>31719.864612</td>\n",
       "      <td>57.310841</td>\n",
       "      <td>296628.0</td>\n",
       "      <td>30.341033</td>\n",
       "      <td>88367.0</td>\n",
       "      <td>18539.250000</td>\n",
       "    </tr>\n",
       "    <tr>\n",
       "      <th>54964</th>\n",
       "      <td>891.853589</td>\n",
       "      <td>12.217172</td>\n",
       "      <td>163704.0</td>\n",
       "      <td>6.108586</td>\n",
       "      <td>0.0</td>\n",
       "      <td>0.000000</td>\n",
       "    </tr>\n",
       "    <tr>\n",
       "      <th>54965</th>\n",
       "      <td>15435.986468</td>\n",
       "      <td>42.045588</td>\n",
       "      <td>570809.0</td>\n",
       "      <td>21.022794</td>\n",
       "      <td>149195.0</td>\n",
       "      <td>24817.782609</td>\n",
       "    </tr>\n",
       "  </tbody>\n",
       "</table>\n",
       "<p>54966 rows × 6 columns</p>\n",
       "</div>"
      ],
      "text/plain": [
       "          flow_byte   flow_pkt  flow_duration    bwd_pkt  flow_iat_max  \\\n",
       "0       2094.495860   8.316206      2525190.0   4.356108     1942423.0   \n",
       "1       4148.902031  45.844221        43626.0  22.922111           0.0   \n",
       "2        735.065122   9.183323      2504540.0   4.791299     1642366.0   \n",
       "3       1075.499313  18.479370       270572.0   7.391748      246293.0   \n",
       "4        981.793380   8.688437       230191.0   4.344218           0.0   \n",
       "...             ...        ...            ...        ...           ...   \n",
       "54961   1468.012966  14.903685       134195.0   7.451842           0.0   \n",
       "54962   1187.578805  14.661467       136412.0   7.330733           0.0   \n",
       "54963  31719.864612  57.310841       296628.0  30.341033       88367.0   \n",
       "54964    891.853589  12.217172       163704.0   6.108586           0.0   \n",
       "54965  15435.986468  42.045588       570809.0  21.022794      149195.0   \n",
       "\n",
       "       flow_iat_mean  \n",
       "0      126259.500000  \n",
       "1           0.000000  \n",
       "2      113842.727273  \n",
       "3       67643.000000  \n",
       "4           0.000000  \n",
       "...              ...  \n",
       "54961       0.000000  \n",
       "54962       0.000000  \n",
       "54963   18539.250000  \n",
       "54964       0.000000  \n",
       "54965   24817.782609  \n",
       "\n",
       "[54966 rows x 6 columns]"
      ]
     },
     "execution_count": 31,
     "metadata": {},
     "output_type": "execute_result"
    }
   ],
   "source": [
    "X"
   ]
  },
  {
   "cell_type": "code",
   "execution_count": 32,
   "metadata": {},
   "outputs": [],
   "source": [
    "from sklearn.model_selection import train_test_split\n",
    "X_train, X_test, y_train, y_test = train_test_split(X, y, test_size=0.25)"
   ]
  },
  {
   "cell_type": "code",
   "execution_count": 33,
   "metadata": {},
   "outputs": [
    {
     "data": {
      "text/plain": [
       "41224"
      ]
     },
     "execution_count": 33,
     "metadata": {},
     "output_type": "execute_result"
    }
   ],
   "source": [
    "len(X_train)"
   ]
  },
  {
   "cell_type": "code",
   "execution_count": 34,
   "metadata": {},
   "outputs": [
    {
     "data": {
      "text/plain": [
       "13742"
      ]
     },
     "execution_count": 34,
     "metadata": {},
     "output_type": "execute_result"
    }
   ],
   "source": [
    "len(X_test)"
   ]
  },
  {
   "cell_type": "code",
   "execution_count": 35,
   "metadata": {},
   "outputs": [],
   "source": [
    "from imblearn.over_sampling import SMOTE\n",
    "oversample = SMOTE()\n",
    "X_train, y_train = oversample.fit_resample(X_train, y_train)"
   ]
  },
  {
   "cell_type": "code",
   "execution_count": 36,
   "metadata": {},
   "outputs": [
    {
     "data": {
      "text/plain": [
       "1    40151\n",
       "0    40151\n",
       "Name: label, dtype: int64"
      ]
     },
     "execution_count": 36,
     "metadata": {},
     "output_type": "execute_result"
    }
   ],
   "source": [
    "y_train.value_counts()"
   ]
  },
  {
   "cell_type": "code",
   "execution_count": 44,
   "metadata": {},
   "outputs": [
    {
     "data": {
      "text/plain": [
       "80302"
      ]
     },
     "execution_count": 44,
     "metadata": {},
     "output_type": "execute_result"
    }
   ],
   "source": [
    "len(X_train)"
   ]
  },
  {
   "cell_type": "code",
   "execution_count": 38,
   "metadata": {},
   "outputs": [],
   "source": [
    "train_dataset = pd.concat([X_train,y_train],axis=1)\n",
    "test_dataset = pd.concat([X_test,y_test],axis=1)\n"
   ]
  },
  {
   "cell_type": "code",
   "execution_count": 39,
   "metadata": {},
   "outputs": [
    {
     "data": {
      "text/html": [
       "<div>\n",
       "<style scoped>\n",
       "    .dataframe tbody tr th:only-of-type {\n",
       "        vertical-align: middle;\n",
       "    }\n",
       "\n",
       "    .dataframe tbody tr th {\n",
       "        vertical-align: top;\n",
       "    }\n",
       "\n",
       "    .dataframe thead th {\n",
       "        text-align: right;\n",
       "    }\n",
       "</style>\n",
       "<table border=\"1\" class=\"dataframe\">\n",
       "  <thead>\n",
       "    <tr style=\"text-align: right;\">\n",
       "      <th></th>\n",
       "      <th>flow_byte</th>\n",
       "      <th>flow_pkt</th>\n",
       "      <th>flow_duration</th>\n",
       "      <th>bwd_pkt</th>\n",
       "      <th>flow_iat_max</th>\n",
       "      <th>flow_iat_mean</th>\n",
       "      <th>label</th>\n",
       "    </tr>\n",
       "  </thead>\n",
       "  <tbody>\n",
       "    <tr>\n",
       "      <th>0</th>\n",
       "      <td>254.777912</td>\n",
       "      <td>4.129302</td>\n",
       "      <td>2.421717e+06</td>\n",
       "      <td>2.064651</td>\n",
       "      <td>2.387357e+06</td>\n",
       "      <td>2.690797e+05</td>\n",
       "      <td>1</td>\n",
       "    </tr>\n",
       "    <tr>\n",
       "      <th>1</th>\n",
       "      <td>197.422769</td>\n",
       "      <td>2.941121</td>\n",
       "      <td>2.720051e+06</td>\n",
       "      <td>1.470561</td>\n",
       "      <td>2.711228e+06</td>\n",
       "      <td>3.885787e+05</td>\n",
       "      <td>1</td>\n",
       "    </tr>\n",
       "    <tr>\n",
       "      <th>2</th>\n",
       "      <td>200.178027</td>\n",
       "      <td>2.993316</td>\n",
       "      <td>2.672621e+06</td>\n",
       "      <td>1.496658</td>\n",
       "      <td>2.666225e+06</td>\n",
       "      <td>3.818030e+05</td>\n",
       "      <td>1</td>\n",
       "    </tr>\n",
       "    <tr>\n",
       "      <th>3</th>\n",
       "      <td>244.847153</td>\n",
       "      <td>3.647630</td>\n",
       "      <td>2.193205e+06</td>\n",
       "      <td>1.823815</td>\n",
       "      <td>2.179537e+06</td>\n",
       "      <td>3.133150e+05</td>\n",
       "      <td>1</td>\n",
       "    </tr>\n",
       "    <tr>\n",
       "      <th>4</th>\n",
       "      <td>34.399764</td>\n",
       "      <td>0.548641</td>\n",
       "      <td>1.822687e+07</td>\n",
       "      <td>0.274320</td>\n",
       "      <td>1.633477e+07</td>\n",
       "      <td>2.025208e+06</td>\n",
       "      <td>1</td>\n",
       "    </tr>\n",
       "    <tr>\n",
       "      <th>...</th>\n",
       "      <td>...</td>\n",
       "      <td>...</td>\n",
       "      <td>...</td>\n",
       "      <td>...</td>\n",
       "      <td>...</td>\n",
       "      <td>...</td>\n",
       "      <td>...</td>\n",
       "    </tr>\n",
       "    <tr>\n",
       "      <th>80297</th>\n",
       "      <td>119.612897</td>\n",
       "      <td>1.453446</td>\n",
       "      <td>1.603409e+07</td>\n",
       "      <td>0.726723</td>\n",
       "      <td>1.525074e+07</td>\n",
       "      <td>7.325073e+05</td>\n",
       "      <td>0</td>\n",
       "    </tr>\n",
       "    <tr>\n",
       "      <th>80298</th>\n",
       "      <td>782.335599</td>\n",
       "      <td>7.252482</td>\n",
       "      <td>2.759227e+05</td>\n",
       "      <td>3.626241</td>\n",
       "      <td>0.000000e+00</td>\n",
       "      <td>0.000000e+00</td>\n",
       "      <td>0</td>\n",
       "    </tr>\n",
       "    <tr>\n",
       "      <th>80299</th>\n",
       "      <td>1375.747316</td>\n",
       "      <td>7.061394</td>\n",
       "      <td>2.871060e+06</td>\n",
       "      <td>3.530697</td>\n",
       "      <td>2.401524e+06</td>\n",
       "      <td>1.500959e+05</td>\n",
       "      <td>0</td>\n",
       "    </tr>\n",
       "    <tr>\n",
       "      <th>80300</th>\n",
       "      <td>3407.778936</td>\n",
       "      <td>12.422678</td>\n",
       "      <td>1.536030e+06</td>\n",
       "      <td>6.497515</td>\n",
       "      <td>1.101854e+06</td>\n",
       "      <td>9.083928e+04</td>\n",
       "      <td>0</td>\n",
       "    </tr>\n",
       "    <tr>\n",
       "      <th>80301</th>\n",
       "      <td>10600.656910</td>\n",
       "      <td>34.479473</td>\n",
       "      <td>6.383487e+05</td>\n",
       "      <td>17.239737</td>\n",
       "      <td>2.304683e+05</td>\n",
       "      <td>3.039756e+04</td>\n",
       "      <td>0</td>\n",
       "    </tr>\n",
       "  </tbody>\n",
       "</table>\n",
       "<p>80302 rows × 7 columns</p>\n",
       "</div>"
      ],
      "text/plain": [
       "          flow_byte   flow_pkt  flow_duration    bwd_pkt  flow_iat_max  \\\n",
       "0        254.777912   4.129302   2.421717e+06   2.064651  2.387357e+06   \n",
       "1        197.422769   2.941121   2.720051e+06   1.470561  2.711228e+06   \n",
       "2        200.178027   2.993316   2.672621e+06   1.496658  2.666225e+06   \n",
       "3        244.847153   3.647630   2.193205e+06   1.823815  2.179537e+06   \n",
       "4         34.399764   0.548641   1.822687e+07   0.274320  1.633477e+07   \n",
       "...             ...        ...            ...        ...           ...   \n",
       "80297    119.612897   1.453446   1.603409e+07   0.726723  1.525074e+07   \n",
       "80298    782.335599   7.252482   2.759227e+05   3.626241  0.000000e+00   \n",
       "80299   1375.747316   7.061394   2.871060e+06   3.530697  2.401524e+06   \n",
       "80300   3407.778936  12.422678   1.536030e+06   6.497515  1.101854e+06   \n",
       "80301  10600.656910  34.479473   6.383487e+05  17.239737  2.304683e+05   \n",
       "\n",
       "       flow_iat_mean  label  \n",
       "0       2.690797e+05      1  \n",
       "1       3.885787e+05      1  \n",
       "2       3.818030e+05      1  \n",
       "3       3.133150e+05      1  \n",
       "4       2.025208e+06      1  \n",
       "...              ...    ...  \n",
       "80297   7.325073e+05      0  \n",
       "80298   0.000000e+00      0  \n",
       "80299   1.500959e+05      0  \n",
       "80300   9.083928e+04      0  \n",
       "80301   3.039756e+04      0  \n",
       "\n",
       "[80302 rows x 7 columns]"
      ]
     },
     "execution_count": 39,
     "metadata": {},
     "output_type": "execute_result"
    }
   ],
   "source": [
    "train_dataset"
   ]
  },
  {
   "cell_type": "markdown",
   "metadata": {},
   "source": [
    "exp = setup(data = train_dataset, target='label', train_size = 1.0, preprocess = True, test_data = test_dataset, session_id=1, use_gpu=True)"
   ]
  },
  {
   "cell_type": "markdown",
   "metadata": {},
   "source": [
    "# Logistic Regression"
   ]
  },
  {
   "cell_type": "code",
   "execution_count": 42,
   "metadata": {},
   "outputs": [
    {
     "data": {
      "text/html": [
       "<style  type=\"text/css\" >\n",
       "#T_52314a2f_176f_11ec_8796_001cbffc68b7row10_col0,#T_52314a2f_176f_11ec_8796_001cbffc68b7row10_col1,#T_52314a2f_176f_11ec_8796_001cbffc68b7row10_col2,#T_52314a2f_176f_11ec_8796_001cbffc68b7row10_col3,#T_52314a2f_176f_11ec_8796_001cbffc68b7row10_col4,#T_52314a2f_176f_11ec_8796_001cbffc68b7row10_col5,#T_52314a2f_176f_11ec_8796_001cbffc68b7row10_col6{\n",
       "            background:  yellow;\n",
       "        }</style><table id=\"T_52314a2f_176f_11ec_8796_001cbffc68b7\" ><thead>    <tr>        <th class=\"blank level0\" ></th>        <th class=\"col_heading level0 col0\" >Accuracy</th>        <th class=\"col_heading level0 col1\" >AUC</th>        <th class=\"col_heading level0 col2\" >Recall</th>        <th class=\"col_heading level0 col3\" >Prec.</th>        <th class=\"col_heading level0 col4\" >F1</th>        <th class=\"col_heading level0 col5\" >Kappa</th>        <th class=\"col_heading level0 col6\" >MCC</th>    </tr></thead><tbody>\n",
       "                <tr>\n",
       "                        <th id=\"T_52314a2f_176f_11ec_8796_001cbffc68b7level0_row0\" class=\"row_heading level0 row0\" >0</th>\n",
       "                        <td id=\"T_52314a2f_176f_11ec_8796_001cbffc68b7row0_col0\" class=\"data row0 col0\" >0.9904</td>\n",
       "                        <td id=\"T_52314a2f_176f_11ec_8796_001cbffc68b7row0_col1\" class=\"data row0 col1\" >0.9945</td>\n",
       "                        <td id=\"T_52314a2f_176f_11ec_8796_001cbffc68b7row0_col2\" class=\"data row0 col2\" >0.9943</td>\n",
       "                        <td id=\"T_52314a2f_176f_11ec_8796_001cbffc68b7row0_col3\" class=\"data row0 col3\" >0.9867</td>\n",
       "                        <td id=\"T_52314a2f_176f_11ec_8796_001cbffc68b7row0_col4\" class=\"data row0 col4\" >0.9905</td>\n",
       "                        <td id=\"T_52314a2f_176f_11ec_8796_001cbffc68b7row0_col5\" class=\"data row0 col5\" >0.9808</td>\n",
       "                        <td id=\"T_52314a2f_176f_11ec_8796_001cbffc68b7row0_col6\" class=\"data row0 col6\" >0.9809</td>\n",
       "            </tr>\n",
       "            <tr>\n",
       "                        <th id=\"T_52314a2f_176f_11ec_8796_001cbffc68b7level0_row1\" class=\"row_heading level0 row1\" >1</th>\n",
       "                        <td id=\"T_52314a2f_176f_11ec_8796_001cbffc68b7row1_col0\" class=\"data row1 col0\" >0.9924</td>\n",
       "                        <td id=\"T_52314a2f_176f_11ec_8796_001cbffc68b7row1_col1\" class=\"data row1 col1\" >0.9952</td>\n",
       "                        <td id=\"T_52314a2f_176f_11ec_8796_001cbffc68b7row1_col2\" class=\"data row1 col2\" >0.9965</td>\n",
       "                        <td id=\"T_52314a2f_176f_11ec_8796_001cbffc68b7row1_col3\" class=\"data row1 col3\" >0.9884</td>\n",
       "                        <td id=\"T_52314a2f_176f_11ec_8796_001cbffc68b7row1_col4\" class=\"data row1 col4\" >0.9924</td>\n",
       "                        <td id=\"T_52314a2f_176f_11ec_8796_001cbffc68b7row1_col5\" class=\"data row1 col5\" >0.9848</td>\n",
       "                        <td id=\"T_52314a2f_176f_11ec_8796_001cbffc68b7row1_col6\" class=\"data row1 col6\" >0.9848</td>\n",
       "            </tr>\n",
       "            <tr>\n",
       "                        <th id=\"T_52314a2f_176f_11ec_8796_001cbffc68b7level0_row2\" class=\"row_heading level0 row2\" >2</th>\n",
       "                        <td id=\"T_52314a2f_176f_11ec_8796_001cbffc68b7row2_col0\" class=\"data row2 col0\" >0.9922</td>\n",
       "                        <td id=\"T_52314a2f_176f_11ec_8796_001cbffc68b7row2_col1\" class=\"data row2 col1\" >0.9951</td>\n",
       "                        <td id=\"T_52314a2f_176f_11ec_8796_001cbffc68b7row2_col2\" class=\"data row2 col2\" >0.9955</td>\n",
       "                        <td id=\"T_52314a2f_176f_11ec_8796_001cbffc68b7row2_col3\" class=\"data row2 col3\" >0.9889</td>\n",
       "                        <td id=\"T_52314a2f_176f_11ec_8796_001cbffc68b7row2_col4\" class=\"data row2 col4\" >0.9922</td>\n",
       "                        <td id=\"T_52314a2f_176f_11ec_8796_001cbffc68b7row2_col5\" class=\"data row2 col5\" >0.9843</td>\n",
       "                        <td id=\"T_52314a2f_176f_11ec_8796_001cbffc68b7row2_col6\" class=\"data row2 col6\" >0.9843</td>\n",
       "            </tr>\n",
       "            <tr>\n",
       "                        <th id=\"T_52314a2f_176f_11ec_8796_001cbffc68b7level0_row3\" class=\"row_heading level0 row3\" >3</th>\n",
       "                        <td id=\"T_52314a2f_176f_11ec_8796_001cbffc68b7row3_col0\" class=\"data row3 col0\" >0.9932</td>\n",
       "                        <td id=\"T_52314a2f_176f_11ec_8796_001cbffc68b7row3_col1\" class=\"data row3 col1\" >0.9951</td>\n",
       "                        <td id=\"T_52314a2f_176f_11ec_8796_001cbffc68b7row3_col2\" class=\"data row3 col2\" >0.9978</td>\n",
       "                        <td id=\"T_52314a2f_176f_11ec_8796_001cbffc68b7row3_col3\" class=\"data row3 col3\" >0.9886</td>\n",
       "                        <td id=\"T_52314a2f_176f_11ec_8796_001cbffc68b7row3_col4\" class=\"data row3 col4\" >0.9932</td>\n",
       "                        <td id=\"T_52314a2f_176f_11ec_8796_001cbffc68b7row3_col5\" class=\"data row3 col5\" >0.9863</td>\n",
       "                        <td id=\"T_52314a2f_176f_11ec_8796_001cbffc68b7row3_col6\" class=\"data row3 col6\" >0.9863</td>\n",
       "            </tr>\n",
       "            <tr>\n",
       "                        <th id=\"T_52314a2f_176f_11ec_8796_001cbffc68b7level0_row4\" class=\"row_heading level0 row4\" >4</th>\n",
       "                        <td id=\"T_52314a2f_176f_11ec_8796_001cbffc68b7row4_col0\" class=\"data row4 col0\" >0.9925</td>\n",
       "                        <td id=\"T_52314a2f_176f_11ec_8796_001cbffc68b7row4_col1\" class=\"data row4 col1\" >0.9974</td>\n",
       "                        <td id=\"T_52314a2f_176f_11ec_8796_001cbffc68b7row4_col2\" class=\"data row4 col2\" >0.9953</td>\n",
       "                        <td id=\"T_52314a2f_176f_11ec_8796_001cbffc68b7row4_col3\" class=\"data row4 col3\" >0.9898</td>\n",
       "                        <td id=\"T_52314a2f_176f_11ec_8796_001cbffc68b7row4_col4\" class=\"data row4 col4\" >0.9925</td>\n",
       "                        <td id=\"T_52314a2f_176f_11ec_8796_001cbffc68b7row4_col5\" class=\"data row4 col5\" >0.9851</td>\n",
       "                        <td id=\"T_52314a2f_176f_11ec_8796_001cbffc68b7row4_col6\" class=\"data row4 col6\" >0.9851</td>\n",
       "            </tr>\n",
       "            <tr>\n",
       "                        <th id=\"T_52314a2f_176f_11ec_8796_001cbffc68b7level0_row5\" class=\"row_heading level0 row5\" >5</th>\n",
       "                        <td id=\"T_52314a2f_176f_11ec_8796_001cbffc68b7row5_col0\" class=\"data row5 col0\" >0.9928</td>\n",
       "                        <td id=\"T_52314a2f_176f_11ec_8796_001cbffc68b7row5_col1\" class=\"data row5 col1\" >0.9965</td>\n",
       "                        <td id=\"T_52314a2f_176f_11ec_8796_001cbffc68b7row5_col2\" class=\"data row5 col2\" >0.9963</td>\n",
       "                        <td id=\"T_52314a2f_176f_11ec_8796_001cbffc68b7row5_col3\" class=\"data row5 col3\" >0.9894</td>\n",
       "                        <td id=\"T_52314a2f_176f_11ec_8796_001cbffc68b7row5_col4\" class=\"data row5 col4\" >0.9928</td>\n",
       "                        <td id=\"T_52314a2f_176f_11ec_8796_001cbffc68b7row5_col5\" class=\"data row5 col5\" >0.9856</td>\n",
       "                        <td id=\"T_52314a2f_176f_11ec_8796_001cbffc68b7row5_col6\" class=\"data row5 col6\" >0.9856</td>\n",
       "            </tr>\n",
       "            <tr>\n",
       "                        <th id=\"T_52314a2f_176f_11ec_8796_001cbffc68b7level0_row6\" class=\"row_heading level0 row6\" >6</th>\n",
       "                        <td id=\"T_52314a2f_176f_11ec_8796_001cbffc68b7row6_col0\" class=\"data row6 col0\" >0.9925</td>\n",
       "                        <td id=\"T_52314a2f_176f_11ec_8796_001cbffc68b7row6_col1\" class=\"data row6 col1\" >0.9946</td>\n",
       "                        <td id=\"T_52314a2f_176f_11ec_8796_001cbffc68b7row6_col2\" class=\"data row6 col2\" >0.9960</td>\n",
       "                        <td id=\"T_52314a2f_176f_11ec_8796_001cbffc68b7row6_col3\" class=\"data row6 col3\" >0.9891</td>\n",
       "                        <td id=\"T_52314a2f_176f_11ec_8796_001cbffc68b7row6_col4\" class=\"data row6 col4\" >0.9926</td>\n",
       "                        <td id=\"T_52314a2f_176f_11ec_8796_001cbffc68b7row6_col5\" class=\"data row6 col5\" >0.9851</td>\n",
       "                        <td id=\"T_52314a2f_176f_11ec_8796_001cbffc68b7row6_col6\" class=\"data row6 col6\" >0.9851</td>\n",
       "            </tr>\n",
       "            <tr>\n",
       "                        <th id=\"T_52314a2f_176f_11ec_8796_001cbffc68b7level0_row7\" class=\"row_heading level0 row7\" >7</th>\n",
       "                        <td id=\"T_52314a2f_176f_11ec_8796_001cbffc68b7row7_col0\" class=\"data row7 col0\" >0.9922</td>\n",
       "                        <td id=\"T_52314a2f_176f_11ec_8796_001cbffc68b7row7_col1\" class=\"data row7 col1\" >0.9954</td>\n",
       "                        <td id=\"T_52314a2f_176f_11ec_8796_001cbffc68b7row7_col2\" class=\"data row7 col2\" >0.9965</td>\n",
       "                        <td id=\"T_52314a2f_176f_11ec_8796_001cbffc68b7row7_col3\" class=\"data row7 col3\" >0.9879</td>\n",
       "                        <td id=\"T_52314a2f_176f_11ec_8796_001cbffc68b7row7_col4\" class=\"data row7 col4\" >0.9922</td>\n",
       "                        <td id=\"T_52314a2f_176f_11ec_8796_001cbffc68b7row7_col5\" class=\"data row7 col5\" >0.9843</td>\n",
       "                        <td id=\"T_52314a2f_176f_11ec_8796_001cbffc68b7row7_col6\" class=\"data row7 col6\" >0.9843</td>\n",
       "            </tr>\n",
       "            <tr>\n",
       "                        <th id=\"T_52314a2f_176f_11ec_8796_001cbffc68b7level0_row8\" class=\"row_heading level0 row8\" >8</th>\n",
       "                        <td id=\"T_52314a2f_176f_11ec_8796_001cbffc68b7row8_col0\" class=\"data row8 col0\" >0.9945</td>\n",
       "                        <td id=\"T_52314a2f_176f_11ec_8796_001cbffc68b7row8_col1\" class=\"data row8 col1\" >0.9956</td>\n",
       "                        <td id=\"T_52314a2f_176f_11ec_8796_001cbffc68b7row8_col2\" class=\"data row8 col2\" >0.9970</td>\n",
       "                        <td id=\"T_52314a2f_176f_11ec_8796_001cbffc68b7row8_col3\" class=\"data row8 col3\" >0.9921</td>\n",
       "                        <td id=\"T_52314a2f_176f_11ec_8796_001cbffc68b7row8_col4\" class=\"data row8 col4\" >0.9945</td>\n",
       "                        <td id=\"T_52314a2f_176f_11ec_8796_001cbffc68b7row8_col5\" class=\"data row8 col5\" >0.9890</td>\n",
       "                        <td id=\"T_52314a2f_176f_11ec_8796_001cbffc68b7row8_col6\" class=\"data row8 col6\" >0.9891</td>\n",
       "            </tr>\n",
       "            <tr>\n",
       "                        <th id=\"T_52314a2f_176f_11ec_8796_001cbffc68b7level0_row9\" class=\"row_heading level0 row9\" >9</th>\n",
       "                        <td id=\"T_52314a2f_176f_11ec_8796_001cbffc68b7row9_col0\" class=\"data row9 col0\" >0.9920</td>\n",
       "                        <td id=\"T_52314a2f_176f_11ec_8796_001cbffc68b7row9_col1\" class=\"data row9 col1\" >0.9968</td>\n",
       "                        <td id=\"T_52314a2f_176f_11ec_8796_001cbffc68b7row9_col2\" class=\"data row9 col2\" >0.9958</td>\n",
       "                        <td id=\"T_52314a2f_176f_11ec_8796_001cbffc68b7row9_col3\" class=\"data row9 col3\" >0.9884</td>\n",
       "                        <td id=\"T_52314a2f_176f_11ec_8796_001cbffc68b7row9_col4\" class=\"data row9 col4\" >0.9921</td>\n",
       "                        <td id=\"T_52314a2f_176f_11ec_8796_001cbffc68b7row9_col5\" class=\"data row9 col5\" >0.9841</td>\n",
       "                        <td id=\"T_52314a2f_176f_11ec_8796_001cbffc68b7row9_col6\" class=\"data row9 col6\" >0.9841</td>\n",
       "            </tr>\n",
       "            <tr>\n",
       "                        <th id=\"T_52314a2f_176f_11ec_8796_001cbffc68b7level0_row10\" class=\"row_heading level0 row10\" >Mean</th>\n",
       "                        <td id=\"T_52314a2f_176f_11ec_8796_001cbffc68b7row10_col0\" class=\"data row10 col0\" >0.9925</td>\n",
       "                        <td id=\"T_52314a2f_176f_11ec_8796_001cbffc68b7row10_col1\" class=\"data row10 col1\" >0.9956</td>\n",
       "                        <td id=\"T_52314a2f_176f_11ec_8796_001cbffc68b7row10_col2\" class=\"data row10 col2\" >0.9961</td>\n",
       "                        <td id=\"T_52314a2f_176f_11ec_8796_001cbffc68b7row10_col3\" class=\"data row10 col3\" >0.9889</td>\n",
       "                        <td id=\"T_52314a2f_176f_11ec_8796_001cbffc68b7row10_col4\" class=\"data row10 col4\" >0.9925</td>\n",
       "                        <td id=\"T_52314a2f_176f_11ec_8796_001cbffc68b7row10_col5\" class=\"data row10 col5\" >0.9849</td>\n",
       "                        <td id=\"T_52314a2f_176f_11ec_8796_001cbffc68b7row10_col6\" class=\"data row10 col6\" >0.9850</td>\n",
       "            </tr>\n",
       "            <tr>\n",
       "                        <th id=\"T_52314a2f_176f_11ec_8796_001cbffc68b7level0_row11\" class=\"row_heading level0 row11\" >SD</th>\n",
       "                        <td id=\"T_52314a2f_176f_11ec_8796_001cbffc68b7row11_col0\" class=\"data row11 col0\" >0.0010</td>\n",
       "                        <td id=\"T_52314a2f_176f_11ec_8796_001cbffc68b7row11_col1\" class=\"data row11 col1\" >0.0009</td>\n",
       "                        <td id=\"T_52314a2f_176f_11ec_8796_001cbffc68b7row11_col2\" class=\"data row11 col2\" >0.0009</td>\n",
       "                        <td id=\"T_52314a2f_176f_11ec_8796_001cbffc68b7row11_col3\" class=\"data row11 col3\" >0.0013</td>\n",
       "                        <td id=\"T_52314a2f_176f_11ec_8796_001cbffc68b7row11_col4\" class=\"data row11 col4\" >0.0010</td>\n",
       "                        <td id=\"T_52314a2f_176f_11ec_8796_001cbffc68b7row11_col5\" class=\"data row11 col5\" >0.0019</td>\n",
       "                        <td id=\"T_52314a2f_176f_11ec_8796_001cbffc68b7row11_col6\" class=\"data row11 col6\" >0.0019</td>\n",
       "            </tr>\n",
       "    </tbody></table>"
      ],
      "text/plain": [
       "<pandas.io.formats.style.Styler at 0x1d8ae48a1c0>"
      ]
     },
     "metadata": {},
     "output_type": "display_data"
    }
   ],
   "source": [
    "lr_model=create_model('lr')"
   ]
  },
  {
   "cell_type": "code",
   "execution_count": 69,
   "metadata": {},
   "outputs": [],
   "source": [
    "lr_model.predict(X_test)\n",
    "predictions_lr = lr_model.predict(X_test)"
   ]
  },
  {
   "cell_type": "code",
   "execution_count": 70,
   "metadata": {},
   "outputs": [
    {
     "name": "stdout",
     "output_type": "stream",
     "text": [
      "              precision    recall  f1-score   support\n",
      "\n",
      "           0       0.86      0.97      0.91       330\n",
      "           1       1.00      1.00      1.00     13412\n",
      "\n",
      "    accuracy                           1.00     13742\n",
      "   macro avg       0.93      0.98      0.96     13742\n",
      "weighted avg       1.00      1.00      1.00     13742\n",
      "\n"
     ]
    }
   ],
   "source": [
    "from sklearn.metrics import classification_report\n",
    "print(classification_report(y_test,predictions_xgb))"
   ]
  },
  {
   "cell_type": "code",
   "execution_count": 73,
   "metadata": {},
   "outputs": [
    {
     "name": "stdout",
     "output_type": "stream",
     "text": [
      "[[  320    10]\n",
      " [   51 13361]]\n"
     ]
    }
   ],
   "source": [
    "conf_mat_lr = confusion_matrix(y_test,predictions_lr)\n",
    "print(conf_mat_lr)"
   ]
  },
  {
   "cell_type": "code",
   "execution_count": 77,
   "metadata": {},
   "outputs": [
    {
     "name": "stdout",
     "output_type": "stream",
     "text": [
      "Accuracy :  99.55610537039732\n"
     ]
    }
   ],
   "source": [
    "print(\"Accuracy : \",accuracy_score(predictions_lr, y_test)*100)"
   ]
  },
  {
   "cell_type": "markdown",
   "metadata": {},
   "source": [
    "# Random Forest"
   ]
  },
  {
   "cell_type": "code",
   "execution_count": 64,
   "metadata": {},
   "outputs": [],
   "source": [
    "from sklearn.ensemble import RandomForestClassifier\n",
    "rf= RandomForestClassifier()\n",
    "rf_clf = rf.fit(X_train,y_train)\n",
    "predictions_rf = rf_clf.predict(X_test)"
   ]
  },
  {
   "cell_type": "code",
   "execution_count": 72,
   "metadata": {},
   "outputs": [
    {
     "name": "stdout",
     "output_type": "stream",
     "text": [
      "              precision    recall  f1-score   support\n",
      "\n",
      "           0       1.00      1.00      1.00       330\n",
      "           1       1.00      1.00      1.00     13412\n",
      "\n",
      "    accuracy                           1.00     13742\n",
      "   macro avg       1.00      1.00      1.00     13742\n",
      "weighted avg       1.00      1.00      1.00     13742\n",
      "\n"
     ]
    }
   ],
   "source": [
    "print(classification_report(y_test,predictions_rf))"
   ]
  },
  {
   "cell_type": "code",
   "execution_count": 74,
   "metadata": {},
   "outputs": [
    {
     "name": "stdout",
     "output_type": "stream",
     "text": [
      "[[  329     1]\n",
      " [    0 13412]]\n"
     ]
    }
   ],
   "source": [
    "conf_mat_rf = confusion_matrix(y_test,predictions_rf)\n",
    "print(conf_mat_rf)"
   ]
  },
  {
   "cell_type": "code",
   "execution_count": 76,
   "metadata": {},
   "outputs": [
    {
     "name": "stdout",
     "output_type": "stream",
     "text": [
      "Accuracy :  99.99272303885898\n"
     ]
    }
   ],
   "source": [
    "print(\"Accuracy : \",accuracy_score(predictions_rf, y_test)*100)"
   ]
  },
  {
   "cell_type": "markdown",
   "metadata": {},
   "source": [
    "# LGBM"
   ]
  },
  {
   "cell_type": "code",
   "execution_count": 78,
   "metadata": {},
   "outputs": [],
   "source": [
    "import lightgbm"
   ]
  },
  {
   "cell_type": "code",
   "execution_count": 80,
   "metadata": {},
   "outputs": [],
   "source": [
    "lgbm= lightgbm.LGBMClassifier()\n",
    "lgbm_clf = lgbm.fit(X_train,y_train)\n",
    "predictions_lgbm = lgbm_clf.predict(X_test)"
   ]
  },
  {
   "cell_type": "code",
   "execution_count": 81,
   "metadata": {},
   "outputs": [
    {
     "name": "stdout",
     "output_type": "stream",
     "text": [
      "              precision    recall  f1-score   support\n",
      "\n",
      "           0       1.00      0.99      0.99       330\n",
      "           1       1.00      1.00      1.00     13412\n",
      "\n",
      "    accuracy                           1.00     13742\n",
      "   macro avg       1.00      0.99      1.00     13742\n",
      "weighted avg       1.00      1.00      1.00     13742\n",
      "\n"
     ]
    }
   ],
   "source": [
    "print(classification_report(y_test,predictions_lgbm))"
   ]
  },
  {
   "cell_type": "code",
   "execution_count": 82,
   "metadata": {},
   "outputs": [
    {
     "name": "stdout",
     "output_type": "stream",
     "text": [
      "[[  326     4]\n",
      " [    0 13412]]\n"
     ]
    }
   ],
   "source": [
    "conf_mat_lgbm = confusion_matrix(y_test,predictions_lgbm)\n",
    "print(conf_mat_lgbm)"
   ]
  },
  {
   "cell_type": "code",
   "execution_count": 83,
   "metadata": {},
   "outputs": [
    {
     "name": "stdout",
     "output_type": "stream",
     "text": [
      "Accuracy :  99.97089215543589\n"
     ]
    }
   ],
   "source": [
    "print(\"Accuracy : \",accuracy_score(predictions_lgbm, y_test)*100)"
   ]
  },
  {
   "cell_type": "markdown",
   "metadata": {},
   "source": [
    "# ADA BOOST"
   ]
  },
  {
   "cell_type": "code",
   "execution_count": 84,
   "metadata": {},
   "outputs": [],
   "source": [
    "from sklearn.ensemble import AdaBoostClassifier"
   ]
  },
  {
   "cell_type": "code",
   "execution_count": 86,
   "metadata": {},
   "outputs": [],
   "source": [
    "ada = AdaBoostClassifier()\n",
    "ada_clf = ada.fit(X_train,y_train)\n",
    "predictions_ada = ada_clf.predict(X_test)"
   ]
  },
  {
   "cell_type": "code",
   "execution_count": 87,
   "metadata": {},
   "outputs": [
    {
     "name": "stdout",
     "output_type": "stream",
     "text": [
      "              precision    recall  f1-score   support\n",
      "\n",
      "           0       0.96      0.98      0.97       330\n",
      "           1       1.00      1.00      1.00     13412\n",
      "\n",
      "    accuracy                           1.00     13742\n",
      "   macro avg       0.98      0.99      0.99     13742\n",
      "weighted avg       1.00      1.00      1.00     13742\n",
      "\n"
     ]
    }
   ],
   "source": [
    "print(classification_report(y_test,predictions_ada))"
   ]
  },
  {
   "cell_type": "code",
   "execution_count": null,
   "metadata": {},
   "outputs": [],
   "source": []
  }
 ],
 "metadata": {
  "interpreter": {
   "hash": "e0c98eb94f15e279bd3016d2820192a3fe8ab4235149e33e887e7385c6c6e58c"
  },
  "kernelspec": {
   "display_name": "Python 3",
   "language": "python",
   "name": "python3"
  },
  "language_info": {
   "codemirror_mode": {
    "name": "ipython",
    "version": 3
   },
   "file_extension": ".py",
   "mimetype": "text/x-python",
   "name": "python",
   "nbconvert_exporter": "python",
   "pygments_lexer": "ipython3",
   "version": "3.8.5"
  }
 },
 "nbformat": 4,
 "nbformat_minor": 5
}
