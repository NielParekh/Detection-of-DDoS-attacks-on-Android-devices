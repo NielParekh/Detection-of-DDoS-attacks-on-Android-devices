{
 "cells": [
  {
   "cell_type": "code",
   "execution_count": 5,
   "id": "af44e0d1",
   "metadata": {},
   "outputs": [],
   "source": [
    "import pandas as pd\n",
    "from sklearn.model_selection import train_test_split\n",
    "from xgboost import XGBClassifier\n",
    "from sklearn.metrics import accuracy_score, f1_score, precision_score, recall_score, roc_auc_score\n",
    "import seaborn as sns\n",
    "import matplotlib.pyplot as plt"
   ]
  },
  {
   "cell_type": "code",
   "execution_count": 6,
   "id": "98b92f59",
   "metadata": {},
   "outputs": [],
   "source": [
    "df=pd.read_csv('F://Cyprus//CSV-01-12//01-12//Slowloris.csv')"
   ]
  },
  {
   "cell_type": "code",
   "execution_count": 7,
   "id": "6e19c992",
   "metadata": {},
   "outputs": [
    {
     "data": {
      "text/plain": [
       "Index(['Unnamed: 0', 'src_ip', 'dst_ip', 'src_port', 'dst_port', 'protocol',\n",
       "       'timestamp', 'flow_duration', 'flow_byts_s', 'flow_pkts_s',\n",
       "       'fwd_pkts_s', 'bwd_pkts_s', 'tot_fwd_pkts', 'tot_bwd_pkts',\n",
       "       'totlen_fwd_pkts', 'totlen_bwd_pkts', 'fwd_pkt_len_max',\n",
       "       'fwd_pkt_len_min', 'fwd_pkt_len_mean', 'fwd_pkt_len_std',\n",
       "       'bwd_pkt_len_max', 'bwd_pkt_len_min', 'bwd_pkt_len_mean',\n",
       "       'bwd_pkt_len_std', 'pkt_len_max', 'pkt_len_min', 'pkt_len_mean',\n",
       "       'pkt_len_std', 'pkt_len_var', 'fwd_header_len', 'bwd_header_len',\n",
       "       'fwd_seg_size_min', 'fwd_act_data_pkts', 'flow_iat_mean',\n",
       "       'flow_iat_max', 'flow_iat_min', 'flow_iat_std', 'fwd_iat_tot',\n",
       "       'fwd_iat_max', 'fwd_iat_min', 'fwd_iat_mean', 'fwd_iat_std',\n",
       "       'bwd_iat_tot', 'bwd_iat_max', 'bwd_iat_min', 'bwd_iat_mean',\n",
       "       'bwd_iat_std', 'fwd_psh_flags', 'bwd_psh_flags', 'fwd_urg_flags',\n",
       "       'bwd_urg_flags', 'fin_flag_cnt', 'syn_flag_cnt', 'rst_flag_cnt',\n",
       "       'psh_flag_cnt', 'ack_flag_cnt', 'urg_flag_cnt', 'ece_flag_cnt',\n",
       "       'down_up_ratio', 'pkt_size_avg', 'init_fwd_win_byts',\n",
       "       'init_bwd_win_byts', 'active_max', 'active_min', 'active_mean',\n",
       "       'active_std', 'idle_max', 'idle_min', 'idle_mean', 'idle_std',\n",
       "       'fwd_byts_b_avg', 'fwd_pkts_b_avg', 'bwd_byts_b_avg', 'bwd_pkts_b_avg',\n",
       "       'fwd_blk_rate_avg', 'bwd_blk_rate_avg', 'fwd_seg_size_avg',\n",
       "       'bwd_seg_size_avg', 'cwe_flag_count', 'subflow_fwd_pkts',\n",
       "       'subflow_bwd_pkts', 'subflow_fwd_byts', 'subflow_bwd_byts', 'Label'],\n",
       "      dtype='object')"
      ]
     },
     "execution_count": 7,
     "metadata": {},
     "output_type": "execute_result"
    }
   ],
   "source": [
    "df.columns"
   ]
  },
  {
   "cell_type": "code",
   "execution_count": 8,
   "id": "98131a5f",
   "metadata": {},
   "outputs": [
    {
     "data": {
      "text/plain": [
       "Index(['Unnamed: 0', 'src_ip', 'dst_ip', 'src_port', 'dst_port', 'protocol',\n",
       "       'timestamp', 'flow_duration', 'flow_byts_s', 'flow_pkts_s',\n",
       "       'fwd_pkts_s', 'bwd_pkts_s', 'tot_fwd_pkts', 'tot_bwd_pkts',\n",
       "       'totlen_fwd_pkts', 'totlen_bwd_pkts', 'fwd_pkt_len_max',\n",
       "       'fwd_pkt_len_min', 'fwd_pkt_len_mean', 'fwd_pkt_len_std',\n",
       "       'bwd_pkt_len_max', 'bwd_pkt_len_min', 'bwd_pkt_len_mean',\n",
       "       'bwd_pkt_len_std', 'pkt_len_max', 'pkt_len_min', 'pkt_len_mean',\n",
       "       'pkt_len_std', 'pkt_len_var', 'fwd_header_len', 'bwd_header_len',\n",
       "       'fwd_seg_size_min', 'fwd_act_data_pkts', 'flow_iat_mean',\n",
       "       'flow_iat_max', 'flow_iat_min', 'flow_iat_std', 'fwd_iat_tot',\n",
       "       'fwd_iat_max', 'fwd_iat_min', 'fwd_iat_mean', 'fwd_iat_std',\n",
       "       'bwd_iat_tot', 'bwd_iat_max', 'bwd_iat_min', 'bwd_iat_mean',\n",
       "       'bwd_iat_std', 'fwd_psh_flags', 'bwd_psh_flags', 'fwd_urg_flags',\n",
       "       'bwd_urg_flags', 'fin_flag_cnt', 'syn_flag_cnt', 'rst_flag_cnt',\n",
       "       'psh_flag_cnt', 'ack_flag_cnt', 'urg_flag_cnt', 'ece_flag_cnt',\n",
       "       'down_up_ratio', 'pkt_size_avg', 'init_fwd_win_byts',\n",
       "       'init_bwd_win_byts', 'active_max', 'active_min', 'active_mean',\n",
       "       'active_std', 'idle_max', 'idle_min', 'idle_mean', 'idle_std',\n",
       "       'fwd_byts_b_avg', 'fwd_pkts_b_avg', 'bwd_byts_b_avg', 'bwd_pkts_b_avg',\n",
       "       'fwd_blk_rate_avg', 'bwd_blk_rate_avg', 'fwd_seg_size_avg',\n",
       "       'bwd_seg_size_avg', 'cwe_flag_count', 'subflow_fwd_pkts',\n",
       "       'subflow_bwd_pkts', 'subflow_fwd_byts', 'subflow_bwd_byts', 'Label'],\n",
       "      dtype='object')"
      ]
     },
     "execution_count": 8,
     "metadata": {},
     "output_type": "execute_result"
    }
   ],
   "source": [
    "df.columns"
   ]
  },
  {
   "cell_type": "code",
   "execution_count": 10,
   "id": "aaa7f6cc",
   "metadata": {},
   "outputs": [
    {
     "data": {
      "text/plain": [
       "array([    1264,       68,      775,      185,       77,      369,\n",
       "            367,      368,       88,      409,      408,      407,\n",
       "             60,      735,     1224,      815,      366,       59,\n",
       "           8625,     6451,     6803,     6495,     6843,     2775,\n",
       "           3352,       67,     3782,     1286,     2305,     1085,\n",
       "             66,     1579,     8819,     1071,       62,     1243,\n",
       "             87,    38566,     1326,     6984,     2221,    38188,\n",
       "           1389,      863,     1303,     1279,     1343,     3626,\n",
       "            406,     1987,      100,     2102,    35347,     7144,\n",
       "           1119,     1143,     1263,    10595,    11503,     1304,\n",
       "           3663,     1366,      156,    40164,     1196,     2232,\n",
       "           3578,      991,    25996,    89813,      419,      459,\n",
       "            458,      460,      457,      418,      420,    65654,\n",
       "          24206,     1446,     1242,       61,     4702,     2740,\n",
       "           4018,    40558,     5737,     1144,    10516,     7456,\n",
       "           1127,    46169,     1406,       64,     2089,      695,\n",
       "           5017,     5817,     4943,    15069,     2299,    27268,\n",
       "           1184,     3778,     1554,    53259,      417,     9968,\n",
       "          10734,     9871,     1271,    54150,       74,     1738,\n",
       "           1673,     2858,     5435,     4301,     1327,     8883,\n",
       "           2213,       78,    15638,       81,       83,     2389,\n",
       "           1686,     1223,    15974,    14351,    11220,    12902,\n",
       "          32660,     1287,     1253,     1894,      895,     1795,\n",
       "          44609,    53968,     4060,     1367,     1361,     1353,\n",
       "           2300,     3820,     4220,     4100,     1468,     6020,\n",
       "            855,     1979,     1244,     4020,      416,    13782,\n",
       "         313234,    17780,     5700,     7340,      665,     4682,\n",
       "          15282,     1407,     5740,      974,     7460,     3780,\n",
       "          22780,     1432,     5859,     2045,    51470,     5780,\n",
       "           1156,    63356,      455,     4054,      750,      985,\n",
       "           8106,       65,     1439,    16525,     1013,     1322,\n",
       "         136888,     3115,      853,    17820,     7380,     4031,\n",
       "           3580,     1031,     3740,      634,      128,     7503,\n",
       "          16020,     2015,     8740,     7079,     4678,     1981,\n",
       "           1299,   151792,     1252,    16100,      456,     4035,\n",
       "          10466,     3980,     9060,     3995,     1245,      655,\n",
       "           2340,     5660,     9295,     8800,     2097,     4598,\n",
       "          15940,     1349,     3837,      912,     1469,     3243,\n",
       "           1989,     1975,   244663,    67237,    13325,     9094,\n",
       "            955,     9220,     5570,     2111,     2380,    35164,\n",
       "             71,       69,     5617,       70,       72,     3718,\n",
       "             82,     1875,      737,      140,       57,    77732,\n",
       "          31997,    16300,      930,      928,      885,     1001,\n",
       "           6539,    18339,     5484,     2325,     4602,     6265,\n",
       "           6344,    25220,     1796,     6483,     1934,     2092,\n",
       "           2282,     1984,     1928,     2360,     1876,    11833,\n",
       "           1797,     2069,     7431,     7422,     6257,    10370,\n",
       "           6668,     1706,     2467,     3018,     9253,    26276,\n",
       "           3783,     1906,     2474,     1756,    15341,     2752,\n",
       "          26036,     4354,    24345,     3217,     2019,     6553,\n",
       "           1281,    42137,    23819,   115043,    83902,    11713,\n",
       "          21020,    66130,    56901,     4670,     6600,     7960,\n",
       "           6421,     6329,     9943,     1392,     9159,    10764,\n",
       "          16005,     1778,     9852,    10838,     1908,    35127,\n",
       "           2930,     6973,     7583,     4298,    15558,     3408,\n",
       "           2132,     1239,     2333,    14602,     1493,     4432,\n",
       "          39552,     2173,    65290,     3566,     2206,     3726,\n",
       "            575,    96228,     8168,    33939,     3256,     1630,\n",
       "          40998,    15893,     1321,      945,     3446,     3075,\n",
       "            905,     3766,     3549,     1726,     3991,     1308,\n",
       "           6792,     6643,     1486,    10406,     1391,      535,\n",
       "         280208,      745,     8392,     3589,     5182,   122994,\n",
       "           1053,    10794,     6179,     4848,     6832,     1232,\n",
       "           2057,   171012,      495,     6603,      779,     1399,\n",
       "           8450,     1631,       73,     1647,     6707,     3447,\n",
       "           1649,     9486,       63,     1371,     1425,     1030,\n",
       "           5815,   169412,     1335,      659,     4694,     9703,\n",
       "            615,     5022,     3061,     3911,     2373,      619,\n",
       "         243962,     2293,    12260,      881,     9434,     7728,\n",
       "           1479,    11978,     2387,   367250,     5102,     1566,\n",
       "          13875,     1267,     1363,     1859,     4250,     3431,\n",
       "             75,     2739,     1957,     5507,     1309,     1519,\n",
       "          12054, 10609510,      899,     3846,     7945,     2704,\n",
       "           2220,     2195,    17713,      819,     4947,   173372,\n",
       "            699,    31200,   116788,      933,     1393,    12102,\n",
       "          18746,    12166,     2789,    65570,    16778,    90696,\n",
       "           4982,     2053,     4426,     8755,     4618,     2063,\n",
       "         169146,     7560,     6523,     7135,     4578,   295312,\n",
       "           6684,     1937,     6752,    13811,     1431,     5728,\n",
       "        3218915,     1206,   189904,     4942,     5142,     2253,\n",
       "           2421,     3306,    17489,    12735,     7044,     4900,\n",
       "         357544,    11986,     8128,     4658,    15958,   223862,\n",
       "            865,     8483,    13803,      449,      448,     3806,\n",
       "            489,      488,      447,     2791,     1907,     4939,\n",
       "           5194,     3047], dtype=int64)"
      ]
     },
     "execution_count": 10,
     "metadata": {},
     "output_type": "execute_result"
    }
   ],
   "source": [
    "totlen_fwd_pkts = df['totlen_fwd_pkts']\n",
    "pd.unique(totlen_fwd_pkts)"
   ]
  },
  {
   "cell_type": "code",
   "execution_count": 11,
   "id": "cb5ad731",
   "metadata": {},
   "outputs": [
    {
     "data": {
      "text/plain": [
       "array([ 2094.49585972,  4148.9020309 ,   735.06512174, ...,\n",
       "       31719.86461157,   891.85358941, 15435.98646833])"
      ]
     },
     "execution_count": 11,
     "metadata": {},
     "output_type": "execute_result"
    }
   ],
   "source": [
    "flow_byts_s=df['flow_byts_s']\n",
    "pd.unique(flow_byts_s)"
   ]
  },
  {
   "cell_type": "code",
   "execution_count": 13,
   "id": "5de16681",
   "metadata": {},
   "outputs": [
    {
     "data": {
      "text/plain": [
       "array([ 8.31620591, 45.84422134,  9.18332309, ..., 57.31084051,\n",
       "       12.21717246, 42.04558793])"
      ]
     },
     "execution_count": 13,
     "metadata": {},
     "output_type": "execute_result"
    }
   ],
   "source": [
    "flow_pkts_s=df['flow_pkts_s']\n",
    "pd.unique(flow_pkts_s)"
   ]
  },
  {
   "cell_type": "code",
   "execution_count": 14,
   "id": "a43c7520",
   "metadata": {},
   "outputs": [
    {
     "data": {
      "text/plain": [
       "array([2525190.,   43626., 2504540., ...,  296628.,  163704.,  570809.])"
      ]
     },
     "execution_count": 14,
     "metadata": {},
     "output_type": "execute_result"
    }
   ],
   "source": [
    "flow_duration=df['flow_duration']\n",
    "pd.unique(flow_duration)"
   ]
  },
  {
   "cell_type": "code",
   "execution_count": 16,
   "id": "2d5f8be2",
   "metadata": {},
   "outputs": [
    {
     "data": {
      "text/plain": [
       "array([ 4.35610786, 22.92211067,  4.791299  , ..., 30.34103321,\n",
       "        6.10858623, 21.02279396])"
      ]
     },
     "execution_count": 16,
     "metadata": {},
     "output_type": "execute_result"
    }
   ],
   "source": [
    "bwd_pkts_s=df['bwd_pkts_s']\n",
    "pd.unique(bwd_pkts_s)"
   ]
  },
  {
   "cell_type": "code",
   "execution_count": 17,
   "id": "a6d68b1c",
   "metadata": {},
   "outputs": [
    {
     "data": {
      "text/plain": [
       "array([1942423.,       0., 1642366., ..., 1259118.,   88367.,  149195.])"
      ]
     },
     "execution_count": 17,
     "metadata": {},
     "output_type": "execute_result"
    }
   ],
   "source": [
    "flow_iat_max=df['flow_iat_max']\n",
    "pd.unique(flow_iat_max)"
   ]
  },
  {
   "cell_type": "code",
   "execution_count": 18,
   "id": "afe52749",
   "metadata": {},
   "outputs": [
    {
     "data": {
      "text/plain": [
       "array([126259.5       ,      0.        , 113842.72727273, ...,\n",
       "        89422.43333333,  18539.25      ,  24817.7826087 ])"
      ]
     },
     "execution_count": 18,
     "metadata": {},
     "output_type": "execute_result"
    }
   ],
   "source": [
    "flow_iat_mean=df['flow_iat_mean']\n",
    "pd.unique(flow_iat_mean)"
   ]
  },
  {
   "cell_type": "code",
   "execution_count": 19,
   "id": "67c0c9a3",
   "metadata": {},
   "outputs": [
    {
     "data": {
      "text/plain": [
       "array(['benign', 'attack'], dtype=object)"
      ]
     },
     "execution_count": 19,
     "metadata": {},
     "output_type": "execute_result"
    }
   ],
   "source": [
    "labels=df['Label']\n",
    "pd.unique(labels)"
   ]
  },
  {
   "cell_type": "code",
   "execution_count": 24,
   "id": "8878c460",
   "metadata": {},
   "outputs": [
    {
     "data": {
      "image/png": "[encoded data removed]",
      "text/plain": [
       "<Figure size 432x288 with 1 Axes>"
      ]
     },
     "metadata": {
      "needs_background": "light"
     },
     "output_type": "display_data"
    }
   ],
   "source": [
    "data = {'Slowloris':df['Label'].value_counts().attack, 'Benign':df['Label'].value_counts().benign}\n",
    "courses = list(data.keys())\n",
    "values = list(data.values())\n",
    "plt.bar(courses, values, color ='blue')\n",
    "plt.xlabel(\"Labels\")\n",
    "plt.ylabel(\"No. of attacks\")\n",
    "plt.title(\"Classification of attacks\")\n",
    "plt.show()"
   ]
  },
  {
   "cell_type": "code",
   "execution_count": 34,
   "id": "a5062809",
   "metadata": {},
   "outputs": [],
   "source": [
    "data = [df['flow_byts_s'], df['flow_pkts_s'],df['flow_duration'], df['bwd_pkts_s'],df['flow_iat_max'], df['flow_iat_mean'],df['Label']]"
   ]
  },
  {
   "cell_type": "code",
   "execution_count": 35,
   "id": "00a67869",
   "metadata": {},
   "outputs": [],
   "source": [
    "headers=['flow_byte','flow_pkt','flow_duration','bwd_pkt','flow_iat_max','flow_iat_mean','label']"
   ]
  },
  {
   "cell_type": "code",
   "execution_count": 36,
   "id": "16f0a8a8",
   "metadata": {},
   "outputs": [],
   "source": [
    "df1 = pd.concat(data, axis=1, keys=headers)"
   ]
  },
  {
   "cell_type": "code",
   "execution_count": 37,
   "id": "9ae9ceab",
   "metadata": {},
   "outputs": [
    {
     "data": {
      "text/html": [
       "<div>\n",
       "<style scoped>\n",
       "    .dataframe tbody tr th:only-of-type {\n",
       "        vertical-align: middle;\n",
       "    }\n",
       "\n",
       "    .dataframe tbody tr th {\n",
       "        vertical-align: top;\n",
       "    }\n",
       "\n",
       "    .dataframe thead th {\n",
       "        text-align: right;\n",
       "    }\n",
       "</style>\n",
       "<table border=\"1\" class=\"dataframe\">\n",
       "  <thead>\n",
       "    <tr style=\"text-align: right;\">\n",
       "      <th></th>\n",
       "      <th>flow_byte</th>\n",
       "      <th>flow_pkt</th>\n",
       "      <th>flow_duration</th>\n",
       "      <th>bwd_pkt</th>\n",
       "      <th>flow_iat_max</th>\n",
       "      <th>flow_iat_mean</th>\n",
       "      <th>label</th>\n",
       "    </tr>\n",
       "  </thead>\n",
       "  <tbody>\n",
       "    <tr>\n",
       "      <th>0</th>\n",
       "      <td>2094.495860</td>\n",
       "      <td>8.316206</td>\n",
       "      <td>2525190.0</td>\n",
       "      <td>4.356108</td>\n",
       "      <td>1942423.0</td>\n",
       "      <td>126259.500000</td>\n",
       "      <td>benign</td>\n",
       "    </tr>\n",
       "    <tr>\n",
       "      <th>1</th>\n",
       "      <td>4148.902031</td>\n",
       "      <td>45.844221</td>\n",
       "      <td>43626.0</td>\n",
       "      <td>22.922111</td>\n",
       "      <td>0.0</td>\n",
       "      <td>0.000000</td>\n",
       "      <td>benign</td>\n",
       "    </tr>\n",
       "    <tr>\n",
       "      <th>2</th>\n",
       "      <td>735.065122</td>\n",
       "      <td>9.183323</td>\n",
       "      <td>2504540.0</td>\n",
       "      <td>4.791299</td>\n",
       "      <td>1642366.0</td>\n",
       "      <td>113842.727273</td>\n",
       "      <td>benign</td>\n",
       "    </tr>\n",
       "    <tr>\n",
       "      <th>3</th>\n",
       "      <td>1075.499313</td>\n",
       "      <td>18.479370</td>\n",
       "      <td>270572.0</td>\n",
       "      <td>7.391748</td>\n",
       "      <td>246293.0</td>\n",
       "      <td>67643.000000</td>\n",
       "      <td>benign</td>\n",
       "    </tr>\n",
       "    <tr>\n",
       "      <th>4</th>\n",
       "      <td>981.793380</td>\n",
       "      <td>8.688437</td>\n",
       "      <td>230191.0</td>\n",
       "      <td>4.344218</td>\n",
       "      <td>0.0</td>\n",
       "      <td>0.000000</td>\n",
       "      <td>benign</td>\n",
       "    </tr>\n",
       "    <tr>\n",
       "      <th>...</th>\n",
       "      <td>...</td>\n",
       "      <td>...</td>\n",
       "      <td>...</td>\n",
       "      <td>...</td>\n",
       "      <td>...</td>\n",
       "      <td>...</td>\n",
       "      <td>...</td>\n",
       "    </tr>\n",
       "    <tr>\n",
       "      <th>54961</th>\n",
       "      <td>1468.012966</td>\n",
       "      <td>14.903685</td>\n",
       "      <td>134195.0</td>\n",
       "      <td>7.451842</td>\n",
       "      <td>0.0</td>\n",
       "      <td>0.000000</td>\n",
       "      <td>benign</td>\n",
       "    </tr>\n",
       "    <tr>\n",
       "      <th>54962</th>\n",
       "      <td>1187.578805</td>\n",
       "      <td>14.661467</td>\n",
       "      <td>136412.0</td>\n",
       "      <td>7.330733</td>\n",
       "      <td>0.0</td>\n",
       "      <td>0.000000</td>\n",
       "      <td>benign</td>\n",
       "    </tr>\n",
       "    <tr>\n",
       "      <th>54963</th>\n",
       "      <td>31719.864612</td>\n",
       "      <td>57.310841</td>\n",
       "      <td>296628.0</td>\n",
       "      <td>30.341033</td>\n",
       "      <td>88367.0</td>\n",
       "      <td>18539.250000</td>\n",
       "      <td>benign</td>\n",
       "    </tr>\n",
       "    <tr>\n",
       "      <th>54964</th>\n",
       "      <td>891.853589</td>\n",
       "      <td>12.217172</td>\n",
       "      <td>163704.0</td>\n",
       "      <td>6.108586</td>\n",
       "      <td>0.0</td>\n",
       "      <td>0.000000</td>\n",
       "      <td>benign</td>\n",
       "    </tr>\n",
       "    <tr>\n",
       "      <th>54965</th>\n",
       "      <td>15435.986468</td>\n",
       "      <td>42.045588</td>\n",
       "      <td>570809.0</td>\n",
       "      <td>21.022794</td>\n",
       "      <td>149195.0</td>\n",
       "      <td>24817.782609</td>\n",
       "      <td>benign</td>\n",
       "    </tr>\n",
       "  </tbody>\n",
       "</table>\n",
       "<p>54966 rows × 7 columns</p>\n",
       "</div>"
      ],
      "text/plain": [
       "          flow_byte   flow_pkt  flow_duration    bwd_pkt  flow_iat_max  \\\n",
       "0       2094.495860   8.316206      2525190.0   4.356108     1942423.0   \n",
       "1       4148.902031  45.844221        43626.0  22.922111           0.0   \n",
       "2        735.065122   9.183323      2504540.0   4.791299     1642366.0   \n",
       "3       1075.499313  18.479370       270572.0   7.391748      246293.0   \n",
       "4        981.793380   8.688437       230191.0   4.344218           0.0   \n",
       "...             ...        ...            ...        ...           ...   \n",
       "54961   1468.012966  14.903685       134195.0   7.451842           0.0   \n",
       "54962   1187.578805  14.661467       136412.0   7.330733           0.0   \n",
       "54963  31719.864612  57.310841       296628.0  30.341033       88367.0   \n",
       "54964    891.853589  12.217172       163704.0   6.108586           0.0   \n",
       "54965  15435.986468  42.045588       570809.0  21.022794      149195.0   \n",
       "\n",
       "       flow_iat_mean   label  \n",
       "0      126259.500000  benign  \n",
       "1           0.000000  benign  \n",
       "2      113842.727273  benign  \n",
       "3       67643.000000  benign  \n",
       "4           0.000000  benign  \n",
       "...              ...     ...  \n",
       "54961       0.000000  benign  \n",
       "54962       0.000000  benign  \n",
       "54963   18539.250000  benign  \n",
       "54964       0.000000  benign  \n",
       "54965   24817.782609  benign  \n",
       "\n",
       "[54966 rows x 7 columns]"
      ]
     },
     "execution_count": 37,
     "metadata": {},
     "output_type": "execute_result"
    }
   ],
   "source": [
    "df1"
   ]
  },
  {
   "cell_type": "code",
   "execution_count": 38,
   "id": "4ea21f54",
   "metadata": {},
   "outputs": [],
   "source": [
    "df1.to_csv(\"slowloris_attributes.csv\")"
   ]
  },
  {
   "cell_type": "markdown",
   "id": "0c20c0f9",
   "metadata": {},
   "source": [
    "# Model Creation"
   ]
  },
  {
   "cell_type": "code",
   "execution_count": 39,
   "id": "836f0811",
   "metadata": {},
   "outputs": [],
   "source": [
    "from pycaret.classification import *\n",
    "from sklearn.preprocessing import LabelEncoder"
   ]
  },
  {
   "cell_type": "code",
   "execution_count": 40,
   "id": "7ccba586",
   "metadata": {},
   "outputs": [],
   "source": [
    "Encoder = LabelEncoder()\n",
    "le = Encoder.fit(df1[\"label\"])\n",
    "df1[\"label\"] = le.transform(df1[\"label\"])"
   ]
  },
  {
   "cell_type": "code",
   "execution_count": 41,
   "id": "4e0dce91",
   "metadata": {},
   "outputs": [
    {
     "data": {
      "text/plain": [
       "array([1, 0])"
      ]
     },
     "execution_count": 41,
     "metadata": {},
     "output_type": "execute_result"
    }
   ],
   "source": [
    "pd.unique(df1['label'])\n",
    "# 1 = Benign\n",
    "# 0 = Attack"
   ]
  },
  {
   "cell_type": "code",
   "execution_count": 42,
   "id": "de4baffd",
   "metadata": {},
   "outputs": [
    {
     "data": {
      "text/html": [
       "<div>\n",
       "<style scoped>\n",
       "    .dataframe tbody tr th:only-of-type {\n",
       "        vertical-align: middle;\n",
       "    }\n",
       "\n",
       "    .dataframe tbody tr th {\n",
       "        vertical-align: top;\n",
       "    }\n",
       "\n",
       "    .dataframe thead th {\n",
       "        text-align: right;\n",
       "    }\n",
       "</style>\n",
       "<table border=\"1\" class=\"dataframe\">\n",
       "  <thead>\n",
       "    <tr style=\"text-align: right;\">\n",
       "      <th></th>\n",
       "      <th>flow_byte</th>\n",
       "      <th>flow_pkt</th>\n",
       "      <th>flow_duration</th>\n",
       "      <th>bwd_pkt</th>\n",
       "      <th>flow_iat_max</th>\n",
       "      <th>flow_iat_mean</th>\n",
       "      <th>label</th>\n",
       "    </tr>\n",
       "  </thead>\n",
       "  <tbody>\n",
       "    <tr>\n",
       "      <th>0</th>\n",
       "      <td>2094.495860</td>\n",
       "      <td>8.316206</td>\n",
       "      <td>2525190.0</td>\n",
       "      <td>4.356108</td>\n",
       "      <td>1942423.0</td>\n",
       "      <td>126259.500000</td>\n",
       "      <td>1</td>\n",
       "    </tr>\n",
       "    <tr>\n",
       "      <th>1</th>\n",
       "      <td>4148.902031</td>\n",
       "      <td>45.844221</td>\n",
       "      <td>43626.0</td>\n",
       "      <td>22.922111</td>\n",
       "      <td>0.0</td>\n",
       "      <td>0.000000</td>\n",
       "      <td>1</td>\n",
       "    </tr>\n",
       "    <tr>\n",
       "      <th>2</th>\n",
       "      <td>735.065122</td>\n",
       "      <td>9.183323</td>\n",
       "      <td>2504540.0</td>\n",
       "      <td>4.791299</td>\n",
       "      <td>1642366.0</td>\n",
       "      <td>113842.727273</td>\n",
       "      <td>1</td>\n",
       "    </tr>\n",
       "    <tr>\n",
       "      <th>3</th>\n",
       "      <td>1075.499313</td>\n",
       "      <td>18.479370</td>\n",
       "      <td>270572.0</td>\n",
       "      <td>7.391748</td>\n",
       "      <td>246293.0</td>\n",
       "      <td>67643.000000</td>\n",
       "      <td>1</td>\n",
       "    </tr>\n",
       "    <tr>\n",
       "      <th>4</th>\n",
       "      <td>981.793380</td>\n",
       "      <td>8.688437</td>\n",
       "      <td>230191.0</td>\n",
       "      <td>4.344218</td>\n",
       "      <td>0.0</td>\n",
       "      <td>0.000000</td>\n",
       "      <td>1</td>\n",
       "    </tr>\n",
       "    <tr>\n",
       "      <th>...</th>\n",
       "      <td>...</td>\n",
       "      <td>...</td>\n",
       "      <td>...</td>\n",
       "      <td>...</td>\n",
       "      <td>...</td>\n",
       "      <td>...</td>\n",
       "      <td>...</td>\n",
       "    </tr>\n",
       "    <tr>\n",
       "      <th>54961</th>\n",
       "      <td>1468.012966</td>\n",
       "      <td>14.903685</td>\n",
       "      <td>134195.0</td>\n",
       "      <td>7.451842</td>\n",
       "      <td>0.0</td>\n",
       "      <td>0.000000</td>\n",
       "      <td>1</td>\n",
       "    </tr>\n",
       "    <tr>\n",
       "      <th>54962</th>\n",
       "      <td>1187.578805</td>\n",
       "      <td>14.661467</td>\n",
       "      <td>136412.0</td>\n",
       "      <td>7.330733</td>\n",
       "      <td>0.0</td>\n",
       "      <td>0.000000</td>\n",
       "      <td>1</td>\n",
       "    </tr>\n",
       "    <tr>\n",
       "      <th>54963</th>\n",
       "      <td>31719.864612</td>\n",
       "      <td>57.310841</td>\n",
       "      <td>296628.0</td>\n",
       "      <td>30.341033</td>\n",
       "      <td>88367.0</td>\n",
       "      <td>18539.250000</td>\n",
       "      <td>1</td>\n",
       "    </tr>\n",
       "    <tr>\n",
       "      <th>54964</th>\n",
       "      <td>891.853589</td>\n",
       "      <td>12.217172</td>\n",
       "      <td>163704.0</td>\n",
       "      <td>6.108586</td>\n",
       "      <td>0.0</td>\n",
       "      <td>0.000000</td>\n",
       "      <td>1</td>\n",
       "    </tr>\n",
       "    <tr>\n",
       "      <th>54965</th>\n",
       "      <td>15435.986468</td>\n",
       "      <td>42.045588</td>\n",
       "      <td>570809.0</td>\n",
       "      <td>21.022794</td>\n",
       "      <td>149195.0</td>\n",
       "      <td>24817.782609</td>\n",
       "      <td>1</td>\n",
       "    </tr>\n",
       "  </tbody>\n",
       "</table>\n",
       "<p>54966 rows × 7 columns</p>\n",
       "</div>"
      ],
      "text/plain": [
       "          flow_byte   flow_pkt  flow_duration    bwd_pkt  flow_iat_max  \\\n",
       "0       2094.495860   8.316206      2525190.0   4.356108     1942423.0   \n",
       "1       4148.902031  45.844221        43626.0  22.922111           0.0   \n",
       "2        735.065122   9.183323      2504540.0   4.791299     1642366.0   \n",
       "3       1075.499313  18.479370       270572.0   7.391748      246293.0   \n",
       "4        981.793380   8.688437       230191.0   4.344218           0.0   \n",
       "...             ...        ...            ...        ...           ...   \n",
       "54961   1468.012966  14.903685       134195.0   7.451842           0.0   \n",
       "54962   1187.578805  14.661467       136412.0   7.330733           0.0   \n",
       "54963  31719.864612  57.310841       296628.0  30.341033       88367.0   \n",
       "54964    891.853589  12.217172       163704.0   6.108586           0.0   \n",
       "54965  15435.986468  42.045588       570809.0  21.022794      149195.0   \n",
       "\n",
       "       flow_iat_mean  label  \n",
       "0      126259.500000      1  \n",
       "1           0.000000      1  \n",
       "2      113842.727273      1  \n",
       "3       67643.000000      1  \n",
       "4           0.000000      1  \n",
       "...              ...    ...  \n",
       "54961       0.000000      1  \n",
       "54962       0.000000      1  \n",
       "54963   18539.250000      1  \n",
       "54964       0.000000      1  \n",
       "54965   24817.782609      1  \n",
       "\n",
       "[54966 rows x 7 columns]"
      ]
     },
     "execution_count": 42,
     "metadata": {},
     "output_type": "execute_result"
    }
   ],
   "source": [
    "df1"
   ]
  },
  {
   "cell_type": "code",
   "execution_count": 44,
   "id": "fa4cae8f",
   "metadata": {},
   "outputs": [],
   "source": [
    "df_maj = df1[df1['label']==0]\n",
    "df_min = df1[df1['label']==1]\n",
    "df_maj = df_maj.sample(n=10000)\n",
    "df_maj = pd.concat([df_maj,df_min], axis=0)"
   ]
  },
  {
   "cell_type": "code",
   "execution_count": 45,
   "id": "4925922a",
   "metadata": {},
   "outputs": [
    {
     "data": {
      "text/plain": [
       "11403"
      ]
     },
     "execution_count": 45,
     "metadata": {},
     "output_type": "execute_result"
    }
   ],
   "source": [
    "len(df_maj)"
   ]
  },
  {
   "cell_type": "code",
   "execution_count": 46,
   "id": "d033f1b3",
   "metadata": {},
   "outputs": [
    {
     "data": {
      "text/plain": [
       "1403"
      ]
     },
     "execution_count": 46,
     "metadata": {},
     "output_type": "execute_result"
    }
   ],
   "source": [
    "len(df_min)"
   ]
  },
  {
   "cell_type": "code",
   "execution_count": 47,
   "id": "693b2b39",
   "metadata": {},
   "outputs": [],
   "source": [
    "X = df_maj.drop('label',axis=1)\n",
    "y = df_maj['label']"
   ]
  },
  {
   "cell_type": "code",
   "execution_count": 48,
   "id": "69e86140",
   "metadata": {},
   "outputs": [
    {
     "data": {
      "text/html": [
       "<div>\n",
       "<style scoped>\n",
       "    .dataframe tbody tr th:only-of-type {\n",
       "        vertical-align: middle;\n",
       "    }\n",
       "\n",
       "    .dataframe tbody tr th {\n",
       "        vertical-align: top;\n",
       "    }\n",
       "\n",
       "    .dataframe thead th {\n",
       "        text-align: right;\n",
       "    }\n",
       "</style>\n",
       "<table border=\"1\" class=\"dataframe\">\n",
       "  <thead>\n",
       "    <tr style=\"text-align: right;\">\n",
       "      <th></th>\n",
       "      <th>flow_byte</th>\n",
       "      <th>flow_pkt</th>\n",
       "      <th>flow_duration</th>\n",
       "      <th>bwd_pkt</th>\n",
       "      <th>flow_iat_max</th>\n",
       "      <th>flow_iat_mean</th>\n",
       "    </tr>\n",
       "  </thead>\n",
       "  <tbody>\n",
       "    <tr>\n",
       "      <th>25988</th>\n",
       "      <td>262.115635</td>\n",
       "      <td>3.912174</td>\n",
       "      <td>2044899.0</td>\n",
       "      <td>1.956087</td>\n",
       "      <td>2041397.0</td>\n",
       "      <td>2.921284e+05</td>\n",
       "    </tr>\n",
       "    <tr>\n",
       "      <th>7590</th>\n",
       "      <td>257.454673</td>\n",
       "      <td>4.186255</td>\n",
       "      <td>2388770.0</td>\n",
       "      <td>2.093127</td>\n",
       "      <td>2380500.0</td>\n",
       "      <td>2.654189e+05</td>\n",
       "    </tr>\n",
       "    <tr>\n",
       "      <th>37819</th>\n",
       "      <td>221.539143</td>\n",
       "      <td>3.306554</td>\n",
       "      <td>2419437.0</td>\n",
       "      <td>1.653277</td>\n",
       "      <td>2413725.0</td>\n",
       "      <td>3.456339e+05</td>\n",
       "    </tr>\n",
       "    <tr>\n",
       "      <th>40757</th>\n",
       "      <td>34.476310</td>\n",
       "      <td>0.552505</td>\n",
       "      <td>18099385.0</td>\n",
       "      <td>0.276252</td>\n",
       "      <td>17133714.0</td>\n",
       "      <td>2.011043e+06</td>\n",
       "    </tr>\n",
       "    <tr>\n",
       "      <th>22547</th>\n",
       "      <td>251.651787</td>\n",
       "      <td>3.749002</td>\n",
       "      <td>2133901.0</td>\n",
       "      <td>1.874501</td>\n",
       "      <td>2129286.0</td>\n",
       "      <td>3.048430e+05</td>\n",
       "    </tr>\n",
       "    <tr>\n",
       "      <th>...</th>\n",
       "      <td>...</td>\n",
       "      <td>...</td>\n",
       "      <td>...</td>\n",
       "      <td>...</td>\n",
       "      <td>...</td>\n",
       "      <td>...</td>\n",
       "    </tr>\n",
       "    <tr>\n",
       "      <th>54961</th>\n",
       "      <td>1468.012966</td>\n",
       "      <td>14.903685</td>\n",
       "      <td>134195.0</td>\n",
       "      <td>7.451842</td>\n",
       "      <td>0.0</td>\n",
       "      <td>0.000000e+00</td>\n",
       "    </tr>\n",
       "    <tr>\n",
       "      <th>54962</th>\n",
       "      <td>1187.578805</td>\n",
       "      <td>14.661467</td>\n",
       "      <td>136412.0</td>\n",
       "      <td>7.330733</td>\n",
       "      <td>0.0</td>\n",
       "      <td>0.000000e+00</td>\n",
       "    </tr>\n",
       "    <tr>\n",
       "      <th>54963</th>\n",
       "      <td>31719.864612</td>\n",
       "      <td>57.310841</td>\n",
       "      <td>296628.0</td>\n",
       "      <td>30.341033</td>\n",
       "      <td>88367.0</td>\n",
       "      <td>1.853925e+04</td>\n",
       "    </tr>\n",
       "    <tr>\n",
       "      <th>54964</th>\n",
       "      <td>891.853589</td>\n",
       "      <td>12.217172</td>\n",
       "      <td>163704.0</td>\n",
       "      <td>6.108586</td>\n",
       "      <td>0.0</td>\n",
       "      <td>0.000000e+00</td>\n",
       "    </tr>\n",
       "    <tr>\n",
       "      <th>54965</th>\n",
       "      <td>15435.986468</td>\n",
       "      <td>42.045588</td>\n",
       "      <td>570809.0</td>\n",
       "      <td>21.022794</td>\n",
       "      <td>149195.0</td>\n",
       "      <td>2.481778e+04</td>\n",
       "    </tr>\n",
       "  </tbody>\n",
       "</table>\n",
       "<p>11403 rows × 6 columns</p>\n",
       "</div>"
      ],
      "text/plain": [
       "          flow_byte   flow_pkt  flow_duration    bwd_pkt  flow_iat_max  \\\n",
       "25988    262.115635   3.912174      2044899.0   1.956087     2041397.0   \n",
       "7590     257.454673   4.186255      2388770.0   2.093127     2380500.0   \n",
       "37819    221.539143   3.306554      2419437.0   1.653277     2413725.0   \n",
       "40757     34.476310   0.552505     18099385.0   0.276252    17133714.0   \n",
       "22547    251.651787   3.749002      2133901.0   1.874501     2129286.0   \n",
       "...             ...        ...            ...        ...           ...   \n",
       "54961   1468.012966  14.903685       134195.0   7.451842           0.0   \n",
       "54962   1187.578805  14.661467       136412.0   7.330733           0.0   \n",
       "54963  31719.864612  57.310841       296628.0  30.341033       88367.0   \n",
       "54964    891.853589  12.217172       163704.0   6.108586           0.0   \n",
       "54965  15435.986468  42.045588       570809.0  21.022794      149195.0   \n",
       "\n",
       "       flow_iat_mean  \n",
       "25988   2.921284e+05  \n",
       "7590    2.654189e+05  \n",
       "37819   3.456339e+05  \n",
       "40757   2.011043e+06  \n",
       "22547   3.048430e+05  \n",
       "...              ...  \n",
       "54961   0.000000e+00  \n",
       "54962   0.000000e+00  \n",
       "54963   1.853925e+04  \n",
       "54964   0.000000e+00  \n",
       "54965   2.481778e+04  \n",
       "\n",
       "[11403 rows x 6 columns]"
      ]
     },
     "execution_count": 48,
     "metadata": {},
     "output_type": "execute_result"
    }
   ],
   "source": [
    "X"
   ]
  },
  {
   "cell_type": "code",
   "execution_count": 50,
   "id": "2683db0b",
   "metadata": {},
   "outputs": [],
   "source": [
    "# train and test split from newly created dataset \n",
    "x_train, x_test, y_train, y_test = train_test_split(X,y, test_size=0.25, random_state=32, shuffle=True)"
   ]
  },
  {
   "cell_type": "code",
   "execution_count": 51,
   "id": "9fda75de",
   "metadata": {},
   "outputs": [
    {
     "data": {
      "text/plain": [
       "0    2490\n",
       "1     361\n",
       "Name: label, dtype: int64"
      ]
     },
     "execution_count": 51,
     "metadata": {},
     "output_type": "execute_result"
    }
   ],
   "source": [
    "y_test.value_counts()"
   ]
  },
  {
   "cell_type": "code",
   "execution_count": null,
   "id": "a6cd3cc8",
   "metadata": {},
   "outputs": [],
   "source": []
  }
 ],
 "metadata": {
  "kernelspec": {
   "display_name": "Python 3 (ipykernel)",
   "language": "python",
   "name": "python3"
  },
  "language_info": {
   "codemirror_mode": {
    "name": "ipython",
    "version": 3
   },
   "file_extension": ".py",
   "mimetype": "text/x-python",
   "name": "python",
   "nbconvert_exporter": "python",
   "pygments_lexer": "ipython3",
   "version": "3.9.6"
  }
 },
 "nbformat": 4,
 "nbformat_minor": 5
}
