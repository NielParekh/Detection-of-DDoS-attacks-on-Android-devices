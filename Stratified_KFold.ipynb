{
 "cells": [
  {
   "cell_type": "code",
   "execution_count": 572,
   "metadata": {},
   "outputs": [],
   "source": [
    "import pandas as pd\n",
    "from sklearn.model_selection import train_test_split\n",
    "from sklearn.model_selection import KFold\n",
    "from sklearn.model_selection import StratifiedKFold\n",
    "from sklearn.metrics import accuracy_score, f1_score, precision_score, recall_score, roc_auc_score\n",
    "import seaborn as sns\n",
    "import matplotlib.pyplot as plt\n",
    "import pickle"
   ]
  },
  {
   "cell_type": "code",
   "execution_count": 573,
   "metadata": {},
   "outputs": [],
   "source": [
    "df=pd.read_csv('labeled_data2.csv')"
   ]
  },
  {
   "cell_type": "code",
   "execution_count": 574,
   "metadata": {},
   "outputs": [
    {
     "data": {
      "text/plain": [
       "Index(['Unnamed: 0', 'src_ip', 'dst_ip', 'src_port', 'dst_port', 'protocol',\n",
       "       'timestamp', 'flow_duration', 'flow_byts_s', 'flow_pkts_s',\n",
       "       'fwd_pkts_s', 'bwd_pkts_s', 'tot_fwd_pkts', 'tot_bwd_pkts',\n",
       "       'totlen_fwd_pkts', 'totlen_bwd_pkts', 'fwd_pkt_len_max',\n",
       "       'fwd_pkt_len_min', 'fwd_pkt_len_mean', 'fwd_pkt_len_std',\n",
       "       'bwd_pkt_len_max', 'bwd_pkt_len_min', 'bwd_pkt_len_mean',\n",
       "       'bwd_pkt_len_std', 'pkt_len_max', 'pkt_len_min', 'pkt_len_mean',\n",
       "       'pkt_len_std', 'pkt_len_var', 'fwd_header_len', 'bwd_header_len',\n",
       "       'fwd_seg_size_min', 'fwd_act_data_pkts', 'flow_iat_mean',\n",
       "       'flow_iat_max', 'flow_iat_min', 'flow_iat_std', 'fwd_iat_tot',\n",
       "       'fwd_iat_max', 'fwd_iat_min', 'fwd_iat_mean', 'fwd_iat_std',\n",
       "       'bwd_iat_tot', 'bwd_iat_max', 'bwd_iat_min', 'bwd_iat_mean',\n",
       "       'bwd_iat_std', 'fwd_psh_flags', 'bwd_psh_flags', 'fwd_urg_flags',\n",
       "       'bwd_urg_flags', 'fin_flag_cnt', 'syn_flag_cnt', 'rst_flag_cnt',\n",
       "       'psh_flag_cnt', 'ack_flag_cnt', 'urg_flag_cnt', 'ece_flag_cnt',\n",
       "       'down_up_ratio', 'pkt_size_avg', 'init_fwd_win_byts',\n",
       "       'init_bwd_win_byts', 'active_max', 'active_min', 'active_mean',\n",
       "       'active_std', 'idle_max', 'idle_min', 'idle_mean', 'idle_std',\n",
       "       'fwd_byts_b_avg', 'fwd_pkts_b_avg', 'bwd_byts_b_avg', 'bwd_pkts_b_avg',\n",
       "       'fwd_blk_rate_avg', 'bwd_blk_rate_avg', 'fwd_seg_size_avg',\n",
       "       'bwd_seg_size_avg', 'cwe_flag_count', 'subflow_fwd_pkts',\n",
       "       'subflow_bwd_pkts', 'subflow_fwd_byts', 'subflow_bwd_byts', 'Label'],\n",
       "      dtype='object')"
      ]
     },
     "execution_count": 574,
     "metadata": {},
     "output_type": "execute_result"
    }
   ],
   "source": [
    "df.columns"
   ]
  },
  {
   "cell_type": "code",
   "execution_count": 575,
   "metadata": {},
   "outputs": [
    {
     "data": {
      "text/html": [
       "<div>\n",
       "<style scoped>\n",
       "    .dataframe tbody tr th:only-of-type {\n",
       "        vertical-align: middle;\n",
       "    }\n",
       "\n",
       "    .dataframe tbody tr th {\n",
       "        vertical-align: top;\n",
       "    }\n",
       "\n",
       "    .dataframe thead th {\n",
       "        text-align: right;\n",
       "    }\n",
       "</style>\n",
       "<table border=\"1\" class=\"dataframe\">\n",
       "  <thead>\n",
       "    <tr style=\"text-align: right;\">\n",
       "      <th></th>\n",
       "      <th>Unnamed: 0</th>\n",
       "      <th>src_ip</th>\n",
       "      <th>dst_ip</th>\n",
       "      <th>src_port</th>\n",
       "      <th>dst_port</th>\n",
       "      <th>protocol</th>\n",
       "      <th>timestamp</th>\n",
       "      <th>flow_duration</th>\n",
       "      <th>flow_byts_s</th>\n",
       "      <th>flow_pkts_s</th>\n",
       "      <th>...</th>\n",
       "      <th>fwd_blk_rate_avg</th>\n",
       "      <th>bwd_blk_rate_avg</th>\n",
       "      <th>fwd_seg_size_avg</th>\n",
       "      <th>bwd_seg_size_avg</th>\n",
       "      <th>cwe_flag_count</th>\n",
       "      <th>subflow_fwd_pkts</th>\n",
       "      <th>subflow_bwd_pkts</th>\n",
       "      <th>subflow_fwd_byts</th>\n",
       "      <th>subflow_bwd_byts</th>\n",
       "      <th>Label</th>\n",
       "    </tr>\n",
       "  </thead>\n",
       "  <tbody>\n",
       "    <tr>\n",
       "      <th>0</th>\n",
       "      <td>0</td>\n",
       "      <td>10.215.173.1</td>\n",
       "      <td>157.240.16.32</td>\n",
       "      <td>48924</td>\n",
       "      <td>443</td>\n",
       "      <td>6</td>\n",
       "      <td>2021-09-15 15:33:24</td>\n",
       "      <td>2525190.0</td>\n",
       "      <td>2094.495860</td>\n",
       "      <td>8.316206</td>\n",
       "      <td>...</td>\n",
       "      <td>0.000000</td>\n",
       "      <td>0.0</td>\n",
       "      <td>126.400000</td>\n",
       "      <td>365.909091</td>\n",
       "      <td>0</td>\n",
       "      <td>10</td>\n",
       "      <td>11</td>\n",
       "      <td>1264</td>\n",
       "      <td>4025</td>\n",
       "      <td>benign</td>\n",
       "    </tr>\n",
       "    <tr>\n",
       "      <th>1</th>\n",
       "      <td>1</td>\n",
       "      <td>10.215.173.1</td>\n",
       "      <td>10.215.173.2</td>\n",
       "      <td>16658</td>\n",
       "      <td>53</td>\n",
       "      <td>17</td>\n",
       "      <td>2021-09-15 15:33:24</td>\n",
       "      <td>43626.0</td>\n",
       "      <td>4148.902031</td>\n",
       "      <td>45.844221</td>\n",
       "      <td>...</td>\n",
       "      <td>0.000000</td>\n",
       "      <td>0.0</td>\n",
       "      <td>68.000000</td>\n",
       "      <td>113.000000</td>\n",
       "      <td>0</td>\n",
       "      <td>1</td>\n",
       "      <td>1</td>\n",
       "      <td>68</td>\n",
       "      <td>113</td>\n",
       "      <td>benign</td>\n",
       "    </tr>\n",
       "    <tr>\n",
       "      <th>2</th>\n",
       "      <td>2</td>\n",
       "      <td>10.215.173.1</td>\n",
       "      <td>157.240.16.53</td>\n",
       "      <td>37292</td>\n",
       "      <td>5222</td>\n",
       "      <td>6</td>\n",
       "      <td>2021-09-15 15:33:24</td>\n",
       "      <td>2504540.0</td>\n",
       "      <td>735.065122</td>\n",
       "      <td>9.183323</td>\n",
       "      <td>...</td>\n",
       "      <td>71225.071225</td>\n",
       "      <td>0.0</td>\n",
       "      <td>70.454545</td>\n",
       "      <td>88.833333</td>\n",
       "      <td>0</td>\n",
       "      <td>11</td>\n",
       "      <td>12</td>\n",
       "      <td>775</td>\n",
       "      <td>1066</td>\n",
       "      <td>benign</td>\n",
       "    </tr>\n",
       "    <tr>\n",
       "      <th>3</th>\n",
       "      <td>3</td>\n",
       "      <td>192.168.101.162</td>\n",
       "      <td>172.217.160.162</td>\n",
       "      <td>39604</td>\n",
       "      <td>443</td>\n",
       "      <td>17</td>\n",
       "      <td>2021-09-15 15:33:24</td>\n",
       "      <td>270572.0</td>\n",
       "      <td>1075.499313</td>\n",
       "      <td>18.479370</td>\n",
       "      <td>...</td>\n",
       "      <td>0.000000</td>\n",
       "      <td>0.0</td>\n",
       "      <td>61.666667</td>\n",
       "      <td>53.000000</td>\n",
       "      <td>0</td>\n",
       "      <td>3</td>\n",
       "      <td>2</td>\n",
       "      <td>185</td>\n",
       "      <td>106</td>\n",
       "      <td>benign</td>\n",
       "    </tr>\n",
       "    <tr>\n",
       "      <th>4</th>\n",
       "      <td>4</td>\n",
       "      <td>10.215.173.1</td>\n",
       "      <td>192.168.101.238</td>\n",
       "      <td>44848</td>\n",
       "      <td>53</td>\n",
       "      <td>17</td>\n",
       "      <td>2021-09-15 15:33:24</td>\n",
       "      <td>230191.0</td>\n",
       "      <td>981.793380</td>\n",
       "      <td>8.688437</td>\n",
       "      <td>...</td>\n",
       "      <td>0.000000</td>\n",
       "      <td>0.0</td>\n",
       "      <td>77.000000</td>\n",
       "      <td>149.000000</td>\n",
       "      <td>0</td>\n",
       "      <td>1</td>\n",
       "      <td>1</td>\n",
       "      <td>77</td>\n",
       "      <td>149</td>\n",
       "      <td>benign</td>\n",
       "    </tr>\n",
       "  </tbody>\n",
       "</table>\n",
       "<p>5 rows × 84 columns</p>\n",
       "</div>"
      ],
      "text/plain": [
       "   Unnamed: 0           src_ip           dst_ip  src_port  dst_port  protocol  \\\n",
       "0           0     10.215.173.1    157.240.16.32     48924       443         6   \n",
       "1           1     10.215.173.1     10.215.173.2     16658        53        17   \n",
       "2           2     10.215.173.1    157.240.16.53     37292      5222         6   \n",
       "3           3  192.168.101.162  172.217.160.162     39604       443        17   \n",
       "4           4     10.215.173.1  192.168.101.238     44848        53        17   \n",
       "\n",
       "             timestamp  flow_duration  flow_byts_s  flow_pkts_s  ...  \\\n",
       "0  2021-09-15 15:33:24      2525190.0  2094.495860     8.316206  ...   \n",
       "1  2021-09-15 15:33:24        43626.0  4148.902031    45.844221  ...   \n",
       "2  2021-09-15 15:33:24      2504540.0   735.065122     9.183323  ...   \n",
       "3  2021-09-15 15:33:24       270572.0  1075.499313    18.479370  ...   \n",
       "4  2021-09-15 15:33:24       230191.0   981.793380     8.688437  ...   \n",
       "\n",
       "   fwd_blk_rate_avg  bwd_blk_rate_avg  fwd_seg_size_avg  bwd_seg_size_avg  \\\n",
       "0          0.000000               0.0        126.400000        365.909091   \n",
       "1          0.000000               0.0         68.000000        113.000000   \n",
       "2      71225.071225               0.0         70.454545         88.833333   \n",
       "3          0.000000               0.0         61.666667         53.000000   \n",
       "4          0.000000               0.0         77.000000        149.000000   \n",
       "\n",
       "   cwe_flag_count  subflow_fwd_pkts  subflow_bwd_pkts  subflow_fwd_byts  \\\n",
       "0               0                10                11              1264   \n",
       "1               0                 1                 1                68   \n",
       "2               0                11                12               775   \n",
       "3               0                 3                 2               185   \n",
       "4               0                 1                 1                77   \n",
       "\n",
       "   subflow_bwd_byts   Label  \n",
       "0              4025  benign  \n",
       "1               113  benign  \n",
       "2              1066  benign  \n",
       "3               106  benign  \n",
       "4               149  benign  \n",
       "\n",
       "[5 rows x 84 columns]"
      ]
     },
     "execution_count": 575,
     "metadata": {},
     "output_type": "execute_result"
    }
   ],
   "source": [
    "df.head()"
   ]
  },
  {
   "cell_type": "code",
   "execution_count": 576,
   "metadata": {},
   "outputs": [],
   "source": [
    "data = [df[\"ack_flag_cnt\"], df[\"init_fwd_win_byts\"],df[\"fwd_seg_size_min\"], df[\"fwd_iat_tot\"],df[\"flow_duration\"], df[\"Label\"]]"
   ]
  },
  {
   "cell_type": "code",
   "execution_count": 577,
   "metadata": {},
   "outputs": [],
   "source": [
    "headers = [\"ack\", \"init\",\"seg\",\"iat\",\"flow\",\"label\"]"
   ]
  },
  {
   "cell_type": "code",
   "execution_count": 578,
   "metadata": {},
   "outputs": [],
   "source": [
    "df1 = pd.concat(data, axis=1, keys=headers)"
   ]
  },
  {
   "cell_type": "code",
   "execution_count": 579,
   "metadata": {},
   "outputs": [],
   "source": [
    "from sklearn.preprocessing import LabelEncoder"
   ]
  },
  {
   "cell_type": "code",
   "execution_count": 580,
   "metadata": {},
   "outputs": [],
   "source": [
    "Encoder = LabelEncoder()\n",
    "le = Encoder.fit(df1[\"label\"])\n",
    "df1[\"label\"] = le.transform(df1[\"label\"])"
   ]
  },
  {
   "cell_type": "code",
   "execution_count": 581,
   "metadata": {},
   "outputs": [
    {
     "data": {
      "text/html": [
       "<div>\n",
       "<style scoped>\n",
       "    .dataframe tbody tr th:only-of-type {\n",
       "        vertical-align: middle;\n",
       "    }\n",
       "\n",
       "    .dataframe tbody tr th {\n",
       "        vertical-align: top;\n",
       "    }\n",
       "\n",
       "    .dataframe thead th {\n",
       "        text-align: right;\n",
       "    }\n",
       "</style>\n",
       "<table border=\"1\" class=\"dataframe\">\n",
       "  <thead>\n",
       "    <tr style=\"text-align: right;\">\n",
       "      <th></th>\n",
       "      <th>ack</th>\n",
       "      <th>init</th>\n",
       "      <th>seg</th>\n",
       "      <th>iat</th>\n",
       "      <th>flow</th>\n",
       "      <th>label</th>\n",
       "    </tr>\n",
       "  </thead>\n",
       "  <tbody>\n",
       "    <tr>\n",
       "      <th>0</th>\n",
       "      <td>0</td>\n",
       "      <td>65535</td>\n",
       "      <td>20</td>\n",
       "      <td>582767.0</td>\n",
       "      <td>2525190.0</td>\n",
       "      <td>1</td>\n",
       "    </tr>\n",
       "    <tr>\n",
       "      <th>1</th>\n",
       "      <td>0</td>\n",
       "      <td>0</td>\n",
       "      <td>8</td>\n",
       "      <td>0.0</td>\n",
       "      <td>43626.0</td>\n",
       "      <td>1</td>\n",
       "    </tr>\n",
       "    <tr>\n",
       "      <th>2</th>\n",
       "      <td>0</td>\n",
       "      <td>65535</td>\n",
       "      <td>20</td>\n",
       "      <td>862174.0</td>\n",
       "      <td>2504540.0</td>\n",
       "      <td>1</td>\n",
       "    </tr>\n",
       "    <tr>\n",
       "      <th>3</th>\n",
       "      <td>0</td>\n",
       "      <td>0</td>\n",
       "      <td>8</td>\n",
       "      <td>270572.0</td>\n",
       "      <td>270572.0</td>\n",
       "      <td>1</td>\n",
       "    </tr>\n",
       "    <tr>\n",
       "      <th>4</th>\n",
       "      <td>0</td>\n",
       "      <td>0</td>\n",
       "      <td>8</td>\n",
       "      <td>0.0</td>\n",
       "      <td>230191.0</td>\n",
       "      <td>1</td>\n",
       "    </tr>\n",
       "    <tr>\n",
       "      <th>...</th>\n",
       "      <td>...</td>\n",
       "      <td>...</td>\n",
       "      <td>...</td>\n",
       "      <td>...</td>\n",
       "      <td>...</td>\n",
       "      <td>...</td>\n",
       "    </tr>\n",
       "    <tr>\n",
       "      <th>54961</th>\n",
       "      <td>0</td>\n",
       "      <td>0</td>\n",
       "      <td>8</td>\n",
       "      <td>0.0</td>\n",
       "      <td>134195.0</td>\n",
       "      <td>1</td>\n",
       "    </tr>\n",
       "    <tr>\n",
       "      <th>54962</th>\n",
       "      <td>0</td>\n",
       "      <td>0</td>\n",
       "      <td>8</td>\n",
       "      <td>0.0</td>\n",
       "      <td>136412.0</td>\n",
       "      <td>1</td>\n",
       "    </tr>\n",
       "    <tr>\n",
       "      <th>54963</th>\n",
       "      <td>0</td>\n",
       "      <td>0</td>\n",
       "      <td>8</td>\n",
       "      <td>238581.0</td>\n",
       "      <td>296628.0</td>\n",
       "      <td>1</td>\n",
       "    </tr>\n",
       "    <tr>\n",
       "      <th>54964</th>\n",
       "      <td>0</td>\n",
       "      <td>0</td>\n",
       "      <td>8</td>\n",
       "      <td>0.0</td>\n",
       "      <td>163704.0</td>\n",
       "      <td>1</td>\n",
       "    </tr>\n",
       "    <tr>\n",
       "      <th>54965</th>\n",
       "      <td>0</td>\n",
       "      <td>65535</td>\n",
       "      <td>20</td>\n",
       "      <td>421291.0</td>\n",
       "      <td>570809.0</td>\n",
       "      <td>1</td>\n",
       "    </tr>\n",
       "  </tbody>\n",
       "</table>\n",
       "<p>54966 rows × 6 columns</p>\n",
       "</div>"
      ],
      "text/plain": [
       "       ack   init  seg       iat       flow  label\n",
       "0        0  65535   20  582767.0  2525190.0      1\n",
       "1        0      0    8       0.0    43626.0      1\n",
       "2        0  65535   20  862174.0  2504540.0      1\n",
       "3        0      0    8  270572.0   270572.0      1\n",
       "4        0      0    8       0.0   230191.0      1\n",
       "...    ...    ...  ...       ...        ...    ...\n",
       "54961    0      0    8       0.0   134195.0      1\n",
       "54962    0      0    8       0.0   136412.0      1\n",
       "54963    0      0    8  238581.0   296628.0      1\n",
       "54964    0      0    8       0.0   163704.0      1\n",
       "54965    0  65535   20  421291.0   570809.0      1\n",
       "\n",
       "[54966 rows x 6 columns]"
      ]
     },
     "execution_count": 581,
     "metadata": {},
     "output_type": "execute_result"
    }
   ],
   "source": [
    "df1\n",
    "# 1 = Benign\n",
    "# 0 = Attack"
   ]
  },
  {
   "cell_type": "code",
   "execution_count": 582,
   "metadata": {},
   "outputs": [],
   "source": [
    "X = df1.drop('label',axis=1)\n",
    "Y = df1['label']"
   ]
  },
  {
   "cell_type": "code",
   "execution_count": 583,
   "metadata": {},
   "outputs": [
    {
     "data": {
      "text/html": [
       "<div>\n",
       "<style scoped>\n",
       "    .dataframe tbody tr th:only-of-type {\n",
       "        vertical-align: middle;\n",
       "    }\n",
       "\n",
       "    .dataframe tbody tr th {\n",
       "        vertical-align: top;\n",
       "    }\n",
       "\n",
       "    .dataframe thead th {\n",
       "        text-align: right;\n",
       "    }\n",
       "</style>\n",
       "<table border=\"1\" class=\"dataframe\">\n",
       "  <thead>\n",
       "    <tr style=\"text-align: right;\">\n",
       "      <th></th>\n",
       "      <th>ack</th>\n",
       "      <th>init</th>\n",
       "      <th>seg</th>\n",
       "      <th>iat</th>\n",
       "      <th>flow</th>\n",
       "    </tr>\n",
       "  </thead>\n",
       "  <tbody>\n",
       "    <tr>\n",
       "      <th>0</th>\n",
       "      <td>0</td>\n",
       "      <td>65535</td>\n",
       "      <td>20</td>\n",
       "      <td>582767.0</td>\n",
       "      <td>2525190.0</td>\n",
       "    </tr>\n",
       "    <tr>\n",
       "      <th>1</th>\n",
       "      <td>0</td>\n",
       "      <td>0</td>\n",
       "      <td>8</td>\n",
       "      <td>0.0</td>\n",
       "      <td>43626.0</td>\n",
       "    </tr>\n",
       "    <tr>\n",
       "      <th>2</th>\n",
       "      <td>0</td>\n",
       "      <td>65535</td>\n",
       "      <td>20</td>\n",
       "      <td>862174.0</td>\n",
       "      <td>2504540.0</td>\n",
       "    </tr>\n",
       "    <tr>\n",
       "      <th>3</th>\n",
       "      <td>0</td>\n",
       "      <td>0</td>\n",
       "      <td>8</td>\n",
       "      <td>270572.0</td>\n",
       "      <td>270572.0</td>\n",
       "    </tr>\n",
       "    <tr>\n",
       "      <th>4</th>\n",
       "      <td>0</td>\n",
       "      <td>0</td>\n",
       "      <td>8</td>\n",
       "      <td>0.0</td>\n",
       "      <td>230191.0</td>\n",
       "    </tr>\n",
       "    <tr>\n",
       "      <th>...</th>\n",
       "      <td>...</td>\n",
       "      <td>...</td>\n",
       "      <td>...</td>\n",
       "      <td>...</td>\n",
       "      <td>...</td>\n",
       "    </tr>\n",
       "    <tr>\n",
       "      <th>54961</th>\n",
       "      <td>0</td>\n",
       "      <td>0</td>\n",
       "      <td>8</td>\n",
       "      <td>0.0</td>\n",
       "      <td>134195.0</td>\n",
       "    </tr>\n",
       "    <tr>\n",
       "      <th>54962</th>\n",
       "      <td>0</td>\n",
       "      <td>0</td>\n",
       "      <td>8</td>\n",
       "      <td>0.0</td>\n",
       "      <td>136412.0</td>\n",
       "    </tr>\n",
       "    <tr>\n",
       "      <th>54963</th>\n",
       "      <td>0</td>\n",
       "      <td>0</td>\n",
       "      <td>8</td>\n",
       "      <td>238581.0</td>\n",
       "      <td>296628.0</td>\n",
       "    </tr>\n",
       "    <tr>\n",
       "      <th>54964</th>\n",
       "      <td>0</td>\n",
       "      <td>0</td>\n",
       "      <td>8</td>\n",
       "      <td>0.0</td>\n",
       "      <td>163704.0</td>\n",
       "    </tr>\n",
       "    <tr>\n",
       "      <th>54965</th>\n",
       "      <td>0</td>\n",
       "      <td>65535</td>\n",
       "      <td>20</td>\n",
       "      <td>421291.0</td>\n",
       "      <td>570809.0</td>\n",
       "    </tr>\n",
       "  </tbody>\n",
       "</table>\n",
       "<p>54966 rows × 5 columns</p>\n",
       "</div>"
      ],
      "text/plain": [
       "       ack   init  seg       iat       flow\n",
       "0        0  65535   20  582767.0  2525190.0\n",
       "1        0      0    8       0.0    43626.0\n",
       "2        0  65535   20  862174.0  2504540.0\n",
       "3        0      0    8  270572.0   270572.0\n",
       "4        0      0    8       0.0   230191.0\n",
       "...    ...    ...  ...       ...        ...\n",
       "54961    0      0    8       0.0   134195.0\n",
       "54962    0      0    8       0.0   136412.0\n",
       "54963    0      0    8  238581.0   296628.0\n",
       "54964    0      0    8       0.0   163704.0\n",
       "54965    0  65535   20  421291.0   570809.0\n",
       "\n",
       "[54966 rows x 5 columns]"
      ]
     },
     "execution_count": 583,
     "metadata": {},
     "output_type": "execute_result"
    }
   ],
   "source": [
    "X"
   ]
  },
  {
   "cell_type": "code",
   "execution_count": 584,
   "metadata": {},
   "outputs": [
    {
     "data": {
      "text/plain": [
       "0        1\n",
       "1        1\n",
       "2        1\n",
       "3        1\n",
       "4        1\n",
       "        ..\n",
       "54961    1\n",
       "54962    1\n",
       "54963    1\n",
       "54964    1\n",
       "54965    1\n",
       "Name: label, Length: 54966, dtype: int32"
      ]
     },
     "execution_count": 584,
     "metadata": {},
     "output_type": "execute_result"
    }
   ],
   "source": [
    "Y"
   ]
  },
  {
   "cell_type": "code",
   "execution_count": 585,
   "metadata": {},
   "outputs": [],
   "source": [
    "from imblearn.over_sampling import SMOTE\n",
    "from xgboost import XGBClassifier \n",
    "import lightgbm\n",
    "from sklearn.ensemble import AdaBoostClassifier\n",
    "from sklearn.ensemble import RandomForestClassifier"
   ]
  },
  {
   "cell_type": "code",
   "execution_count": 586,
   "metadata": {},
   "outputs": [],
   "source": [
    "rf_temp = 0\n",
    "rf_counter = 1\n",
    "ada_temp = 0\n",
    "ada_counter = 1\n",
    "xgb_temp = 0\n",
    "xgb_counter = 1\n",
    "lgbm_temp = 0\n",
    "lgbm_counter = 1"
   ]
  },
  {
   "cell_type": "markdown",
   "metadata": {},
   "source": [
    "# 5 folds"
   ]
  },
  {
   "cell_type": "code",
   "execution_count": 587,
   "metadata": {},
   "outputs": [],
   "source": [
    "skf = StratifiedKFold(n_splits=5, shuffle=True, random_state=1)"
   ]
  },
  {
   "cell_type": "code",
   "execution_count": 588,
   "metadata": {},
   "outputs": [],
   "source": [
    "ada_lst_accu_stratified = []\n",
    "ada_lst_f1_stratified = []\n",
    "ada_lst_prec_stratified = []\n",
    "ada_lst_recall_stratified = []\n",
    "ada_lst_aucroc_stratified = []\n",
    "\n",
    "xgb_lst_accu_stratified = []\n",
    "xgb_lst_f1_stratified = []\n",
    "xgb_lst_prec_stratified = []\n",
    "xgb_lst_recall_stratified = []\n",
    "xgb_lst_aucroc_stratified = []\n",
    "\n",
    "rf_lst_accu_stratified = []\n",
    "rf_lst_f1_stratified = []\n",
    "rf_lst_prec_stratified = []\n",
    "rf_lst_recall_stratified = []\n",
    "rf_lst_aucroc_stratified = []\n",
    "\n",
    "lgbm_lst_accu_stratified = []\n",
    "lgbm_lst_f1_stratified = []\n",
    "lgbm_lst_prec_stratified = []\n",
    "lgbm_lst_recall_stratified = []\n",
    "lgbm_lst_aucroc_stratified = []"
   ]
  },
  {
   "cell_type": "code",
   "execution_count": 589,
   "metadata": {},
   "outputs": [],
   "source": [
    "xgb = XGBClassifier(scale_pos_weight=1)\n",
    "ada = AdaBoostClassifier()\n",
    "rf = RandomForestClassifier()\n",
    "lgbm = lightgbm.LGBMClassifier()"
   ]
  },
  {
   "cell_type": "code",
   "execution_count": 590,
   "metadata": {},
   "outputs": [],
   "source": [
    "    xgb = XGBClassifier(base_score=0.5, booster='gbtree', colsample_bylevel=1,\n",
    "              colsample_bynode=1, colsample_bytree=1, gamma=0, gpu_id=0,\n",
    "              importance_type='gain', interaction_constraints='',\n",
    "              learning_rate=0.300000012, max_delta_step=0, max_depth=6,\n",
    "              min_child_weight=1, monotone_constraints='()',\n",
    "              n_estimators=100, n_jobs=-1, num_parallel_tree=1,\n",
    "              objective='binary:logistic', random_state=1, reg_alpha=0,\n",
    "              reg_lambda=1, scale_pos_weight=1, subsample=1,\n",
    "              tree_method='gpu_hist', use_label_encoder=True,\n",
    "              validate_parameters=1, verbosity=0\n",
    "                       )\n",
    "    \n",
    "    ada = AdaBoostClassifier(algorithm='SAMME.R', base_estimator=None, learning_rate=1.0,\n",
    "                           n_estimators=50, random_state=1)\n",
    "    rf = RandomForestClassifier(bootstrap=True,ccp_alpha=0.0,\n",
    "                               class_weight=None,criterion='gini',\n",
    "                               max_depth=None,max_features='auto',\n",
    "                               max_leaf_nodes=None, max_samples=None,\n",
    "                               min_impurity_decrease=0.0,min_samples_leaf=1, min_samples_split=2,\n",
    "                               min_weight_fraction_leaf=0.0, n_estimators=100,\n",
    "                               n_jobs=-1,oob_score=False,random_state=1,verbose=0,\n",
    "                               warm_start=False)\n",
    "    lgbm = lightgbm.LGBMClassifier(boosting_type='gbdt', class_weight=None, colsample_bytree=1.0,\n",
    "                                  importance_type='split', learning_rate=0.1,\n",
    "                                   max_depth=-1, min_child_samples=20, min_child_weight=0.001,\n",
    "                                   min_split_gain=0.0, n_estimators=100, n_jobs=-1, num_leaves=31,\n",
    "                                   objective=None, random_state=1, reg_alpha=0.0, reg_lambda=0.0,\n",
    "                                   silent=True, subsample=1.0, subsample_for_bin=200000,\n",
    "                                   subsample_freq=0)"
   ]
  },
  {
   "cell_type": "code",
   "execution_count": 591,
   "metadata": {},
   "outputs": [
    {
     "name": "stdout",
     "output_type": "stream",
     "text": [
      "10994\n"
     ]
    },
    {
     "name": "stderr",
     "output_type": "stream",
     "text": [
      "D:\\anaconda\\lib\\site-packages\\xgboost\\sklearn.py:1146: UserWarning: The use of label encoder in XGBClassifier is deprecated and will be removed in a future release. To remove this warning, do the following: 1) Pass option use_label_encoder=False when constructing XGBClassifier object; and 2) Encode your labels (y) as integers starting with 0, i.e. 0, 1, 2, ..., [num_class - 1].\n",
      "  warnings.warn(label_encoder_deprecation_msg, UserWarning)\n"
     ]
    },
    {
     "name": "stdout",
     "output_type": "stream",
     "text": [
      "rf 1\n",
      "ada 1\n",
      "xgb 1\n",
      "lgbm 1\n",
      "10993\n"
     ]
    },
    {
     "name": "stderr",
     "output_type": "stream",
     "text": [
      "D:\\anaconda\\lib\\site-packages\\xgboost\\sklearn.py:1146: UserWarning: The use of label encoder in XGBClassifier is deprecated and will be removed in a future release. To remove this warning, do the following: 1) Pass option use_label_encoder=False when constructing XGBClassifier object; and 2) Encode your labels (y) as integers starting with 0, i.e. 0, 1, 2, ..., [num_class - 1].\n",
      "  warnings.warn(label_encoder_deprecation_msg, UserWarning)\n"
     ]
    },
    {
     "name": "stdout",
     "output_type": "stream",
     "text": [
      "rf 2\n",
      "ada 2\n",
      "xgb 2\n",
      "lgbm 2\n",
      "10993\n"
     ]
    },
    {
     "name": "stderr",
     "output_type": "stream",
     "text": [
      "D:\\anaconda\\lib\\site-packages\\xgboost\\sklearn.py:1146: UserWarning: The use of label encoder in XGBClassifier is deprecated and will be removed in a future release. To remove this warning, do the following: 1) Pass option use_label_encoder=False when constructing XGBClassifier object; and 2) Encode your labels (y) as integers starting with 0, i.e. 0, 1, 2, ..., [num_class - 1].\n",
      "  warnings.warn(label_encoder_deprecation_msg, UserWarning)\n"
     ]
    },
    {
     "name": "stdout",
     "output_type": "stream",
     "text": [
      "ada 3\n",
      "10993\n"
     ]
    },
    {
     "name": "stderr",
     "output_type": "stream",
     "text": [
      "D:\\anaconda\\lib\\site-packages\\xgboost\\sklearn.py:1146: UserWarning: The use of label encoder in XGBClassifier is deprecated and will be removed in a future release. To remove this warning, do the following: 1) Pass option use_label_encoder=False when constructing XGBClassifier object; and 2) Encode your labels (y) as integers starting with 0, i.e. 0, 1, 2, ..., [num_class - 1].\n",
      "  warnings.warn(label_encoder_deprecation_msg, UserWarning)\n"
     ]
    },
    {
     "name": "stdout",
     "output_type": "stream",
     "text": [
      "ada 4\n",
      "10993\n"
     ]
    },
    {
     "name": "stderr",
     "output_type": "stream",
     "text": [
      "D:\\anaconda\\lib\\site-packages\\xgboost\\sklearn.py:1146: UserWarning: The use of label encoder in XGBClassifier is deprecated and will be removed in a future release. To remove this warning, do the following: 1) Pass option use_label_encoder=False when constructing XGBClassifier object; and 2) Encode your labels (y) as integers starting with 0, i.e. 0, 1, 2, ..., [num_class - 1].\n",
      "  warnings.warn(label_encoder_deprecation_msg, UserWarning)\n"
     ]
    },
    {
     "name": "stdout",
     "output_type": "stream",
     "text": [
      "lgbm 5\n",
      "Wall time: 22.4 s\n"
     ]
    }
   ],
   "source": [
    "%%time\n",
    "for train_index, test_index in skf.split(X, Y):\n",
    "    print(len(test_index))\n",
    "    \n",
    "    x_train_fold, x_test_fold = X.iloc[train_index,:], X.iloc[test_index,:]\n",
    "    y_train_fold, y_test_fold = Y[train_index], Y[test_index]\n",
    "    oversample = SMOTE()\n",
    "    x_train, y_train = oversample.fit_resample(x_train_fold, y_train_fold)\n",
    "    \n",
    "\n",
    "    \n",
    "    xgb_clf = xgb.fit(x_train,y_train)\n",
    "    ada_clf = ada.fit(x_train,y_train)\n",
    "    rf_clf = rf.fit(x_train,y_train)\n",
    "    lgbm_clf = lgbm.fit(x_train,y_train)\n",
    "    \n",
    "    y_pred = ada.predict(x_test_fold)\n",
    "    y_true = y_test_fold.tolist()\n",
    "    ada_acc = accuracy_score(y_true,y_pred)\n",
    "    ada_f1 = f1_score(y_true,y_pred)\n",
    "    ada_precision = precision_score(y_true,y_pred)\n",
    "    ada_recall = recall_score(y_true,y_pred)\n",
    "    ada_aucroc = roc_auc_score(y_true,y_pred)\n",
    "    ada_lst_accu_stratified.append(ada_acc)\n",
    "    ada_lst_f1_stratified.append(ada_f1)\n",
    "    ada_lst_prec_stratified.append(ada_precision)\n",
    "    ada_lst_recall_stratified.append(ada_recall)\n",
    "    ada_lst_aucroc_stratified.append(ada_aucroc)\n",
    "    \n",
    "    y_pred = xgb.predict(x_test_fold)\n",
    "    xgb_acc = accuracy_score(y_true,y_pred)\n",
    "    xgb_f1 = f1_score(y_true,y_pred)\n",
    "    xgb_precision = precision_score(y_true,y_pred)\n",
    "    xgb_recall = recall_score(y_true,y_pred)\n",
    "    xgb_aucroc = roc_auc_score(y_true,y_pred)\n",
    "    xgb_lst_accu_stratified.append(xgb_acc)\n",
    "    xgb_lst_f1_stratified.append(xgb_f1)\n",
    "    xgb_lst_prec_stratified.append(xgb_precision)\n",
    "    xgb_lst_recall_stratified.append(xgb_recall)\n",
    "    xgb_lst_aucroc_stratified.append(xgb_aucroc)\n",
    "    \n",
    "    y_pred = lgbm.predict(x_test_fold)\n",
    "    lgbm_acc = accuracy_score(y_true,y_pred)\n",
    "    lgbm_f1 = f1_score(y_true,y_pred)\n",
    "    lgbm_precision = precision_score(y_true,y_pred)\n",
    "    lgbm_recall = recall_score(y_true,y_pred)\n",
    "    lgbm_aucroc = roc_auc_score(y_true,y_pred)\n",
    "    lgbm_lst_accu_stratified.append(lgbm_acc)\n",
    "    lgbm_lst_f1_stratified.append(lgbm_f1)\n",
    "    lgbm_lst_prec_stratified.append(lgbm_precision)\n",
    "    lgbm_lst_recall_stratified.append(lgbm_recall)\n",
    "    lgbm_lst_aucroc_stratified.append(lgbm_aucroc)\n",
    "    \n",
    "    y_pred = rf.predict(x_test_fold)\n",
    "    rf_acc = accuracy_score(y_true,y_pred)\n",
    "    rf_f1 = f1_score(y_true,y_pred)\n",
    "    rf_precision = precision_score(y_true,y_pred)\n",
    "    rf_recall = recall_score(y_true,y_pred)\n",
    "    rf_aucroc = roc_auc_score(y_true,y_pred)\n",
    "    rf_lst_accu_stratified.append(rf_acc)\n",
    "    rf_lst_f1_stratified.append(rf_f1)\n",
    "    rf_lst_prec_stratified.append(rf_precision)\n",
    "    rf_lst_recall_stratified.append(rf_recall)\n",
    "    rf_lst_aucroc_stratified.append(rf_aucroc)\n",
    "\n",
    "    if rf_f1 > rf_temp:\n",
    "        rf_temp = rf_f1\n",
    "        filename = str(rf_counter)+\"rf_model.pkl\"\n",
    "        pickle.dump(rf_clf,open(filename,'wb'))\n",
    "        print(\"rf \"+str(rf_counter))\n",
    "    rf_counter = rf_counter+1\n",
    "        \n",
    "    if ada_f1 > ada_temp:\n",
    "        ada_temp = ada_f1\n",
    "        filename = str(ada_counter)+\"ada_model.pkl\"\n",
    "        pickle.dump(ada_clf,open(filename,'wb'))\n",
    "        print(\"ada \" + str(ada_counter))\n",
    "    ada_counter = ada_counter+1\n",
    "    \n",
    "    if xgb_f1 > xgb_temp:\n",
    "        xgb_temp = xgb_f1\n",
    "        filename = str(xgb_counter)+\"xgb_model.pkl\"\n",
    "        pickle.dump(xgb_clf,open(filename,'wb'))\n",
    "        print(\"xgb \"+str(xgb_counter))\n",
    "    xgb_counter = xgb_counter+1\n",
    "        \n",
    "    if lgbm_f1 > lgbm_temp:\n",
    "        lgbm_temp = lgbm_f1\n",
    "        filename = str(lgbm_counter)+\"lgbm_model.pkl\"\n",
    "        pickle.dump(lgbm_clf,open(filename,'wb'))\n",
    "        print(\"lgbm \"+str(lgbm_counter))\n",
    "    lgbm_counter = lgbm_counter+1\n",
    "    "
   ]
  },
  {
   "cell_type": "markdown",
   "metadata": {},
   "source": [
    "# rf"
   ]
  },
  {
   "cell_type": "code",
   "execution_count": 592,
   "metadata": {},
   "outputs": [
    {
     "name": "stdout",
     "output_type": "stream",
     "text": [
      "Average accuracy => 0.9943055763353865\n"
     ]
    }
   ],
   "source": [
    "print (\"Average accuracy => \"+ str(sum(rf_lst_accu_stratified)/len(rf_lst_accu_stratified)))"
   ]
  },
  {
   "cell_type": "code",
   "execution_count": 593,
   "metadata": {},
   "outputs": [
    {
     "name": "stdout",
     "output_type": "stream",
     "text": [
      "Average F1 score => 0.8982848269290334\n"
     ]
    }
   ],
   "source": [
    "print (\"Average F1 score => \"+ str(sum(rf_lst_f1_stratified)/len(rf_lst_f1_stratified)))"
   ]
  },
  {
   "cell_type": "code",
   "execution_count": 594,
   "metadata": {},
   "outputs": [
    {
     "name": "stdout",
     "output_type": "stream",
     "text": [
      "Average precision => 0.8262563161596459\n"
     ]
    }
   ],
   "source": [
    "print (\"Average precision => \"+ str(sum(rf_lst_prec_stratified)/len(rf_lst_prec_stratified)))"
   ]
  },
  {
   "cell_type": "code",
   "execution_count": 595,
   "metadata": {},
   "outputs": [
    {
     "name": "stdout",
     "output_type": "stream",
     "text": [
      "Average recall => 0.9843111337061515\n"
     ]
    }
   ],
   "source": [
    "print (\"Average recall => \"+ str(sum(rf_lst_recall_stratified)/len(rf_lst_recall_stratified)))"
   ]
  },
  {
   "cell_type": "code",
   "execution_count": 596,
   "metadata": {},
   "outputs": [
    {
     "name": "stdout",
     "output_type": "stream",
     "text": [
      "Average AUC ROC score => 0.9894391432969865\n"
     ]
    }
   ],
   "source": [
    "print (\"Average AUC ROC score => \"+ str(sum(rf_lst_aucroc_stratified)/len(rf_lst_aucroc_stratified)))"
   ]
  },
  {
   "cell_type": "markdown",
   "metadata": {},
   "source": [
    "## ada"
   ]
  },
  {
   "cell_type": "code",
   "execution_count": 597,
   "metadata": {},
   "outputs": [
    {
     "name": "stdout",
     "output_type": "stream",
     "text": [
      "Average accuracy => 0.9890114090331616\n"
     ]
    }
   ],
   "source": [
    "print (\"Average accuracy => \"+ str(sum(ada_lst_accu_stratified)/len(ada_lst_accu_stratified)))"
   ]
  },
  {
   "cell_type": "code",
   "execution_count": 598,
   "metadata": {},
   "outputs": [
    {
     "name": "stdout",
     "output_type": "stream",
     "text": [
      "Average F1 score => 0.8219132540425967\n"
     ]
    }
   ],
   "source": [
    "print (\"Average F1 score => \"+ str(sum(ada_lst_f1_stratified)/len(ada_lst_f1_stratified)))"
   ]
  },
  {
   "cell_type": "code",
   "execution_count": 599,
   "metadata": {},
   "outputs": [
    {
     "name": "stdout",
     "output_type": "stream",
     "text": [
      "Average precision => 0.7017431006519156\n"
     ]
    }
   ],
   "source": [
    "print (\"Average precision => \"+ str(sum(ada_lst_prec_stratified)/len(ada_lst_prec_stratified)))"
   ]
  },
  {
   "cell_type": "code",
   "execution_count": 600,
   "metadata": {},
   "outputs": [
    {
     "name": "stdout",
     "output_type": "stream",
     "text": [
      "Average recall => 0.9921657346212506\n"
     ]
    }
   ],
   "source": [
    "print (\"Average recall => \"+ str(sum(ada_lst_recall_stratified)/len(ada_lst_recall_stratified)))"
   ]
  },
  {
   "cell_type": "code",
   "execution_count": 601,
   "metadata": {},
   "outputs": [
    {
     "name": "stdout",
     "output_type": "stream",
     "text": [
      "Average AUC ROC score => 0.9905473316248841\n"
     ]
    }
   ],
   "source": [
    "print (\"Average AUC ROC score => \"+ str(sum(ada_lst_aucroc_stratified)/len(ada_lst_aucroc_stratified)))"
   ]
  },
  {
   "cell_type": "markdown",
   "metadata": {},
   "source": [
    "## xgb"
   ]
  },
  {
   "cell_type": "code",
   "execution_count": 602,
   "metadata": {},
   "outputs": [
    {
     "name": "stdout",
     "output_type": "stream",
     "text": [
      "Average accuracy => 0.9919041010452663\n"
     ]
    }
   ],
   "source": [
    "print (\"Average accuracy => \"+ str(sum(xgb_lst_accu_stratified)/len(xgb_lst_accu_stratified)))"
   ]
  },
  {
   "cell_type": "code",
   "execution_count": 603,
   "metadata": {},
   "outputs": [
    {
     "name": "stdout",
     "output_type": "stream",
     "text": [
      "Average F1 score => 0.8606993353462272\n"
     ]
    }
   ],
   "source": [
    "print (\"Average F1 score => \"+ str(sum(xgb_lst_f1_stratified)/len(xgb_lst_f1_stratified)))"
   ]
  },
  {
   "cell_type": "code",
   "execution_count": 604,
   "metadata": {},
   "outputs": [
    {
     "name": "stdout",
     "output_type": "stream",
     "text": [
      "Average precision => 0.7684701195042392\n"
     ]
    }
   ],
   "source": [
    "print (\"Average precision => \"+ str(sum(xgb_lst_prec_stratified)/len(xgb_lst_prec_stratified)))"
   ]
  },
  {
   "cell_type": "code",
   "execution_count": 605,
   "metadata": {},
   "outputs": [
    {
     "name": "stdout",
     "output_type": "stream",
     "text": [
      "Average recall => 0.9786171835282156\n"
     ]
    }
   ],
   "source": [
    "print (\"Average recall => \"+ str(sum(xgb_lst_recall_stratified)/len(xgb_lst_recall_stratified)))"
   ]
  },
  {
   "cell_type": "code",
   "execution_count": 606,
   "metadata": {},
   "outputs": [
    {
     "name": "stdout",
     "output_type": "stream",
     "text": [
      "Average AUC ROC score => 0.9854346619933569\n"
     ]
    }
   ],
   "source": [
    "print (\"Average AUC ROC score => \"+ str(sum(xgb_lst_aucroc_stratified)/len(xgb_lst_aucroc_stratified)))"
   ]
  },
  {
   "cell_type": "markdown",
   "metadata": {},
   "source": [
    "## lgbm"
   ]
  },
  {
   "cell_type": "code",
   "execution_count": 607,
   "metadata": {},
   "outputs": [
    {
     "name": "stdout",
     "output_type": "stream",
     "text": [
      "Average accuracy => 0.9929774882294404\n"
     ]
    }
   ],
   "source": [
    "print (\"Average accuracy => \"+ str(sum(lgbm_lst_accu_stratified)/len(lgbm_lst_accu_stratified)))"
   ]
  },
  {
   "cell_type": "code",
   "execution_count": 608,
   "metadata": {},
   "outputs": [
    {
     "name": "stdout",
     "output_type": "stream",
     "text": [
      "Average F1 score => 0.8768113174676309\n"
     ]
    }
   ],
   "source": [
    "print (\"Average F1 score => \"+ str(sum(lgbm_lst_f1_stratified)/len(lgbm_lst_f1_stratified)))"
   ]
  },
  {
   "cell_type": "code",
   "execution_count": 609,
   "metadata": {},
   "outputs": [
    {
     "name": "stdout",
     "output_type": "stream",
     "text": [
      "Average precision => 0.7949988069836411\n"
     ]
    }
   ],
   "source": [
    "print (\"Average precision => \"+ str(sum(lgbm_lst_prec_stratified)/len(lgbm_lst_prec_stratified)))"
   ]
  },
  {
   "cell_type": "code",
   "execution_count": 610,
   "metadata": {},
   "outputs": [
    {
     "name": "stdout",
     "output_type": "stream",
     "text": [
      "Average recall => 0.9779079816980172\n"
     ]
    }
   ],
   "source": [
    "print (\"Average recall => \"+ str(sum(lgbm_lst_recall_stratified)/len(lgbm_lst_recall_stratified)))"
   ]
  },
  {
   "cell_type": "code",
   "execution_count": 611,
   "metadata": {},
   "outputs": [
    {
     "name": "stdout",
     "output_type": "stream",
     "text": [
      "Average AUC ROC score => 0.9856401396145429\n"
     ]
    }
   ],
   "source": [
    "print (\"Average AUC ROC score => \"+ str(sum(lgbm_lst_aucroc_stratified)/len(lgbm_lst_aucroc_stratified)))"
   ]
  },
  {
   "cell_type": "markdown",
   "metadata": {},
   "source": [
    "## 10 folds"
   ]
  },
  {
   "cell_type": "code",
   "execution_count": 612,
   "metadata": {},
   "outputs": [],
   "source": [
    "skf = StratifiedKFold(n_splits=10, shuffle=True, random_state=1)"
   ]
  },
  {
   "cell_type": "code",
   "execution_count": 613,
   "metadata": {},
   "outputs": [],
   "source": [
    "ada_lst_accu_stratified = []\n",
    "ada_lst_f1_stratified = []\n",
    "ada_lst_prec_stratified = []\n",
    "ada_lst_recall_stratified = []\n",
    "ada_lst_aucroc_stratified = []\n",
    "\n",
    "xgb_lst_accu_stratified = []\n",
    "xgb_lst_f1_stratified = []\n",
    "xgb_lst_prec_stratified = []\n",
    "xgb_lst_recall_stratified = []\n",
    "xgb_lst_aucroc_stratified = []\n",
    "\n",
    "rf_lst_accu_stratified = []\n",
    "rf_lst_f1_stratified = []\n",
    "rf_lst_prec_stratified = []\n",
    "rf_lst_recall_stratified = []\n",
    "rf_lst_aucroc_stratified = []\n",
    "\n",
    "lgbm_lst_accu_stratified = []\n",
    "lgbm_lst_f1_stratified = []\n",
    "lgbm_lst_prec_stratified = []\n",
    "lgbm_lst_recall_stratified = []\n",
    "lgbm_lst_aucroc_stratified = []"
   ]
  },
  {
   "cell_type": "code",
   "execution_count": 614,
   "metadata": {},
   "outputs": [],
   "source": [
    "xgb = XGBClassifier(scale_pos_weight=1)\n",
    "ada = AdaBoostClassifier()\n",
    "rf = RandomForestClassifier()\n",
    "lgbm = lightgbm.LGBMClassifier()"
   ]
  },
  {
   "cell_type": "code",
   "execution_count": 615,
   "metadata": {},
   "outputs": [],
   "source": [
    "    xgb = XGBClassifier(base_score=0.5, booster='gbtree', colsample_bylevel=1,\n",
    "              colsample_bynode=1, colsample_bytree=1, gamma=0, gpu_id=0,\n",
    "              importance_type='gain', interaction_constraints='',\n",
    "              learning_rate=0.300000012, max_delta_step=0, max_depth=6,\n",
    "              min_child_weight=1, monotone_constraints='()',\n",
    "              n_estimators=100, n_jobs=-1, num_parallel_tree=1,\n",
    "              objective='binary:logistic', random_state=1, reg_alpha=0,\n",
    "              reg_lambda=1, scale_pos_weight=1, subsample=1,\n",
    "              tree_method='gpu_hist', use_label_encoder=True,\n",
    "              validate_parameters=1, verbosity=0)\n",
    "    \n",
    "    ada = AdaBoostClassifier(algorithm='SAMME.R', base_estimator=None, learning_rate=1.0,\n",
    "                           n_estimators=50, random_state=1)\n",
    "    rf = RandomForestClassifier(bootstrap=True,ccp_alpha=0.0,\n",
    "                               class_weight=None,criterion='gini',\n",
    "                               max_depth=None,max_features='auto',\n",
    "                               max_leaf_nodes=None, max_samples=None,\n",
    "                               min_impurity_decrease=0.0,min_samples_leaf=1, min_samples_split=2,\n",
    "                               min_weight_fraction_leaf=0.0, n_estimators=100,\n",
    "                               n_jobs=-1,oob_score=False,random_state=1,verbose=0,\n",
    "                               warm_start=False)\n",
    "    lgbm = lightgbm.LGBMClassifier(boosting_type='gbdt', class_weight=None, colsample_bytree=1.0,\n",
    "                                  importance_type='split', learning_rate=0.1,\n",
    "                                   max_depth=-1, min_child_samples=20, min_child_weight=0.001,\n",
    "                                   min_split_gain=0.0, n_estimators=100, n_jobs=-1, num_leaves=31,\n",
    "                                   objective=None, random_state=1, reg_alpha=0.0, reg_lambda=0.0,\n",
    "                                   silent=True, subsample=1.0, subsample_for_bin=200000,\n",
    "                                   subsample_freq=0)"
   ]
  },
  {
   "cell_type": "code",
   "execution_count": null,
   "metadata": {},
   "outputs": [
    {
     "name": "stdout",
     "output_type": "stream",
     "text": [
      "5497\n"
     ]
    },
    {
     "name": "stderr",
     "output_type": "stream",
     "text": [
      "D:\\anaconda\\lib\\site-packages\\xgboost\\sklearn.py:1146: UserWarning: The use of label encoder in XGBClassifier is deprecated and will be removed in a future release. To remove this warning, do the following: 1) Pass option use_label_encoder=False when constructing XGBClassifier object; and 2) Encode your labels (y) as integers starting with 0, i.e. 0, 1, 2, ..., [num_class - 1].\n",
      "  warnings.warn(label_encoder_deprecation_msg, UserWarning)\n"
     ]
    },
    {
     "name": "stdout",
     "output_type": "stream",
     "text": [
      "5497\n"
     ]
    },
    {
     "name": "stderr",
     "output_type": "stream",
     "text": [
      "D:\\anaconda\\lib\\site-packages\\xgboost\\sklearn.py:1146: UserWarning: The use of label encoder in XGBClassifier is deprecated and will be removed in a future release. To remove this warning, do the following: 1) Pass option use_label_encoder=False when constructing XGBClassifier object; and 2) Encode your labels (y) as integers starting with 0, i.e. 0, 1, 2, ..., [num_class - 1].\n",
      "  warnings.warn(label_encoder_deprecation_msg, UserWarning)\n"
     ]
    },
    {
     "name": "stdout",
     "output_type": "stream",
     "text": [
      "rf 7\n",
      "5497\n"
     ]
    },
    {
     "name": "stderr",
     "output_type": "stream",
     "text": [
      "D:\\anaconda\\lib\\site-packages\\xgboost\\sklearn.py:1146: UserWarning: The use of label encoder in XGBClassifier is deprecated and will be removed in a future release. To remove this warning, do the following: 1) Pass option use_label_encoder=False when constructing XGBClassifier object; and 2) Encode your labels (y) as integers starting with 0, i.e. 0, 1, 2, ..., [num_class - 1].\n",
      "  warnings.warn(label_encoder_deprecation_msg, UserWarning)\n"
     ]
    },
    {
     "name": "stdout",
     "output_type": "stream",
     "text": [
      "lgbm 8\n",
      "5497\n"
     ]
    },
    {
     "name": "stderr",
     "output_type": "stream",
     "text": [
      "D:\\anaconda\\lib\\site-packages\\xgboost\\sklearn.py:1146: UserWarning: The use of label encoder in XGBClassifier is deprecated and will be removed in a future release. To remove this warning, do the following: 1) Pass option use_label_encoder=False when constructing XGBClassifier object; and 2) Encode your labels (y) as integers starting with 0, i.e. 0, 1, 2, ..., [num_class - 1].\n",
      "  warnings.warn(label_encoder_deprecation_msg, UserWarning)\n"
     ]
    },
    {
     "name": "stdout",
     "output_type": "stream",
     "text": [
      "5497\n"
     ]
    },
    {
     "name": "stderr",
     "output_type": "stream",
     "text": [
      "D:\\anaconda\\lib\\site-packages\\xgboost\\sklearn.py:1146: UserWarning: The use of label encoder in XGBClassifier is deprecated and will be removed in a future release. To remove this warning, do the following: 1) Pass option use_label_encoder=False when constructing XGBClassifier object; and 2) Encode your labels (y) as integers starting with 0, i.e. 0, 1, 2, ..., [num_class - 1].\n",
      "  warnings.warn(label_encoder_deprecation_msg, UserWarning)\n"
     ]
    }
   ],
   "source": [
    "%%time\n",
    "for train_index, test_index in skf.split(X, Y):\n",
    "    print(len(test_index))\n",
    "    \n",
    "    x_train_fold, x_test_fold = X.iloc[train_index,:], X.iloc[test_index,:]\n",
    "    y_train_fold, y_test_fold = Y[train_index], Y[test_index]\n",
    "    oversample = SMOTE()\n",
    "    x_train, y_train = oversample.fit_resample(x_train_fold, y_train_fold)\n",
    "    \n",
    "    xgb_clf = xgb.fit(x_train,y_train)\n",
    "    ada_clf = ada.fit(x_train,y_train)\n",
    "    rf_clf = rf.fit(x_train,y_train)\n",
    "    lgbm_clf = lgbm.fit(x_train,y_train)\n",
    "    \n",
    "    y_pred = ada.predict(x_test_fold)\n",
    "    y_true = y_test_fold.tolist()\n",
    "    ada_acc = accuracy_score(y_true,y_pred)\n",
    "    ada_f1 = f1_score(y_true,y_pred)\n",
    "    ada_precision = precision_score(y_true,y_pred)\n",
    "    ada_recall = recall_score(y_true,y_pred)\n",
    "    ada_aucroc = roc_auc_score(y_true,y_pred)\n",
    "    ada_lst_accu_stratified.append(ada_acc)\n",
    "    ada_lst_f1_stratified.append(ada_f1)\n",
    "    ada_lst_prec_stratified.append(ada_precision)\n",
    "    ada_lst_recall_stratified.append(ada_recall)\n",
    "    ada_lst_aucroc_stratified.append(ada_aucroc)\n",
    "    \n",
    "    y_pred = xgb.predict(x_test_fold)\n",
    "    xgb_acc = accuracy_score(y_true,y_pred)\n",
    "    xgb_f1 = f1_score(y_true,y_pred)\n",
    "    xgb_precision = precision_score(y_true,y_pred)\n",
    "    xgb_recall = recall_score(y_true,y_pred)\n",
    "    xgb_aucroc = roc_auc_score(y_true,y_pred)\n",
    "    xgb_lst_accu_stratified.append(xgb_acc)\n",
    "    xgb_lst_f1_stratified.append(xgb_f1)\n",
    "    xgb_lst_prec_stratified.append(xgb_precision)\n",
    "    xgb_lst_recall_stratified.append(xgb_recall)\n",
    "    xgb_lst_aucroc_stratified.append(xgb_aucroc)\n",
    "    \n",
    "    y_pred = lgbm.predict(x_test_fold)\n",
    "    lgbm_acc = accuracy_score(y_true,y_pred)\n",
    "    lgbm_f1 = f1_score(y_true,y_pred)\n",
    "    lgbm_precision = precision_score(y_true,y_pred)\n",
    "    lgbm_recall = recall_score(y_true,y_pred)\n",
    "    lgbm_aucroc = roc_auc_score(y_true,y_pred)\n",
    "    lgbm_lst_accu_stratified.append(lgbm_acc)\n",
    "    lgbm_lst_f1_stratified.append(lgbm_f1)\n",
    "    lgbm_lst_prec_stratified.append(lgbm_precision)\n",
    "    lgbm_lst_recall_stratified.append(lgbm_recall)\n",
    "    lgbm_lst_aucroc_stratified.append(lgbm_aucroc)\n",
    "    \n",
    "    y_pred = rf.predict(x_test_fold)\n",
    "    rf_acc = accuracy_score(y_true,y_pred)\n",
    "    rf_f1 = f1_score(y_true,y_pred)\n",
    "    rf_precision = precision_score(y_true,y_pred)\n",
    "    rf_recall = recall_score(y_true,y_pred)\n",
    "    rf_aucroc = roc_auc_score(y_true,y_pred)\n",
    "    rf_lst_accu_stratified.append(rf_acc)\n",
    "    rf_lst_f1_stratified.append(rf_f1)\n",
    "    rf_lst_prec_stratified.append(rf_precision)\n",
    "    rf_lst_recall_stratified.append(rf_recall)\n",
    "    rf_lst_aucroc_stratified.append(rf_aucroc)\n",
    "    \n",
    "    if rf_f1 > rf_temp:\n",
    "        rf_temp = rf_f1\n",
    "        filename = str(rf_counter)+\"rf_model.pkl\"\n",
    "        pickle.dump(rf_clf,open(filename,'wb'))\n",
    "        print(\"rf \"+str(rf_counter))\n",
    "    rf_counter = rf_counter+1\n",
    "        \n",
    "    if ada_f1 > ada_temp:\n",
    "        ada_temp = ada_f1\n",
    "        filename = str(ada_counter)+\"ada_model.pkl\"\n",
    "        pickle.dump(ada_clf,open(filename,'wb'))\n",
    "        print(\"ada \" + str(ada_counter))\n",
    "    ada_counter = ada_counter+1\n",
    "    \n",
    "    if xgb_f1 > xgb_temp:\n",
    "        xgb_temp = xgb_f1\n",
    "        filename = str(xgb_counter)+\"xgb_model.pkl\"\n",
    "        pickle.dump(xgb_clf,open(filename,'wb'))\n",
    "        print(\"xgb \"+str(xgb_counter))\n",
    "    xgb_counter = xgb_counter+1\n",
    "        \n",
    "    if lgbm_f1 > lgbm_temp:\n",
    "        lgbm_temp = lgbm_f1\n",
    "        filename = str(lgbm_counter)+\"lgbm_model.pkl\"\n",
    "        pickle.dump(lgbm_clf,open(filename,'wb'))\n",
    "        print(\"lgbm \"+str(lgbm_counter))\n",
    "    lgbm_counter = lgbm_counter+1"
   ]
  },
  {
   "cell_type": "markdown",
   "metadata": {},
   "source": [
    "# rf"
   ]
  },
  {
   "cell_type": "code",
   "execution_count": null,
   "metadata": {},
   "outputs": [],
   "source": [
    "print (\"Average accuracy => \"+ str(sum(rf_lst_accu_stratified)/len(rf_lst_accu_stratified)))"
   ]
  },
  {
   "cell_type": "code",
   "execution_count": null,
   "metadata": {},
   "outputs": [],
   "source": [
    "print (\"Average F1 score => \"+ str(sum(rf_lst_f1_stratified)/len(rf_lst_f1_stratified)))"
   ]
  },
  {
   "cell_type": "code",
   "execution_count": null,
   "metadata": {},
   "outputs": [],
   "source": [
    "print (\"Average precision => \"+ str(sum(rf_lst_prec_stratified)/len(rf_lst_prec_stratified)))"
   ]
  },
  {
   "cell_type": "code",
   "execution_count": null,
   "metadata": {},
   "outputs": [],
   "source": [
    "print (\"Average recall => \"+ str(sum(rf_lst_recall_stratified)/len(rf_lst_recall_stratified)))"
   ]
  },
  {
   "cell_type": "code",
   "execution_count": null,
   "metadata": {},
   "outputs": [],
   "source": [
    "print (\"Average AUC ROC score => \"+ str(sum(rf_lst_aucroc_stratified)/len(rf_lst_aucroc_stratified)))"
   ]
  },
  {
   "cell_type": "markdown",
   "metadata": {},
   "source": [
    "## ada"
   ]
  },
  {
   "cell_type": "code",
   "execution_count": null,
   "metadata": {},
   "outputs": [],
   "source": [
    "print (\"Average accuracy => \"+ str(sum(ada_lst_accu_stratified)/len(ada_lst_accu_stratified)))"
   ]
  },
  {
   "cell_type": "code",
   "execution_count": null,
   "metadata": {},
   "outputs": [],
   "source": [
    "print (\"Average F1 score => \"+ str(sum(ada_lst_f1_stratified)/len(ada_lst_f1_stratified)))"
   ]
  },
  {
   "cell_type": "code",
   "execution_count": null,
   "metadata": {},
   "outputs": [],
   "source": [
    "print (\"Average precision => \"+ str(sum(ada_lst_prec_stratified)/len(ada_lst_prec_stratified)))"
   ]
  },
  {
   "cell_type": "code",
   "execution_count": null,
   "metadata": {},
   "outputs": [],
   "source": [
    "print (\"Average recall => \"+ str(sum(ada_lst_recall_stratified)/len(ada_lst_recall_stratified)))"
   ]
  },
  {
   "cell_type": "code",
   "execution_count": null,
   "metadata": {},
   "outputs": [],
   "source": [
    "print (\"Average AUC ROC score => \"+ str(sum(ada_lst_aucroc_stratified)/len(ada_lst_aucroc_stratified)))"
   ]
  },
  {
   "cell_type": "markdown",
   "metadata": {},
   "source": [
    "## xgb"
   ]
  },
  {
   "cell_type": "code",
   "execution_count": null,
   "metadata": {},
   "outputs": [],
   "source": [
    "print (\"Average accuracy => \"+ str(sum(xgb_lst_accu_stratified)/len(xgb_lst_accu_stratified)))"
   ]
  },
  {
   "cell_type": "code",
   "execution_count": null,
   "metadata": {},
   "outputs": [],
   "source": [
    "print (\"Average F1 score => \"+ str(sum(xgb_lst_f1_stratified)/len(xgb_lst_f1_stratified)))"
   ]
  },
  {
   "cell_type": "code",
   "execution_count": null,
   "metadata": {},
   "outputs": [],
   "source": [
    "print (\"Average precision => \"+ str(sum(xgb_lst_prec_stratified)/len(xgb_lst_prec_stratified)))"
   ]
  },
  {
   "cell_type": "code",
   "execution_count": null,
   "metadata": {},
   "outputs": [],
   "source": [
    "print (\"Average recall => \"+ str(sum(xgb_lst_recall_stratified)/len(xgb_lst_recall_stratified)))"
   ]
  },
  {
   "cell_type": "code",
   "execution_count": null,
   "metadata": {},
   "outputs": [],
   "source": [
    "print (\"Average AUC ROC score => \"+ str(sum(xgb_lst_aucroc_stratified)/len(xgb_lst_aucroc_stratified)))"
   ]
  },
  {
   "cell_type": "markdown",
   "metadata": {},
   "source": [
    "## lgbm"
   ]
  },
  {
   "cell_type": "code",
   "execution_count": null,
   "metadata": {},
   "outputs": [],
   "source": [
    "print (\"Average accuracy => \"+ str(sum(lgbm_lst_accu_stratified)/len(lgbm_lst_accu_stratified)))"
   ]
  },
  {
   "cell_type": "code",
   "execution_count": null,
   "metadata": {},
   "outputs": [],
   "source": [
    "print (\"Average F1 score => \"+ str(sum(lgbm_lst_f1_stratified)/len(lgbm_lst_f1_stratified)))"
   ]
  },
  {
   "cell_type": "code",
   "execution_count": null,
   "metadata": {},
   "outputs": [],
   "source": [
    "print (\"Average precision => \"+ str(sum(lgbm_lst_prec_stratified)/len(lgbm_lst_prec_stratified)))"
   ]
  },
  {
   "cell_type": "code",
   "execution_count": null,
   "metadata": {},
   "outputs": [],
   "source": [
    "print (\"Average recall => \"+ str(sum(lgbm_lst_recall_stratified)/len(lgbm_lst_recall_stratified)))"
   ]
  },
  {
   "cell_type": "code",
   "execution_count": null,
   "metadata": {},
   "outputs": [],
   "source": [
    "print (\"Average AUC ROC score => \"+ str(sum(lgbm_lst_aucroc_stratified)/len(lgbm_lst_aucroc_stratified)))"
   ]
  }
 ],
 "metadata": {
  "kernelspec": {
   "display_name": "Python 3",
   "language": "python",
   "name": "python3"
  },
  "language_info": {
   "codemirror_mode": {
    "name": "ipython",
    "version": 3
   },
   "file_extension": ".py",
   "mimetype": "text/x-python",
   "name": "python",
   "nbconvert_exporter": "python",
   "pygments_lexer": "ipython3",
   "version": "3.8.5"
  }
 },
 "nbformat": 4,
 "nbformat_minor": 5
}
